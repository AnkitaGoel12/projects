{
 "cells": [
  {
   "cell_type": "code",
   "execution_count": 441,
   "metadata": {
    "collapsed": true
   },
   "outputs": [],
   "source": [
    "import pandas as pd\n",
    "import numpy as np"
   ]
  },
  {
   "cell_type": "code",
   "execution_count": 442,
   "metadata": {
    "collapsed": true
   },
   "outputs": [],
   "source": [
    "# Load the data\n",
    "credit_data = pd.read_csv(\"details.csv\")"
   ]
  },
  {
   "cell_type": "code",
   "execution_count": 443,
   "metadata": {},
   "outputs": [
    {
     "data": {
      "text/html": [
       "<div>\n",
       "<style>\n",
       "    .dataframe thead tr:only-child th {\n",
       "        text-align: right;\n",
       "    }\n",
       "\n",
       "    .dataframe thead th {\n",
       "        text-align: left;\n",
       "    }\n",
       "\n",
       "    .dataframe tbody tr th {\n",
       "        vertical-align: top;\n",
       "    }\n",
       "</style>\n",
       "<table border=\"1\" class=\"dataframe\">\n",
       "  <thead>\n",
       "    <tr style=\"text-align: right;\">\n",
       "      <th></th>\n",
       "      <th>Unnamed: 0</th>\n",
       "      <th>region</th>\n",
       "      <th>townsize</th>\n",
       "      <th>gender</th>\n",
       "      <th>age</th>\n",
       "      <th>agecat</th>\n",
       "      <th>ed</th>\n",
       "      <th>edcat</th>\n",
       "      <th>jobcat</th>\n",
       "      <th>union</th>\n",
       "      <th>...</th>\n",
       "      <th>ownpda</th>\n",
       "      <th>ownpc</th>\n",
       "      <th>ownipod</th>\n",
       "      <th>owngame</th>\n",
       "      <th>ownfax</th>\n",
       "      <th>news</th>\n",
       "      <th>response_01</th>\n",
       "      <th>response_02</th>\n",
       "      <th>response_03</th>\n",
       "      <th>ln_avg_card_spent</th>\n",
       "    </tr>\n",
       "  </thead>\n",
       "  <tbody>\n",
       "    <tr>\n",
       "      <th>0</th>\n",
       "      <td>0</td>\n",
       "      <td>1</td>\n",
       "      <td>2.0</td>\n",
       "      <td>1</td>\n",
       "      <td>20</td>\n",
       "      <td>2</td>\n",
       "      <td>15</td>\n",
       "      <td>3</td>\n",
       "      <td>1</td>\n",
       "      <td>1</td>\n",
       "      <td>...</td>\n",
       "      <td>0</td>\n",
       "      <td>0</td>\n",
       "      <td>1</td>\n",
       "      <td>1</td>\n",
       "      <td>0</td>\n",
       "      <td>0</td>\n",
       "      <td>0</td>\n",
       "      <td>1</td>\n",
       "      <td>0</td>\n",
       "      <td>4.439470</td>\n",
       "    </tr>\n",
       "    <tr>\n",
       "      <th>1</th>\n",
       "      <td>1</td>\n",
       "      <td>5</td>\n",
       "      <td>5.0</td>\n",
       "      <td>0</td>\n",
       "      <td>22</td>\n",
       "      <td>2</td>\n",
       "      <td>17</td>\n",
       "      <td>4</td>\n",
       "      <td>2</td>\n",
       "      <td>0</td>\n",
       "      <td>...</td>\n",
       "      <td>1</td>\n",
       "      <td>1</td>\n",
       "      <td>1</td>\n",
       "      <td>1</td>\n",
       "      <td>1</td>\n",
       "      <td>1</td>\n",
       "      <td>0</td>\n",
       "      <td>0</td>\n",
       "      <td>0</td>\n",
       "      <td>3.887115</td>\n",
       "    </tr>\n",
       "    <tr>\n",
       "      <th>2</th>\n",
       "      <td>2</td>\n",
       "      <td>3</td>\n",
       "      <td>4.0</td>\n",
       "      <td>1</td>\n",
       "      <td>67</td>\n",
       "      <td>6</td>\n",
       "      <td>14</td>\n",
       "      <td>2</td>\n",
       "      <td>2</td>\n",
       "      <td>0</td>\n",
       "      <td>...</td>\n",
       "      <td>0</td>\n",
       "      <td>0</td>\n",
       "      <td>0</td>\n",
       "      <td>0</td>\n",
       "      <td>0</td>\n",
       "      <td>1</td>\n",
       "      <td>0</td>\n",
       "      <td>0</td>\n",
       "      <td>0</td>\n",
       "      <td>5.246945</td>\n",
       "    </tr>\n",
       "    <tr>\n",
       "      <th>3</th>\n",
       "      <td>3</td>\n",
       "      <td>4</td>\n",
       "      <td>3.0</td>\n",
       "      <td>0</td>\n",
       "      <td>23</td>\n",
       "      <td>2</td>\n",
       "      <td>16</td>\n",
       "      <td>3</td>\n",
       "      <td>2</td>\n",
       "      <td>0</td>\n",
       "      <td>...</td>\n",
       "      <td>0</td>\n",
       "      <td>1</td>\n",
       "      <td>1</td>\n",
       "      <td>1</td>\n",
       "      <td>0</td>\n",
       "      <td>1</td>\n",
       "      <td>1</td>\n",
       "      <td>0</td>\n",
       "      <td>0</td>\n",
       "      <td>5.245470</td>\n",
       "    </tr>\n",
       "    <tr>\n",
       "      <th>4</th>\n",
       "      <td>4</td>\n",
       "      <td>2</td>\n",
       "      <td>2.0</td>\n",
       "      <td>0</td>\n",
       "      <td>26</td>\n",
       "      <td>3</td>\n",
       "      <td>16</td>\n",
       "      <td>3</td>\n",
       "      <td>2</td>\n",
       "      <td>0</td>\n",
       "      <td>...</td>\n",
       "      <td>0</td>\n",
       "      <td>1</td>\n",
       "      <td>0</td>\n",
       "      <td>1</td>\n",
       "      <td>0</td>\n",
       "      <td>0</td>\n",
       "      <td>0</td>\n",
       "      <td>1</td>\n",
       "      <td>0</td>\n",
       "      <td>5.575627</td>\n",
       "    </tr>\n",
       "  </tbody>\n",
       "</table>\n",
       "<p>5 rows × 116 columns</p>\n",
       "</div>"
      ],
      "text/plain": [
       "   Unnamed: 0  region  townsize  gender  age  agecat  ed  edcat  jobcat  \\\n",
       "0           0       1       2.0       1   20       2  15      3       1   \n",
       "1           1       5       5.0       0   22       2  17      4       2   \n",
       "2           2       3       4.0       1   67       6  14      2       2   \n",
       "3           3       4       3.0       0   23       2  16      3       2   \n",
       "4           4       2       2.0       0   26       3  16      3       2   \n",
       "\n",
       "   union        ...          ownpda  ownpc  ownipod  owngame  ownfax  news  \\\n",
       "0      1        ...               0      0        1        1       0     0   \n",
       "1      0        ...               1      1        1        1       1     1   \n",
       "2      0        ...               0      0        0        0       0     1   \n",
       "3      0        ...               0      1        1        1       0     1   \n",
       "4      0        ...               0      1        0        1       0     0   \n",
       "\n",
       "   response_01  response_02  response_03  ln_avg_card_spent  \n",
       "0            0            1            0           4.439470  \n",
       "1            0            0            0           3.887115  \n",
       "2            0            0            0           5.246945  \n",
       "3            1            0            0           5.245470  \n",
       "4            0            1            0           5.575627  \n",
       "\n",
       "[5 rows x 116 columns]"
      ]
     },
     "execution_count": 443,
     "metadata": {},
     "output_type": "execute_result"
    }
   ],
   "source": [
    "credit_data.head(5)"
   ]
  },
  {
   "cell_type": "code",
   "execution_count": 444,
   "metadata": {},
   "outputs": [
    {
     "data": {
      "text/html": [
       "<div>\n",
       "<style>\n",
       "    .dataframe thead tr:only-child th {\n",
       "        text-align: right;\n",
       "    }\n",
       "\n",
       "    .dataframe thead th {\n",
       "        text-align: left;\n",
       "    }\n",
       "\n",
       "    .dataframe tbody tr th {\n",
       "        vertical-align: top;\n",
       "    }\n",
       "</style>\n",
       "<table border=\"1\" class=\"dataframe\">\n",
       "  <thead>\n",
       "    <tr style=\"text-align: right;\">\n",
       "      <th></th>\n",
       "      <th>region</th>\n",
       "      <th>townsize</th>\n",
       "      <th>gender</th>\n",
       "      <th>age</th>\n",
       "      <th>agecat</th>\n",
       "      <th>ed</th>\n",
       "      <th>edcat</th>\n",
       "      <th>jobcat</th>\n",
       "      <th>union</th>\n",
       "      <th>employ</th>\n",
       "      <th>...</th>\n",
       "      <th>ownpda</th>\n",
       "      <th>ownpc</th>\n",
       "      <th>ownipod</th>\n",
       "      <th>owngame</th>\n",
       "      <th>ownfax</th>\n",
       "      <th>news</th>\n",
       "      <th>response_01</th>\n",
       "      <th>response_02</th>\n",
       "      <th>response_03</th>\n",
       "      <th>ln_avg_card_spent</th>\n",
       "    </tr>\n",
       "  </thead>\n",
       "  <tbody>\n",
       "    <tr>\n",
       "      <th>0</th>\n",
       "      <td>1</td>\n",
       "      <td>2.0</td>\n",
       "      <td>1</td>\n",
       "      <td>20</td>\n",
       "      <td>2</td>\n",
       "      <td>15</td>\n",
       "      <td>3</td>\n",
       "      <td>1</td>\n",
       "      <td>1</td>\n",
       "      <td>0</td>\n",
       "      <td>...</td>\n",
       "      <td>0</td>\n",
       "      <td>0</td>\n",
       "      <td>1</td>\n",
       "      <td>1</td>\n",
       "      <td>0</td>\n",
       "      <td>0</td>\n",
       "      <td>0</td>\n",
       "      <td>1</td>\n",
       "      <td>0</td>\n",
       "      <td>4.439470</td>\n",
       "    </tr>\n",
       "    <tr>\n",
       "      <th>1</th>\n",
       "      <td>5</td>\n",
       "      <td>5.0</td>\n",
       "      <td>0</td>\n",
       "      <td>22</td>\n",
       "      <td>2</td>\n",
       "      <td>17</td>\n",
       "      <td>4</td>\n",
       "      <td>2</td>\n",
       "      <td>0</td>\n",
       "      <td>0</td>\n",
       "      <td>...</td>\n",
       "      <td>1</td>\n",
       "      <td>1</td>\n",
       "      <td>1</td>\n",
       "      <td>1</td>\n",
       "      <td>1</td>\n",
       "      <td>1</td>\n",
       "      <td>0</td>\n",
       "      <td>0</td>\n",
       "      <td>0</td>\n",
       "      <td>3.887115</td>\n",
       "    </tr>\n",
       "    <tr>\n",
       "      <th>2</th>\n",
       "      <td>3</td>\n",
       "      <td>4.0</td>\n",
       "      <td>1</td>\n",
       "      <td>67</td>\n",
       "      <td>6</td>\n",
       "      <td>14</td>\n",
       "      <td>2</td>\n",
       "      <td>2</td>\n",
       "      <td>0</td>\n",
       "      <td>16</td>\n",
       "      <td>...</td>\n",
       "      <td>0</td>\n",
       "      <td>0</td>\n",
       "      <td>0</td>\n",
       "      <td>0</td>\n",
       "      <td>0</td>\n",
       "      <td>1</td>\n",
       "      <td>0</td>\n",
       "      <td>0</td>\n",
       "      <td>0</td>\n",
       "      <td>5.246945</td>\n",
       "    </tr>\n",
       "    <tr>\n",
       "      <th>3</th>\n",
       "      <td>4</td>\n",
       "      <td>3.0</td>\n",
       "      <td>0</td>\n",
       "      <td>23</td>\n",
       "      <td>2</td>\n",
       "      <td>16</td>\n",
       "      <td>3</td>\n",
       "      <td>2</td>\n",
       "      <td>0</td>\n",
       "      <td>0</td>\n",
       "      <td>...</td>\n",
       "      <td>0</td>\n",
       "      <td>1</td>\n",
       "      <td>1</td>\n",
       "      <td>1</td>\n",
       "      <td>0</td>\n",
       "      <td>1</td>\n",
       "      <td>1</td>\n",
       "      <td>0</td>\n",
       "      <td>0</td>\n",
       "      <td>5.245470</td>\n",
       "    </tr>\n",
       "    <tr>\n",
       "      <th>4</th>\n",
       "      <td>2</td>\n",
       "      <td>2.0</td>\n",
       "      <td>0</td>\n",
       "      <td>26</td>\n",
       "      <td>3</td>\n",
       "      <td>16</td>\n",
       "      <td>3</td>\n",
       "      <td>2</td>\n",
       "      <td>0</td>\n",
       "      <td>1</td>\n",
       "      <td>...</td>\n",
       "      <td>0</td>\n",
       "      <td>1</td>\n",
       "      <td>0</td>\n",
       "      <td>1</td>\n",
       "      <td>0</td>\n",
       "      <td>0</td>\n",
       "      <td>0</td>\n",
       "      <td>1</td>\n",
       "      <td>0</td>\n",
       "      <td>5.575627</td>\n",
       "    </tr>\n",
       "  </tbody>\n",
       "</table>\n",
       "<p>5 rows × 115 columns</p>\n",
       "</div>"
      ],
      "text/plain": [
       "   region  townsize  gender  age  agecat  ed  edcat  jobcat  union  employ  \\\n",
       "0       1       2.0       1   20       2  15      3       1      1       0   \n",
       "1       5       5.0       0   22       2  17      4       2      0       0   \n",
       "2       3       4.0       1   67       6  14      2       2      0      16   \n",
       "3       4       3.0       0   23       2  16      3       2      0       0   \n",
       "4       2       2.0       0   26       3  16      3       2      0       1   \n",
       "\n",
       "         ...          ownpda  ownpc  ownipod  owngame  ownfax  news  \\\n",
       "0        ...               0      0        1        1       0     0   \n",
       "1        ...               1      1        1        1       1     1   \n",
       "2        ...               0      0        0        0       0     1   \n",
       "3        ...               0      1        1        1       0     1   \n",
       "4        ...               0      1        0        1       0     0   \n",
       "\n",
       "   response_01  response_02  response_03  ln_avg_card_spent  \n",
       "0            0            1            0           4.439470  \n",
       "1            0            0            0           3.887115  \n",
       "2            0            0            0           5.246945  \n",
       "3            1            0            0           5.245470  \n",
       "4            0            1            0           5.575627  \n",
       "\n",
       "[5 rows x 115 columns]"
      ]
     },
     "execution_count": 444,
     "metadata": {},
     "output_type": "execute_result"
    }
   ],
   "source": [
    "credit_data.drop(['Unnamed: 0'], inplace=True, axis=1)\n",
    "credit_data.head(5)"
   ]
  },
  {
   "cell_type": "code",
   "execution_count": 445,
   "metadata": {},
   "outputs": [
    {
     "name": "stdout",
     "output_type": "stream",
     "text": [
      "<class 'pandas.core.frame.DataFrame'>\n",
      "RangeIndex: 5000 entries, 0 to 4999\n",
      "Columns: 115 entries, region to ln_avg_card_spent\n",
      "dtypes: float64(24), int64(91)\n",
      "memory usage: 4.4 MB\n"
     ]
    }
   ],
   "source": [
    "credit_data.info()"
   ]
  },
  {
   "cell_type": "code",
   "execution_count": 446,
   "metadata": {},
   "outputs": [
    {
     "data": {
      "text/plain": [
       "Index(['region', 'townsize', 'gender', 'age', 'agecat', 'ed', 'edcat',\n",
       "       'jobcat', 'union', 'employ',\n",
       "       ...\n",
       "       'ownpda', 'ownpc', 'ownipod', 'owngame', 'ownfax', 'news',\n",
       "       'response_01', 'response_02', 'response_03', 'ln_avg_card_spent'],\n",
       "      dtype='object', length=115)"
      ]
     },
     "execution_count": 446,
     "metadata": {},
     "output_type": "execute_result"
    }
   ],
   "source": [
    "credit_data.columns"
   ]
  },
  {
   "cell_type": "code",
   "execution_count": 447,
   "metadata": {},
   "outputs": [
    {
     "data": {
      "text/plain": [
       "0"
      ]
     },
     "execution_count": 447,
     "metadata": {},
     "output_type": "execute_result"
    }
   ],
   "source": [
    "credit_data.isnull().any().sum()"
   ]
  },
  {
   "cell_type": "code",
   "execution_count": 448,
   "metadata": {},
   "outputs": [
    {
     "data": {
      "text/html": [
       "<div>\n",
       "<style>\n",
       "    .dataframe thead tr:only-child th {\n",
       "        text-align: right;\n",
       "    }\n",
       "\n",
       "    .dataframe thead th {\n",
       "        text-align: left;\n",
       "    }\n",
       "\n",
       "    .dataframe tbody tr th {\n",
       "        vertical-align: top;\n",
       "    }\n",
       "</style>\n",
       "<table border=\"1\" class=\"dataframe\">\n",
       "  <thead>\n",
       "    <tr style=\"text-align: right;\">\n",
       "      <th></th>\n",
       "      <th>count</th>\n",
       "      <th>mean</th>\n",
       "      <th>std</th>\n",
       "      <th>min</th>\n",
       "      <th>25%</th>\n",
       "      <th>50%</th>\n",
       "      <th>75%</th>\n",
       "      <th>max</th>\n",
       "    </tr>\n",
       "  </thead>\n",
       "  <tbody>\n",
       "    <tr>\n",
       "      <th>region</th>\n",
       "      <td>5000.0</td>\n",
       "      <td>3.001400</td>\n",
       "      <td>1.421760</td>\n",
       "      <td>1.000000</td>\n",
       "      <td>2.000000</td>\n",
       "      <td>3.000000</td>\n",
       "      <td>4.000000</td>\n",
       "      <td>5.000000</td>\n",
       "    </tr>\n",
       "    <tr>\n",
       "      <th>townsize</th>\n",
       "      <td>5000.0</td>\n",
       "      <td>2.687275</td>\n",
       "      <td>1.425640</td>\n",
       "      <td>1.000000</td>\n",
       "      <td>1.000000</td>\n",
       "      <td>3.000000</td>\n",
       "      <td>4.000000</td>\n",
       "      <td>5.000000</td>\n",
       "    </tr>\n",
       "    <tr>\n",
       "      <th>gender</th>\n",
       "      <td>5000.0</td>\n",
       "      <td>0.503600</td>\n",
       "      <td>0.500037</td>\n",
       "      <td>0.000000</td>\n",
       "      <td>0.000000</td>\n",
       "      <td>1.000000</td>\n",
       "      <td>1.000000</td>\n",
       "      <td>1.000000</td>\n",
       "    </tr>\n",
       "    <tr>\n",
       "      <th>age</th>\n",
       "      <td>5000.0</td>\n",
       "      <td>47.025600</td>\n",
       "      <td>17.770338</td>\n",
       "      <td>18.000000</td>\n",
       "      <td>31.000000</td>\n",
       "      <td>47.000000</td>\n",
       "      <td>62.000000</td>\n",
       "      <td>79.000000</td>\n",
       "    </tr>\n",
       "    <tr>\n",
       "      <th>agecat</th>\n",
       "      <td>5000.0</td>\n",
       "      <td>4.238800</td>\n",
       "      <td>1.308785</td>\n",
       "      <td>2.000000</td>\n",
       "      <td>3.000000</td>\n",
       "      <td>4.000000</td>\n",
       "      <td>5.000000</td>\n",
       "      <td>6.000000</td>\n",
       "    </tr>\n",
       "    <tr>\n",
       "      <th>ed</th>\n",
       "      <td>5000.0</td>\n",
       "      <td>14.543000</td>\n",
       "      <td>3.281083</td>\n",
       "      <td>6.000000</td>\n",
       "      <td>12.000000</td>\n",
       "      <td>14.000000</td>\n",
       "      <td>17.000000</td>\n",
       "      <td>23.000000</td>\n",
       "    </tr>\n",
       "    <tr>\n",
       "      <th>edcat</th>\n",
       "      <td>5000.0</td>\n",
       "      <td>2.672000</td>\n",
       "      <td>1.211738</td>\n",
       "      <td>1.000000</td>\n",
       "      <td>2.000000</td>\n",
       "      <td>2.000000</td>\n",
       "      <td>4.000000</td>\n",
       "      <td>5.000000</td>\n",
       "    </tr>\n",
       "    <tr>\n",
       "      <th>jobcat</th>\n",
       "      <td>5000.0</td>\n",
       "      <td>2.752800</td>\n",
       "      <td>1.737900</td>\n",
       "      <td>1.000000</td>\n",
       "      <td>1.000000</td>\n",
       "      <td>2.000000</td>\n",
       "      <td>4.000000</td>\n",
       "      <td>6.000000</td>\n",
       "    </tr>\n",
       "    <tr>\n",
       "      <th>union</th>\n",
       "      <td>5000.0</td>\n",
       "      <td>0.151200</td>\n",
       "      <td>0.358280</td>\n",
       "      <td>0.000000</td>\n",
       "      <td>0.000000</td>\n",
       "      <td>0.000000</td>\n",
       "      <td>0.000000</td>\n",
       "      <td>1.000000</td>\n",
       "    </tr>\n",
       "    <tr>\n",
       "      <th>employ</th>\n",
       "      <td>5000.0</td>\n",
       "      <td>9.730400</td>\n",
       "      <td>9.690929</td>\n",
       "      <td>0.000000</td>\n",
       "      <td>2.000000</td>\n",
       "      <td>7.000000</td>\n",
       "      <td>15.000000</td>\n",
       "      <td>52.000000</td>\n",
       "    </tr>\n",
       "    <tr>\n",
       "      <th>empcat</th>\n",
       "      <td>5000.0</td>\n",
       "      <td>2.932600</td>\n",
       "      <td>1.453300</td>\n",
       "      <td>1.000000</td>\n",
       "      <td>2.000000</td>\n",
       "      <td>3.000000</td>\n",
       "      <td>4.000000</td>\n",
       "      <td>5.000000</td>\n",
       "    </tr>\n",
       "    <tr>\n",
       "      <th>retire</th>\n",
       "      <td>5000.0</td>\n",
       "      <td>0.147600</td>\n",
       "      <td>0.354739</td>\n",
       "      <td>0.000000</td>\n",
       "      <td>0.000000</td>\n",
       "      <td>0.000000</td>\n",
       "      <td>0.000000</td>\n",
       "      <td>1.000000</td>\n",
       "    </tr>\n",
       "    <tr>\n",
       "      <th>income</th>\n",
       "      <td>5000.0</td>\n",
       "      <td>54.759600</td>\n",
       "      <td>55.377511</td>\n",
       "      <td>9.000000</td>\n",
       "      <td>24.000000</td>\n",
       "      <td>38.000000</td>\n",
       "      <td>67.000000</td>\n",
       "      <td>1073.000000</td>\n",
       "    </tr>\n",
       "    <tr>\n",
       "      <th>lninc</th>\n",
       "      <td>5000.0</td>\n",
       "      <td>3.699840</td>\n",
       "      <td>0.746945</td>\n",
       "      <td>2.200000</td>\n",
       "      <td>3.180000</td>\n",
       "      <td>3.640000</td>\n",
       "      <td>4.200000</td>\n",
       "      <td>6.980000</td>\n",
       "    </tr>\n",
       "    <tr>\n",
       "      <th>inccat</th>\n",
       "      <td>5000.0</td>\n",
       "      <td>2.392200</td>\n",
       "      <td>1.221261</td>\n",
       "      <td>1.000000</td>\n",
       "      <td>1.000000</td>\n",
       "      <td>2.000000</td>\n",
       "      <td>3.000000</td>\n",
       "      <td>5.000000</td>\n",
       "    </tr>\n",
       "    <tr>\n",
       "      <th>debtinc</th>\n",
       "      <td>5000.0</td>\n",
       "      <td>9.954160</td>\n",
       "      <td>6.399783</td>\n",
       "      <td>0.000000</td>\n",
       "      <td>5.100000</td>\n",
       "      <td>8.800000</td>\n",
       "      <td>13.600000</td>\n",
       "      <td>43.100000</td>\n",
       "    </tr>\n",
       "    <tr>\n",
       "      <th>creddebt</th>\n",
       "      <td>5000.0</td>\n",
       "      <td>1.857364</td>\n",
       "      <td>3.415789</td>\n",
       "      <td>0.000000</td>\n",
       "      <td>0.390000</td>\n",
       "      <td>0.930000</td>\n",
       "      <td>2.060000</td>\n",
       "      <td>109.070000</td>\n",
       "    </tr>\n",
       "    <tr>\n",
       "      <th>lncreddebt</th>\n",
       "      <td>5000.0</td>\n",
       "      <td>-0.130460</td>\n",
       "      <td>1.272893</td>\n",
       "      <td>-6.600000</td>\n",
       "      <td>-0.950000</td>\n",
       "      <td>-0.080000</td>\n",
       "      <td>0.720000</td>\n",
       "      <td>4.690000</td>\n",
       "    </tr>\n",
       "    <tr>\n",
       "      <th>othdebt</th>\n",
       "      <td>5000.0</td>\n",
       "      <td>3.654456</td>\n",
       "      <td>5.395214</td>\n",
       "      <td>0.000000</td>\n",
       "      <td>0.980000</td>\n",
       "      <td>2.100000</td>\n",
       "      <td>4.310000</td>\n",
       "      <td>141.460000</td>\n",
       "    </tr>\n",
       "    <tr>\n",
       "      <th>lnothdebt</th>\n",
       "      <td>5000.0</td>\n",
       "      <td>0.696949</td>\n",
       "      <td>1.128475</td>\n",
       "      <td>-4.090000</td>\n",
       "      <td>-0.020000</td>\n",
       "      <td>0.740000</td>\n",
       "      <td>1.460000</td>\n",
       "      <td>4.950000</td>\n",
       "    </tr>\n",
       "    <tr>\n",
       "      <th>default</th>\n",
       "      <td>5000.0</td>\n",
       "      <td>0.234200</td>\n",
       "      <td>0.423540</td>\n",
       "      <td>0.000000</td>\n",
       "      <td>0.000000</td>\n",
       "      <td>0.000000</td>\n",
       "      <td>0.000000</td>\n",
       "      <td>1.000000</td>\n",
       "    </tr>\n",
       "    <tr>\n",
       "      <th>jobsat</th>\n",
       "      <td>5000.0</td>\n",
       "      <td>2.964200</td>\n",
       "      <td>1.379456</td>\n",
       "      <td>1.000000</td>\n",
       "      <td>2.000000</td>\n",
       "      <td>3.000000</td>\n",
       "      <td>4.000000</td>\n",
       "      <td>5.000000</td>\n",
       "    </tr>\n",
       "    <tr>\n",
       "      <th>marital</th>\n",
       "      <td>5000.0</td>\n",
       "      <td>0.480200</td>\n",
       "      <td>0.499658</td>\n",
       "      <td>0.000000</td>\n",
       "      <td>0.000000</td>\n",
       "      <td>0.000000</td>\n",
       "      <td>1.000000</td>\n",
       "      <td>1.000000</td>\n",
       "    </tr>\n",
       "    <tr>\n",
       "      <th>spoused</th>\n",
       "      <td>5000.0</td>\n",
       "      <td>6.112800</td>\n",
       "      <td>7.743518</td>\n",
       "      <td>-1.000000</td>\n",
       "      <td>-1.000000</td>\n",
       "      <td>-1.000000</td>\n",
       "      <td>14.000000</td>\n",
       "      <td>24.000000</td>\n",
       "    </tr>\n",
       "    <tr>\n",
       "      <th>spousedcat</th>\n",
       "      <td>5000.0</td>\n",
       "      <td>0.641400</td>\n",
       "      <td>1.886775</td>\n",
       "      <td>-1.000000</td>\n",
       "      <td>-1.000000</td>\n",
       "      <td>-1.000000</td>\n",
       "      <td>2.000000</td>\n",
       "      <td>5.000000</td>\n",
       "    </tr>\n",
       "    <tr>\n",
       "      <th>reside</th>\n",
       "      <td>5000.0</td>\n",
       "      <td>2.204000</td>\n",
       "      <td>1.393977</td>\n",
       "      <td>1.000000</td>\n",
       "      <td>1.000000</td>\n",
       "      <td>2.000000</td>\n",
       "      <td>3.000000</td>\n",
       "      <td>9.000000</td>\n",
       "    </tr>\n",
       "    <tr>\n",
       "      <th>homeown</th>\n",
       "      <td>5000.0</td>\n",
       "      <td>0.629600</td>\n",
       "      <td>0.482960</td>\n",
       "      <td>0.000000</td>\n",
       "      <td>0.000000</td>\n",
       "      <td>1.000000</td>\n",
       "      <td>1.000000</td>\n",
       "      <td>1.000000</td>\n",
       "    </tr>\n",
       "    <tr>\n",
       "      <th>hometype</th>\n",
       "      <td>5000.0</td>\n",
       "      <td>1.842600</td>\n",
       "      <td>0.916730</td>\n",
       "      <td>1.000000</td>\n",
       "      <td>1.000000</td>\n",
       "      <td>2.000000</td>\n",
       "      <td>2.000000</td>\n",
       "      <td>4.000000</td>\n",
       "    </tr>\n",
       "    <tr>\n",
       "      <th>address</th>\n",
       "      <td>5000.0</td>\n",
       "      <td>16.402400</td>\n",
       "      <td>12.397484</td>\n",
       "      <td>0.000000</td>\n",
       "      <td>6.000000</td>\n",
       "      <td>14.000000</td>\n",
       "      <td>25.000000</td>\n",
       "      <td>57.000000</td>\n",
       "    </tr>\n",
       "    <tr>\n",
       "      <th>addresscat</th>\n",
       "      <td>5000.0</td>\n",
       "      <td>3.272000</td>\n",
       "      <td>1.319987</td>\n",
       "      <td>1.000000</td>\n",
       "      <td>2.000000</td>\n",
       "      <td>3.000000</td>\n",
       "      <td>4.000000</td>\n",
       "      <td>5.000000</td>\n",
       "    </tr>\n",
       "    <tr>\n",
       "      <th>...</th>\n",
       "      <td>...</td>\n",
       "      <td>...</td>\n",
       "      <td>...</td>\n",
       "      <td>...</td>\n",
       "      <td>...</td>\n",
       "      <td>...</td>\n",
       "      <td>...</td>\n",
       "      <td>...</td>\n",
       "    </tr>\n",
       "    <tr>\n",
       "      <th>lncardmon</th>\n",
       "      <td>5000.0</td>\n",
       "      <td>2.909609</td>\n",
       "      <td>0.478292</td>\n",
       "      <td>1.180000</td>\n",
       "      <td>2.690000</td>\n",
       "      <td>2.909609</td>\n",
       "      <td>3.120000</td>\n",
       "      <td>5.240000</td>\n",
       "    </tr>\n",
       "    <tr>\n",
       "      <th>cardten</th>\n",
       "      <td>5000.0</td>\n",
       "      <td>720.478391</td>\n",
       "      <td>922.041026</td>\n",
       "      <td>0.000000</td>\n",
       "      <td>0.000000</td>\n",
       "      <td>425.000000</td>\n",
       "      <td>1080.000000</td>\n",
       "      <td>13705.000000</td>\n",
       "    </tr>\n",
       "    <tr>\n",
       "      <th>lncardten</th>\n",
       "      <td>5000.0</td>\n",
       "      <td>6.426193</td>\n",
       "      <td>0.991433</td>\n",
       "      <td>1.560000</td>\n",
       "      <td>6.220000</td>\n",
       "      <td>6.426193</td>\n",
       "      <td>6.980000</td>\n",
       "      <td>9.530000</td>\n",
       "    </tr>\n",
       "    <tr>\n",
       "      <th>wireless</th>\n",
       "      <td>5000.0</td>\n",
       "      <td>0.268800</td>\n",
       "      <td>0.443380</td>\n",
       "      <td>0.000000</td>\n",
       "      <td>0.000000</td>\n",
       "      <td>0.000000</td>\n",
       "      <td>1.000000</td>\n",
       "      <td>1.000000</td>\n",
       "    </tr>\n",
       "    <tr>\n",
       "      <th>wiremon</th>\n",
       "      <td>5000.0</td>\n",
       "      <td>10.701190</td>\n",
       "      <td>19.799837</td>\n",
       "      <td>0.000000</td>\n",
       "      <td>0.000000</td>\n",
       "      <td>0.000000</td>\n",
       "      <td>20.962500</td>\n",
       "      <td>186.250000</td>\n",
       "    </tr>\n",
       "    <tr>\n",
       "      <th>wireten</th>\n",
       "      <td>5000.0</td>\n",
       "      <td>421.984610</td>\n",
       "      <td>1001.003287</td>\n",
       "      <td>0.000000</td>\n",
       "      <td>0.000000</td>\n",
       "      <td>0.000000</td>\n",
       "      <td>89.962500</td>\n",
       "      <td>12858.650000</td>\n",
       "    </tr>\n",
       "    <tr>\n",
       "      <th>multline</th>\n",
       "      <td>5000.0</td>\n",
       "      <td>0.488400</td>\n",
       "      <td>0.499915</td>\n",
       "      <td>0.000000</td>\n",
       "      <td>0.000000</td>\n",
       "      <td>0.000000</td>\n",
       "      <td>1.000000</td>\n",
       "      <td>1.000000</td>\n",
       "    </tr>\n",
       "    <tr>\n",
       "      <th>voice</th>\n",
       "      <td>5000.0</td>\n",
       "      <td>0.303000</td>\n",
       "      <td>0.459601</td>\n",
       "      <td>0.000000</td>\n",
       "      <td>0.000000</td>\n",
       "      <td>0.000000</td>\n",
       "      <td>1.000000</td>\n",
       "      <td>1.000000</td>\n",
       "    </tr>\n",
       "    <tr>\n",
       "      <th>pager</th>\n",
       "      <td>5000.0</td>\n",
       "      <td>0.243600</td>\n",
       "      <td>0.429297</td>\n",
       "      <td>0.000000</td>\n",
       "      <td>0.000000</td>\n",
       "      <td>0.000000</td>\n",
       "      <td>0.000000</td>\n",
       "      <td>1.000000</td>\n",
       "    </tr>\n",
       "    <tr>\n",
       "      <th>internet</th>\n",
       "      <td>5000.0</td>\n",
       "      <td>1.199600</td>\n",
       "      <td>1.449338</td>\n",
       "      <td>0.000000</td>\n",
       "      <td>0.000000</td>\n",
       "      <td>1.000000</td>\n",
       "      <td>2.000000</td>\n",
       "      <td>4.000000</td>\n",
       "    </tr>\n",
       "    <tr>\n",
       "      <th>callid</th>\n",
       "      <td>5000.0</td>\n",
       "      <td>0.475200</td>\n",
       "      <td>0.499435</td>\n",
       "      <td>0.000000</td>\n",
       "      <td>0.000000</td>\n",
       "      <td>0.000000</td>\n",
       "      <td>1.000000</td>\n",
       "      <td>1.000000</td>\n",
       "    </tr>\n",
       "    <tr>\n",
       "      <th>callwait</th>\n",
       "      <td>5000.0</td>\n",
       "      <td>0.479000</td>\n",
       "      <td>0.499609</td>\n",
       "      <td>0.000000</td>\n",
       "      <td>0.000000</td>\n",
       "      <td>0.000000</td>\n",
       "      <td>1.000000</td>\n",
       "      <td>1.000000</td>\n",
       "    </tr>\n",
       "    <tr>\n",
       "      <th>forward</th>\n",
       "      <td>5000.0</td>\n",
       "      <td>0.480600</td>\n",
       "      <td>0.499673</td>\n",
       "      <td>0.000000</td>\n",
       "      <td>0.000000</td>\n",
       "      <td>0.000000</td>\n",
       "      <td>1.000000</td>\n",
       "      <td>1.000000</td>\n",
       "    </tr>\n",
       "    <tr>\n",
       "      <th>confer</th>\n",
       "      <td>5000.0</td>\n",
       "      <td>0.478000</td>\n",
       "      <td>0.499566</td>\n",
       "      <td>0.000000</td>\n",
       "      <td>0.000000</td>\n",
       "      <td>0.000000</td>\n",
       "      <td>1.000000</td>\n",
       "      <td>1.000000</td>\n",
       "    </tr>\n",
       "    <tr>\n",
       "      <th>ebill</th>\n",
       "      <td>5000.0</td>\n",
       "      <td>0.348600</td>\n",
       "      <td>0.476575</td>\n",
       "      <td>0.000000</td>\n",
       "      <td>0.000000</td>\n",
       "      <td>0.000000</td>\n",
       "      <td>1.000000</td>\n",
       "      <td>1.000000</td>\n",
       "    </tr>\n",
       "    <tr>\n",
       "      <th>owntv</th>\n",
       "      <td>5000.0</td>\n",
       "      <td>0.983000</td>\n",
       "      <td>0.129284</td>\n",
       "      <td>0.000000</td>\n",
       "      <td>1.000000</td>\n",
       "      <td>1.000000</td>\n",
       "      <td>1.000000</td>\n",
       "      <td>1.000000</td>\n",
       "    </tr>\n",
       "    <tr>\n",
       "      <th>hourstv</th>\n",
       "      <td>5000.0</td>\n",
       "      <td>19.645000</td>\n",
       "      <td>5.165609</td>\n",
       "      <td>0.000000</td>\n",
       "      <td>17.000000</td>\n",
       "      <td>20.000000</td>\n",
       "      <td>23.000000</td>\n",
       "      <td>36.000000</td>\n",
       "    </tr>\n",
       "    <tr>\n",
       "      <th>ownvcr</th>\n",
       "      <td>5000.0</td>\n",
       "      <td>0.915600</td>\n",
       "      <td>0.278015</td>\n",
       "      <td>0.000000</td>\n",
       "      <td>1.000000</td>\n",
       "      <td>1.000000</td>\n",
       "      <td>1.000000</td>\n",
       "      <td>1.000000</td>\n",
       "    </tr>\n",
       "    <tr>\n",
       "      <th>owndvd</th>\n",
       "      <td>5000.0</td>\n",
       "      <td>0.913600</td>\n",
       "      <td>0.280982</td>\n",
       "      <td>0.000000</td>\n",
       "      <td>1.000000</td>\n",
       "      <td>1.000000</td>\n",
       "      <td>1.000000</td>\n",
       "      <td>1.000000</td>\n",
       "    </tr>\n",
       "    <tr>\n",
       "      <th>owncd</th>\n",
       "      <td>5000.0</td>\n",
       "      <td>0.932800</td>\n",
       "      <td>0.250393</td>\n",
       "      <td>0.000000</td>\n",
       "      <td>1.000000</td>\n",
       "      <td>1.000000</td>\n",
       "      <td>1.000000</td>\n",
       "      <td>1.000000</td>\n",
       "    </tr>\n",
       "    <tr>\n",
       "      <th>ownpda</th>\n",
       "      <td>5000.0</td>\n",
       "      <td>0.201000</td>\n",
       "      <td>0.400788</td>\n",
       "      <td>0.000000</td>\n",
       "      <td>0.000000</td>\n",
       "      <td>0.000000</td>\n",
       "      <td>0.000000</td>\n",
       "      <td>1.000000</td>\n",
       "    </tr>\n",
       "    <tr>\n",
       "      <th>ownpc</th>\n",
       "      <td>5000.0</td>\n",
       "      <td>0.632800</td>\n",
       "      <td>0.482090</td>\n",
       "      <td>0.000000</td>\n",
       "      <td>0.000000</td>\n",
       "      <td>1.000000</td>\n",
       "      <td>1.000000</td>\n",
       "      <td>1.000000</td>\n",
       "    </tr>\n",
       "    <tr>\n",
       "      <th>ownipod</th>\n",
       "      <td>5000.0</td>\n",
       "      <td>0.479200</td>\n",
       "      <td>0.499617</td>\n",
       "      <td>0.000000</td>\n",
       "      <td>0.000000</td>\n",
       "      <td>0.000000</td>\n",
       "      <td>1.000000</td>\n",
       "      <td>1.000000</td>\n",
       "    </tr>\n",
       "    <tr>\n",
       "      <th>owngame</th>\n",
       "      <td>5000.0</td>\n",
       "      <td>0.474800</td>\n",
       "      <td>0.499415</td>\n",
       "      <td>0.000000</td>\n",
       "      <td>0.000000</td>\n",
       "      <td>0.000000</td>\n",
       "      <td>1.000000</td>\n",
       "      <td>1.000000</td>\n",
       "    </tr>\n",
       "    <tr>\n",
       "      <th>ownfax</th>\n",
       "      <td>5000.0</td>\n",
       "      <td>0.178800</td>\n",
       "      <td>0.383223</td>\n",
       "      <td>0.000000</td>\n",
       "      <td>0.000000</td>\n",
       "      <td>0.000000</td>\n",
       "      <td>0.000000</td>\n",
       "      <td>1.000000</td>\n",
       "    </tr>\n",
       "    <tr>\n",
       "      <th>news</th>\n",
       "      <td>5000.0</td>\n",
       "      <td>0.472600</td>\n",
       "      <td>0.499299</td>\n",
       "      <td>0.000000</td>\n",
       "      <td>0.000000</td>\n",
       "      <td>0.000000</td>\n",
       "      <td>1.000000</td>\n",
       "      <td>1.000000</td>\n",
       "    </tr>\n",
       "    <tr>\n",
       "      <th>response_01</th>\n",
       "      <td>5000.0</td>\n",
       "      <td>0.083600</td>\n",
       "      <td>0.276815</td>\n",
       "      <td>0.000000</td>\n",
       "      <td>0.000000</td>\n",
       "      <td>0.000000</td>\n",
       "      <td>0.000000</td>\n",
       "      <td>1.000000</td>\n",
       "    </tr>\n",
       "    <tr>\n",
       "      <th>response_02</th>\n",
       "      <td>5000.0</td>\n",
       "      <td>0.129800</td>\n",
       "      <td>0.336117</td>\n",
       "      <td>0.000000</td>\n",
       "      <td>0.000000</td>\n",
       "      <td>0.000000</td>\n",
       "      <td>0.000000</td>\n",
       "      <td>1.000000</td>\n",
       "    </tr>\n",
       "    <tr>\n",
       "      <th>response_03</th>\n",
       "      <td>5000.0</td>\n",
       "      <td>0.102600</td>\n",
       "      <td>0.303466</td>\n",
       "      <td>0.000000</td>\n",
       "      <td>0.000000</td>\n",
       "      <td>0.000000</td>\n",
       "      <td>0.000000</td>\n",
       "      <td>1.000000</td>\n",
       "    </tr>\n",
       "    <tr>\n",
       "      <th>ln_avg_card_spent</th>\n",
       "      <td>5000.0</td>\n",
       "      <td>5.369015</td>\n",
       "      <td>0.622169</td>\n",
       "      <td>2.642978</td>\n",
       "      <td>4.998166</td>\n",
       "      <td>5.380473</td>\n",
       "      <td>5.761363</td>\n",
       "      <td>7.804058</td>\n",
       "    </tr>\n",
       "  </tbody>\n",
       "</table>\n",
       "<p>115 rows × 8 columns</p>\n",
       "</div>"
      ],
      "text/plain": [
       "                    count        mean          std        min        25%  \\\n",
       "region             5000.0    3.001400     1.421760   1.000000   2.000000   \n",
       "townsize           5000.0    2.687275     1.425640   1.000000   1.000000   \n",
       "gender             5000.0    0.503600     0.500037   0.000000   0.000000   \n",
       "age                5000.0   47.025600    17.770338  18.000000  31.000000   \n",
       "agecat             5000.0    4.238800     1.308785   2.000000   3.000000   \n",
       "ed                 5000.0   14.543000     3.281083   6.000000  12.000000   \n",
       "edcat              5000.0    2.672000     1.211738   1.000000   2.000000   \n",
       "jobcat             5000.0    2.752800     1.737900   1.000000   1.000000   \n",
       "union              5000.0    0.151200     0.358280   0.000000   0.000000   \n",
       "employ             5000.0    9.730400     9.690929   0.000000   2.000000   \n",
       "empcat             5000.0    2.932600     1.453300   1.000000   2.000000   \n",
       "retire             5000.0    0.147600     0.354739   0.000000   0.000000   \n",
       "income             5000.0   54.759600    55.377511   9.000000  24.000000   \n",
       "lninc              5000.0    3.699840     0.746945   2.200000   3.180000   \n",
       "inccat             5000.0    2.392200     1.221261   1.000000   1.000000   \n",
       "debtinc            5000.0    9.954160     6.399783   0.000000   5.100000   \n",
       "creddebt           5000.0    1.857364     3.415789   0.000000   0.390000   \n",
       "lncreddebt         5000.0   -0.130460     1.272893  -6.600000  -0.950000   \n",
       "othdebt            5000.0    3.654456     5.395214   0.000000   0.980000   \n",
       "lnothdebt          5000.0    0.696949     1.128475  -4.090000  -0.020000   \n",
       "default            5000.0    0.234200     0.423540   0.000000   0.000000   \n",
       "jobsat             5000.0    2.964200     1.379456   1.000000   2.000000   \n",
       "marital            5000.0    0.480200     0.499658   0.000000   0.000000   \n",
       "spoused            5000.0    6.112800     7.743518  -1.000000  -1.000000   \n",
       "spousedcat         5000.0    0.641400     1.886775  -1.000000  -1.000000   \n",
       "reside             5000.0    2.204000     1.393977   1.000000   1.000000   \n",
       "homeown            5000.0    0.629600     0.482960   0.000000   0.000000   \n",
       "hometype           5000.0    1.842600     0.916730   1.000000   1.000000   \n",
       "address            5000.0   16.402400    12.397484   0.000000   6.000000   \n",
       "addresscat         5000.0    3.272000     1.319987   1.000000   2.000000   \n",
       "...                   ...         ...          ...        ...        ...   \n",
       "lncardmon          5000.0    2.909609     0.478292   1.180000   2.690000   \n",
       "cardten            5000.0  720.478391   922.041026   0.000000   0.000000   \n",
       "lncardten          5000.0    6.426193     0.991433   1.560000   6.220000   \n",
       "wireless           5000.0    0.268800     0.443380   0.000000   0.000000   \n",
       "wiremon            5000.0   10.701190    19.799837   0.000000   0.000000   \n",
       "wireten            5000.0  421.984610  1001.003287   0.000000   0.000000   \n",
       "multline           5000.0    0.488400     0.499915   0.000000   0.000000   \n",
       "voice              5000.0    0.303000     0.459601   0.000000   0.000000   \n",
       "pager              5000.0    0.243600     0.429297   0.000000   0.000000   \n",
       "internet           5000.0    1.199600     1.449338   0.000000   0.000000   \n",
       "callid             5000.0    0.475200     0.499435   0.000000   0.000000   \n",
       "callwait           5000.0    0.479000     0.499609   0.000000   0.000000   \n",
       "forward            5000.0    0.480600     0.499673   0.000000   0.000000   \n",
       "confer             5000.0    0.478000     0.499566   0.000000   0.000000   \n",
       "ebill              5000.0    0.348600     0.476575   0.000000   0.000000   \n",
       "owntv              5000.0    0.983000     0.129284   0.000000   1.000000   \n",
       "hourstv            5000.0   19.645000     5.165609   0.000000  17.000000   \n",
       "ownvcr             5000.0    0.915600     0.278015   0.000000   1.000000   \n",
       "owndvd             5000.0    0.913600     0.280982   0.000000   1.000000   \n",
       "owncd              5000.0    0.932800     0.250393   0.000000   1.000000   \n",
       "ownpda             5000.0    0.201000     0.400788   0.000000   0.000000   \n",
       "ownpc              5000.0    0.632800     0.482090   0.000000   0.000000   \n",
       "ownipod            5000.0    0.479200     0.499617   0.000000   0.000000   \n",
       "owngame            5000.0    0.474800     0.499415   0.000000   0.000000   \n",
       "ownfax             5000.0    0.178800     0.383223   0.000000   0.000000   \n",
       "news               5000.0    0.472600     0.499299   0.000000   0.000000   \n",
       "response_01        5000.0    0.083600     0.276815   0.000000   0.000000   \n",
       "response_02        5000.0    0.129800     0.336117   0.000000   0.000000   \n",
       "response_03        5000.0    0.102600     0.303466   0.000000   0.000000   \n",
       "ln_avg_card_spent  5000.0    5.369015     0.622169   2.642978   4.998166   \n",
       "\n",
       "                          50%          75%           max  \n",
       "region               3.000000     4.000000      5.000000  \n",
       "townsize             3.000000     4.000000      5.000000  \n",
       "gender               1.000000     1.000000      1.000000  \n",
       "age                 47.000000    62.000000     79.000000  \n",
       "agecat               4.000000     5.000000      6.000000  \n",
       "ed                  14.000000    17.000000     23.000000  \n",
       "edcat                2.000000     4.000000      5.000000  \n",
       "jobcat               2.000000     4.000000      6.000000  \n",
       "union                0.000000     0.000000      1.000000  \n",
       "employ               7.000000    15.000000     52.000000  \n",
       "empcat               3.000000     4.000000      5.000000  \n",
       "retire               0.000000     0.000000      1.000000  \n",
       "income              38.000000    67.000000   1073.000000  \n",
       "lninc                3.640000     4.200000      6.980000  \n",
       "inccat               2.000000     3.000000      5.000000  \n",
       "debtinc              8.800000    13.600000     43.100000  \n",
       "creddebt             0.930000     2.060000    109.070000  \n",
       "lncreddebt          -0.080000     0.720000      4.690000  \n",
       "othdebt              2.100000     4.310000    141.460000  \n",
       "lnothdebt            0.740000     1.460000      4.950000  \n",
       "default              0.000000     0.000000      1.000000  \n",
       "jobsat               3.000000     4.000000      5.000000  \n",
       "marital              0.000000     1.000000      1.000000  \n",
       "spoused             -1.000000    14.000000     24.000000  \n",
       "spousedcat          -1.000000     2.000000      5.000000  \n",
       "reside               2.000000     3.000000      9.000000  \n",
       "homeown              1.000000     1.000000      1.000000  \n",
       "hometype             2.000000     2.000000      4.000000  \n",
       "address             14.000000    25.000000     57.000000  \n",
       "addresscat           3.000000     4.000000      5.000000  \n",
       "...                       ...          ...           ...  \n",
       "lncardmon            2.909609     3.120000      5.240000  \n",
       "cardten            425.000000  1080.000000  13705.000000  \n",
       "lncardten            6.426193     6.980000      9.530000  \n",
       "wireless             0.000000     1.000000      1.000000  \n",
       "wiremon              0.000000    20.962500    186.250000  \n",
       "wireten              0.000000    89.962500  12858.650000  \n",
       "multline             0.000000     1.000000      1.000000  \n",
       "voice                0.000000     1.000000      1.000000  \n",
       "pager                0.000000     0.000000      1.000000  \n",
       "internet             1.000000     2.000000      4.000000  \n",
       "callid               0.000000     1.000000      1.000000  \n",
       "callwait             0.000000     1.000000      1.000000  \n",
       "forward              0.000000     1.000000      1.000000  \n",
       "confer               0.000000     1.000000      1.000000  \n",
       "ebill                0.000000     1.000000      1.000000  \n",
       "owntv                1.000000     1.000000      1.000000  \n",
       "hourstv             20.000000    23.000000     36.000000  \n",
       "ownvcr               1.000000     1.000000      1.000000  \n",
       "owndvd               1.000000     1.000000      1.000000  \n",
       "owncd                1.000000     1.000000      1.000000  \n",
       "ownpda               0.000000     0.000000      1.000000  \n",
       "ownpc                1.000000     1.000000      1.000000  \n",
       "ownipod              0.000000     1.000000      1.000000  \n",
       "owngame              0.000000     1.000000      1.000000  \n",
       "ownfax               0.000000     0.000000      1.000000  \n",
       "news                 0.000000     1.000000      1.000000  \n",
       "response_01          0.000000     0.000000      1.000000  \n",
       "response_02          0.000000     0.000000      1.000000  \n",
       "response_03          0.000000     0.000000      1.000000  \n",
       "ln_avg_card_spent    5.380473     5.761363      7.804058  \n",
       "\n",
       "[115 rows x 8 columns]"
      ]
     },
     "execution_count": 448,
     "metadata": {},
     "output_type": "execute_result"
    }
   ],
   "source": [
    "credit_data.describe().T"
   ]
  },
  {
   "cell_type": "code",
   "execution_count": 532,
   "metadata": {},
   "outputs": [],
   "source": [
    "corr_df = credit_data.corr()"
   ]
  },
  {
   "cell_type": "code",
   "execution_count": 541,
   "metadata": {},
   "outputs": [
    {
     "data": {
      "image/png": "[encoded data removed]",
      "text/plain": [
       "<matplotlib.figure.Figure at 0x16d95860>"
      ]
     },
     "metadata": {},
     "output_type": "display_data"
    }
   ],
   "source": [
    "sns.heatmap(corr_df)\n",
    "plt.show()"
   ]
  },
  {
   "cell_type": "code",
   "execution_count": null,
   "metadata": {},
   "outputs": [],
   "source": []
  },
  {
   "cell_type": "code",
   "execution_count": 449,
   "metadata": {
    "collapsed": true
   },
   "outputs": [],
   "source": [
    "feature_columns = credit_data.columns.difference( ['ln_avg_card_spent'] )\n",
    "feature_columns1 = feature_columns[1:20]"
   ]
  },
  {
   "cell_type": "code",
   "execution_count": 450,
   "metadata": {},
   "outputs": [
    {
     "data": {
      "text/plain": [
       "Index(['address', 'addresscat', 'age', 'agecat', 'bfast', 'callcard', 'callid',\n",
       "       'callwait', 'carbought', 'carbuy', 'carcatvalue', 'card', 'card2',\n",
       "       'card2benefit', 'card2fee', 'card2items', 'card2tenure',\n",
       "       'card2tenurecat', 'card2type'],\n",
       "      dtype='object')"
      ]
     },
     "execution_count": 450,
     "metadata": {},
     "output_type": "execute_result"
    }
   ],
   "source": [
    "feature_columns1"
   ]
  },
  {
   "cell_type": "code",
   "execution_count": 451,
   "metadata": {},
   "outputs": [
    {
     "data": {
      "text/plain": [
       "114"
      ]
     },
     "execution_count": 451,
     "metadata": {},
     "output_type": "execute_result"
    }
   ],
   "source": [
    "len(feature_columns)"
   ]
  },
  {
   "cell_type": "code",
   "execution_count": 452,
   "metadata": {},
   "outputs": [
    {
     "data": {
      "text/html": [
       "<div>\n",
       "<style>\n",
       "    .dataframe thead tr:only-child th {\n",
       "        text-align: right;\n",
       "    }\n",
       "\n",
       "    .dataframe thead th {\n",
       "        text-align: left;\n",
       "    }\n",
       "\n",
       "    .dataframe tbody tr th {\n",
       "        vertical-align: top;\n",
       "    }\n",
       "</style>\n",
       "<table border=\"1\" class=\"dataframe\">\n",
       "  <thead>\n",
       "    <tr style=\"text-align: right;\">\n",
       "      <th></th>\n",
       "      <th>age</th>\n",
       "    </tr>\n",
       "    <tr>\n",
       "      <th>agecat</th>\n",
       "      <th></th>\n",
       "    </tr>\n",
       "  </thead>\n",
       "  <tbody>\n",
       "    <tr>\n",
       "      <th>2</th>\n",
       "      <td>20.979100</td>\n",
       "    </tr>\n",
       "    <tr>\n",
       "      <th>3</th>\n",
       "      <td>29.459127</td>\n",
       "    </tr>\n",
       "    <tr>\n",
       "      <th>4</th>\n",
       "      <td>41.802782</td>\n",
       "    </tr>\n",
       "    <tr>\n",
       "      <th>5</th>\n",
       "      <td>56.955649</td>\n",
       "    </tr>\n",
       "    <tr>\n",
       "      <th>6</th>\n",
       "      <td>71.748127</td>\n",
       "    </tr>\n",
       "  </tbody>\n",
       "</table>\n",
       "</div>"
      ],
      "text/plain": [
       "              age\n",
       "agecat           \n",
       "2       20.979100\n",
       "3       29.459127\n",
       "4       41.802782\n",
       "5       56.955649\n",
       "6       71.748127"
      ]
     },
     "execution_count": 452,
     "metadata": {},
     "output_type": "execute_result"
    }
   ],
   "source": [
    "credit_data.groupby('agecat').agg({'age': 'mean'})"
   ]
  },
  {
   "cell_type": "code",
   "execution_count": 453,
   "metadata": {},
   "outputs": [
    {
     "data": {
      "text/html": [
       "<div>\n",
       "<style>\n",
       "    .dataframe thead tr:only-child th {\n",
       "        text-align: right;\n",
       "    }\n",
       "\n",
       "    .dataframe thead th {\n",
       "        text-align: left;\n",
       "    }\n",
       "\n",
       "    .dataframe tbody tr th {\n",
       "        vertical-align: top;\n",
       "    }\n",
       "</style>\n",
       "<table border=\"1\" class=\"dataframe\">\n",
       "  <thead>\n",
       "    <tr style=\"text-align: right;\">\n",
       "      <th></th>\n",
       "      <th>ln_avg_card_spent</th>\n",
       "    </tr>\n",
       "    <tr>\n",
       "      <th>addresscat</th>\n",
       "      <th></th>\n",
       "    </tr>\n",
       "  </thead>\n",
       "  <tbody>\n",
       "    <tr>\n",
       "      <th>1</th>\n",
       "      <td>5.230593</td>\n",
       "    </tr>\n",
       "    <tr>\n",
       "      <th>2</th>\n",
       "      <td>5.317759</td>\n",
       "    </tr>\n",
       "    <tr>\n",
       "      <th>3</th>\n",
       "      <td>5.408778</td>\n",
       "    </tr>\n",
       "    <tr>\n",
       "      <th>4</th>\n",
       "      <td>5.431962</td>\n",
       "    </tr>\n",
       "    <tr>\n",
       "      <th>5</th>\n",
       "      <td>5.376741</td>\n",
       "    </tr>\n",
       "  </tbody>\n",
       "</table>\n",
       "</div>"
      ],
      "text/plain": [
       "            ln_avg_card_spent\n",
       "addresscat                   \n",
       "1                    5.230593\n",
       "2                    5.317759\n",
       "3                    5.408778\n",
       "4                    5.431962\n",
       "5                    5.376741"
      ]
     },
     "execution_count": 453,
     "metadata": {},
     "output_type": "execute_result"
    }
   ],
   "source": [
    "credit_data.groupby('addresscat').agg({'ln_avg_card_spent': 'mean'})"
   ]
  },
  {
   "cell_type": "code",
   "execution_count": 454,
   "metadata": {
    "collapsed": true
   },
   "outputs": [],
   "source": [
    "#We will drop address related vars as they don't really make a difference"
   ]
  },
  {
   "cell_type": "code",
   "execution_count": 455,
   "metadata": {},
   "outputs": [
    {
     "data": {
      "text/html": [
       "<div>\n",
       "<style>\n",
       "    .dataframe thead tr:only-child th {\n",
       "        text-align: right;\n",
       "    }\n",
       "\n",
       "    .dataframe thead th {\n",
       "        text-align: left;\n",
       "    }\n",
       "\n",
       "    .dataframe tbody tr th {\n",
       "        vertical-align: top;\n",
       "    }\n",
       "</style>\n",
       "<table border=\"1\" class=\"dataframe\">\n",
       "  <thead>\n",
       "    <tr style=\"text-align: right;\">\n",
       "      <th></th>\n",
       "      <th>ln_avg_card_spent</th>\n",
       "    </tr>\n",
       "    <tr>\n",
       "      <th>region</th>\n",
       "      <th></th>\n",
       "    </tr>\n",
       "  </thead>\n",
       "  <tbody>\n",
       "    <tr>\n",
       "      <th>1</th>\n",
       "      <td>5.327471</td>\n",
       "    </tr>\n",
       "    <tr>\n",
       "      <th>2</th>\n",
       "      <td>5.365347</td>\n",
       "    </tr>\n",
       "    <tr>\n",
       "      <th>3</th>\n",
       "      <td>5.367914</td>\n",
       "    </tr>\n",
       "    <tr>\n",
       "      <th>4</th>\n",
       "      <td>5.379794</td>\n",
       "    </tr>\n",
       "    <tr>\n",
       "      <th>5</th>\n",
       "      <td>5.404323</td>\n",
       "    </tr>\n",
       "  </tbody>\n",
       "</table>\n",
       "</div>"
      ],
      "text/plain": [
       "        ln_avg_card_spent\n",
       "region                   \n",
       "1                5.327471\n",
       "2                5.365347\n",
       "3                5.367914\n",
       "4                5.379794\n",
       "5                5.404323"
      ]
     },
     "execution_count": 455,
     "metadata": {},
     "output_type": "execute_result"
    }
   ],
   "source": [
    "credit_data.groupby('region').agg({'ln_avg_card_spent': 'mean'})"
   ]
  },
  {
   "cell_type": "code",
   "execution_count": 456,
   "metadata": {
    "collapsed": true
   },
   "outputs": [],
   "source": [
    "#We'll drop region as well."
   ]
  },
  {
   "cell_type": "code",
   "execution_count": 457,
   "metadata": {},
   "outputs": [
    {
     "data": {
      "text/html": [
       "<div>\n",
       "<style>\n",
       "    .dataframe thead tr:only-child th {\n",
       "        text-align: right;\n",
       "    }\n",
       "\n",
       "    .dataframe thead th {\n",
       "        text-align: left;\n",
       "    }\n",
       "\n",
       "    .dataframe tbody tr th {\n",
       "        vertical-align: top;\n",
       "    }\n",
       "</style>\n",
       "<table border=\"1\" class=\"dataframe\">\n",
       "  <thead>\n",
       "    <tr style=\"text-align: right;\">\n",
       "      <th></th>\n",
       "      <th>ed</th>\n",
       "    </tr>\n",
       "    <tr>\n",
       "      <th>edcat</th>\n",
       "      <th></th>\n",
       "    </tr>\n",
       "  </thead>\n",
       "  <tbody>\n",
       "    <tr>\n",
       "      <th>1</th>\n",
       "      <td>9.836152</td>\n",
       "    </tr>\n",
       "    <tr>\n",
       "      <th>2</th>\n",
       "      <td>13.065093</td>\n",
       "    </tr>\n",
       "    <tr>\n",
       "      <th>3</th>\n",
       "      <td>15.475538</td>\n",
       "    </tr>\n",
       "    <tr>\n",
       "      <th>4</th>\n",
       "      <td>17.868587</td>\n",
       "    </tr>\n",
       "    <tr>\n",
       "      <th>5</th>\n",
       "      <td>20.533898</td>\n",
       "    </tr>\n",
       "  </tbody>\n",
       "</table>\n",
       "</div>"
      ],
      "text/plain": [
       "              ed\n",
       "edcat           \n",
       "1       9.836152\n",
       "2      13.065093\n",
       "3      15.475538\n",
       "4      17.868587\n",
       "5      20.533898"
      ]
     },
     "execution_count": 457,
     "metadata": {},
     "output_type": "execute_result"
    }
   ],
   "source": [
    "credit_data.groupby('edcat').agg({'ed': 'mean'})"
   ]
  },
  {
   "cell_type": "code",
   "execution_count": 458,
   "metadata": {
    "collapsed": true
   },
   "outputs": [],
   "source": [
    "#Drop ed also"
   ]
  },
  {
   "cell_type": "code",
   "execution_count": 459,
   "metadata": {},
   "outputs": [
    {
     "data": {
      "text/html": [
       "<div>\n",
       "<style>\n",
       "    .dataframe thead tr:only-child th {\n",
       "        text-align: right;\n",
       "    }\n",
       "\n",
       "    .dataframe thead th {\n",
       "        text-align: left;\n",
       "    }\n",
       "\n",
       "    .dataframe tbody tr th {\n",
       "        vertical-align: top;\n",
       "    }\n",
       "</style>\n",
       "<table border=\"1\" class=\"dataframe\">\n",
       "  <thead>\n",
       "    <tr style=\"text-align: right;\">\n",
       "      <th></th>\n",
       "      <th>debtinc</th>\n",
       "    </tr>\n",
       "    <tr>\n",
       "      <th>inccat</th>\n",
       "      <th></th>\n",
       "    </tr>\n",
       "  </thead>\n",
       "  <tbody>\n",
       "    <tr>\n",
       "      <th>1</th>\n",
       "      <td>9.724887</td>\n",
       "    </tr>\n",
       "    <tr>\n",
       "      <th>2</th>\n",
       "      <td>10.085810</td>\n",
       "    </tr>\n",
       "    <tr>\n",
       "      <th>3</th>\n",
       "      <td>9.833731</td>\n",
       "    </tr>\n",
       "    <tr>\n",
       "      <th>4</th>\n",
       "      <td>10.310615</td>\n",
       "    </tr>\n",
       "    <tr>\n",
       "      <th>5</th>\n",
       "      <td>9.791927</td>\n",
       "    </tr>\n",
       "  </tbody>\n",
       "</table>\n",
       "</div>"
      ],
      "text/plain": [
       "          debtinc\n",
       "inccat           \n",
       "1        9.724887\n",
       "2       10.085810\n",
       "3        9.833731\n",
       "4       10.310615\n",
       "5        9.791927"
      ]
     },
     "execution_count": 459,
     "metadata": {},
     "output_type": "execute_result"
    }
   ],
   "source": [
    "credit_data.groupby('inccat').agg({'debtinc': 'mean'})"
   ]
  },
  {
   "cell_type": "code",
   "execution_count": 460,
   "metadata": {},
   "outputs": [
    {
     "data": {
      "text/plain": [
       "Index(['region', 'townsize', 'gender', 'age', 'agecat', 'ed', 'edcat',\n",
       "       'jobcat', 'union', 'employ',\n",
       "       ...\n",
       "       'ownpda', 'ownpc', 'ownipod', 'owngame', 'ownfax', 'news',\n",
       "       'response_01', 'response_02', 'response_03', 'ln_avg_card_spent'],\n",
       "      dtype='object', length=115)"
      ]
     },
     "execution_count": 460,
     "metadata": {},
     "output_type": "execute_result"
    }
   ],
   "source": [
    "var_list = list\n",
    "(credit_data.columns)"
   ]
  },
  {
   "cell_type": "code",
   "execution_count": 461,
   "metadata": {},
   "outputs": [
    {
     "data": {
      "text/plain": [
       "list"
      ]
     },
     "execution_count": 461,
     "metadata": {},
     "output_type": "execute_result"
    }
   ],
   "source": [
    "var_list"
   ]
  },
  {
   "cell_type": "code",
   "execution_count": 462,
   "metadata": {
    "collapsed": true
   },
   "outputs": [],
   "source": [
    "final_var_list = credit_data.columns.difference(['region','age','ed','employ','income','lninc', 'creddebt', 'othdebt', 'spoused', 'address', 'addresscat', 'carvalue', 'commute', 'cardtenure', 'card2tenure','longmon', 'longten', 'cardmon', 'cardten', 'longmon', 'longten'])"
   ]
  },
  {
   "cell_type": "code",
   "execution_count": 463,
   "metadata": {
    "collapsed": true
   },
   "outputs": [],
   "source": [
    "credit_data_final = credit_data[final_var_list]"
   ]
  },
  {
   "cell_type": "code",
   "execution_count": 464,
   "metadata": {},
   "outputs": [
    {
     "name": "stdout",
     "output_type": "stream",
     "text": [
      "['active', 'agecat', 'bfast', 'callcard', 'callid', 'callwait', 'carbought', 'carbuy', 'carcatvalue', 'card', 'card2', 'card2benefit', 'card2fee', 'card2items', 'card2tenurecat', 'card2type', 'cardbenefit', 'cardfee', 'carditems', 'cardtenurecat', 'cardtype', 'carown', 'cars', 'cartype', 'churn', 'commutebike', 'commutebus', 'commutecar', 'commutecarpool', 'commutecat', 'commutemotorcycle', 'commutenonmotor', 'commutepublic', 'commuterail', 'commutetime', 'commutewalk', 'confer', 'debtinc', 'default', 'ebill', 'edcat', 'empcat', 'equip', 'equipmon', 'equipten', 'forward', 'gender', 'homeown', 'hometype', 'hourstv', 'inccat', 'internet', 'jobcat', 'jobsat', 'ln_avg_card_spent', 'lncardmon', 'lncardten', 'lncreddebt', 'lnlongmon', 'lnlongten', 'lnothdebt', 'marital', 'multline', 'news', 'owncd', 'owndvd', 'ownfax', 'owngame', 'ownipod', 'ownpc', 'ownpda', 'owntv', 'ownvcr', 'pager', 'polcontrib', 'polparty', 'polview', 'reason', 'reside', 'response_01', 'response_02', 'response_03', 'retire', 'spousedcat', 'telecommute', 'tenure', 'tollfree', 'tollmon', 'tollten', 'townsize', 'union', 'voice', 'vote', 'wireless', 'wiremon', 'wireten']\n"
     ]
    }
   ],
   "source": [
    "print(list(credit_data_final.columns))"
   ]
  },
  {
   "cell_type": "code",
   "execution_count": 465,
   "metadata": {
    "collapsed": true
   },
   "outputs": [],
   "source": [
    "feature_columns = credit_data_final.columns.difference( ['ln_avg_card_spent'] )\n",
    "feature_columns1 = feature_columns[1:5]"
   ]
  },
  {
   "cell_type": "code",
   "execution_count": 466,
   "metadata": {},
   "outputs": [
    {
     "data": {
      "text/plain": [
       "Index(['agecat', 'bfast', 'callcard', 'callid'], dtype='object')"
      ]
     },
     "execution_count": 466,
     "metadata": {},
     "output_type": "execute_result"
    }
   ],
   "source": [
    "feature_columns1"
   ]
  },
  {
   "cell_type": "code",
   "execution_count": 467,
   "metadata": {
    "collapsed": true
   },
   "outputs": [],
   "source": [
    "from sklearn.cross_validation import train_test_split\n",
    "\n",
    "\n",
    "train_X, test_X, train_y, test_y = train_test_split( credit_data_final[feature_columns],\n",
    "                                                  credit_data_final['ln_avg_card_spent'],\n",
    "                                                  test_size = 0.2,\n",
    "                                                  random_state = 42 )"
   ]
  },
  {
   "cell_type": "code",
   "execution_count": 468,
   "metadata": {},
   "outputs": [
    {
     "data": {
      "text/plain": [
       "4227    5.482096\n",
       "4676    5.631624\n",
       "800     5.378306\n",
       "3671    4.559231\n",
       "4193    4.861013\n",
       "Name: ln_avg_card_spent, dtype: float64"
      ]
     },
     "execution_count": 468,
     "metadata": {},
     "output_type": "execute_result"
    }
   ],
   "source": [
    "train_y.head(5)"
   ]
  },
  {
   "cell_type": "markdown",
   "metadata": {},
   "source": [
    "Using Decision trees for prediction now"
   ]
  },
  {
   "cell_type": "code",
   "execution_count": 469,
   "metadata": {
    "collapsed": true
   },
   "outputs": [],
   "source": [
    "import sklearn.tree as dt"
   ]
  },
  {
   "cell_type": "code",
   "execution_count": 470,
   "metadata": {
    "collapsed": true
   },
   "outputs": [],
   "source": [
    "import sklearn.ensemble as en"
   ]
  },
  {
   "cell_type": "code",
   "execution_count": 471,
   "metadata": {
    "collapsed": true
   },
   "outputs": [],
   "source": [
    "from sklearn import metrics\n",
    "from sklearn.tree import DecisionTreeRegressor, export_graphviz, export\n",
    "from sklearn.grid_search import GridSearchCV"
   ]
  },
  {
   "cell_type": "code",
   "execution_count": 472,
   "metadata": {
    "collapsed": true
   },
   "outputs": [],
   "source": [
    "DecisionTreeRegressor?"
   ]
  },
  {
   "cell_type": "code",
   "execution_count": 473,
   "metadata": {},
   "outputs": [
    {
     "data": {
      "text/plain": [
       "DecisionTreeRegressor(criterion='mse', max_depth=None, max_features=None,\n",
       "           max_leaf_nodes=None, min_impurity_decrease=0.0,\n",
       "           min_impurity_split=None, min_samples_leaf=1,\n",
       "           min_samples_split=2, min_weight_fraction_leaf=0.0,\n",
       "           presort=False, random_state=None, splitter='best')"
      ]
     },
     "execution_count": 473,
     "metadata": {},
     "output_type": "execute_result"
    }
   ],
   "source": [
    "#clf_tree = DecisionTreeRegressor( max_depth = 3 )\n",
    "clf_tree = DecisionTreeRegressor()\n",
    "clf_tree.fit( train_X, train_y )"
   ]
  },
  {
   "cell_type": "code",
   "execution_count": 474,
   "metadata": {
    "collapsed": true
   },
   "outputs": [],
   "source": [
    "train_y_pred = pd.DataFrame(clf_tree.predict(train_X))"
   ]
  },
  {
   "cell_type": "code",
   "execution_count": 475,
   "metadata": {},
   "outputs": [
    {
     "data": {
      "text/plain": [
       "(4000, 1)"
      ]
     },
     "execution_count": 475,
     "metadata": {},
     "output_type": "execute_result"
    }
   ],
   "source": [
    "#type(train_y_pred)\n",
    "train_y_pred.shape"
   ]
  },
  {
   "cell_type": "code",
   "execution_count": 476,
   "metadata": {
    "collapsed": true
   },
   "outputs": [],
   "source": [
    "train_xy_diff = pd.concat([train_X, train_y], axis=1)"
   ]
  },
  {
   "cell_type": "code",
   "execution_count": 477,
   "metadata": {
    "collapsed": true
   },
   "outputs": [],
   "source": [
    "#train_xy_diff['pred_ln_avg_card_spent'] = train_y_pred\n",
    "train_xy_diff = pd.concat([train_xy_diff, train_y_pred], axis=1)"
   ]
  },
  {
   "cell_type": "code",
   "execution_count": null,
   "metadata": {
    "collapsed": true
   },
   "outputs": [],
   "source": []
  },
  {
   "cell_type": "code",
   "execution_count": 478,
   "metadata": {},
   "outputs": [
    {
     "data": {
      "text/html": [
       "<div>\n",
       "<style>\n",
       "    .dataframe thead tr:only-child th {\n",
       "        text-align: right;\n",
       "    }\n",
       "\n",
       "    .dataframe thead th {\n",
       "        text-align: left;\n",
       "    }\n",
       "\n",
       "    .dataframe tbody tr th {\n",
       "        vertical-align: top;\n",
       "    }\n",
       "</style>\n",
       "<table border=\"1\" class=\"dataframe\">\n",
       "  <thead>\n",
       "    <tr style=\"text-align: right;\">\n",
       "      <th></th>\n",
       "      <th>active</th>\n",
       "      <th>agecat</th>\n",
       "      <th>bfast</th>\n",
       "      <th>callcard</th>\n",
       "      <th>callid</th>\n",
       "      <th>callwait</th>\n",
       "      <th>carbought</th>\n",
       "      <th>carbuy</th>\n",
       "      <th>carcatvalue</th>\n",
       "      <th>card</th>\n",
       "      <th>...</th>\n",
       "      <th>tollten</th>\n",
       "      <th>townsize</th>\n",
       "      <th>union</th>\n",
       "      <th>voice</th>\n",
       "      <th>vote</th>\n",
       "      <th>wireless</th>\n",
       "      <th>wiremon</th>\n",
       "      <th>wireten</th>\n",
       "      <th>ln_avg_card_spent</th>\n",
       "      <th>0</th>\n",
       "    </tr>\n",
       "  </thead>\n",
       "  <tbody>\n",
       "    <tr>\n",
       "      <th>0</th>\n",
       "      <td>0.0</td>\n",
       "      <td>2.0</td>\n",
       "      <td>3.0</td>\n",
       "      <td>1.0</td>\n",
       "      <td>0.0</td>\n",
       "      <td>1.0</td>\n",
       "      <td>0.0</td>\n",
       "      <td>0.0</td>\n",
       "      <td>1.0</td>\n",
       "      <td>3.0</td>\n",
       "      <td>...</td>\n",
       "      <td>161.05</td>\n",
       "      <td>2.0</td>\n",
       "      <td>1.0</td>\n",
       "      <td>1.0</td>\n",
       "      <td>1.0</td>\n",
       "      <td>0.0</td>\n",
       "      <td>0.00</td>\n",
       "      <td>0.00</td>\n",
       "      <td>4.439470</td>\n",
       "      <td>5.482096</td>\n",
       "    </tr>\n",
       "    <tr>\n",
       "      <th>1</th>\n",
       "      <td>1.0</td>\n",
       "      <td>2.0</td>\n",
       "      <td>1.0</td>\n",
       "      <td>1.0</td>\n",
       "      <td>1.0</td>\n",
       "      <td>0.0</td>\n",
       "      <td>0.0</td>\n",
       "      <td>0.0</td>\n",
       "      <td>1.0</td>\n",
       "      <td>2.0</td>\n",
       "      <td>...</td>\n",
       "      <td>0.00</td>\n",
       "      <td>5.0</td>\n",
       "      <td>0.0</td>\n",
       "      <td>1.0</td>\n",
       "      <td>0.0</td>\n",
       "      <td>1.0</td>\n",
       "      <td>45.65</td>\n",
       "      <td>1683.55</td>\n",
       "      <td>3.887115</td>\n",
       "      <td>5.631624</td>\n",
       "    </tr>\n",
       "    <tr>\n",
       "      <th>2</th>\n",
       "      <td>0.0</td>\n",
       "      <td>6.0</td>\n",
       "      <td>3.0</td>\n",
       "      <td>1.0</td>\n",
       "      <td>0.0</td>\n",
       "      <td>0.0</td>\n",
       "      <td>0.0</td>\n",
       "      <td>1.0</td>\n",
       "      <td>1.0</td>\n",
       "      <td>2.0</td>\n",
       "      <td>...</td>\n",
       "      <td>0.00</td>\n",
       "      <td>4.0</td>\n",
       "      <td>0.0</td>\n",
       "      <td>0.0</td>\n",
       "      <td>0.0</td>\n",
       "      <td>0.0</td>\n",
       "      <td>0.00</td>\n",
       "      <td>0.00</td>\n",
       "      <td>5.246945</td>\n",
       "      <td>5.378306</td>\n",
       "    </tr>\n",
       "    <tr>\n",
       "      <th>3</th>\n",
       "      <td>1.0</td>\n",
       "      <td>2.0</td>\n",
       "      <td>1.0</td>\n",
       "      <td>1.0</td>\n",
       "      <td>0.0</td>\n",
       "      <td>0.0</td>\n",
       "      <td>0.0</td>\n",
       "      <td>1.0</td>\n",
       "      <td>1.0</td>\n",
       "      <td>2.0</td>\n",
       "      <td>...</td>\n",
       "      <td>0.00</td>\n",
       "      <td>3.0</td>\n",
       "      <td>0.0</td>\n",
       "      <td>0.0</td>\n",
       "      <td>0.0</td>\n",
       "      <td>0.0</td>\n",
       "      <td>0.00</td>\n",
       "      <td>0.00</td>\n",
       "      <td>5.245470</td>\n",
       "      <td>4.559231</td>\n",
       "    </tr>\n",
       "    <tr>\n",
       "      <th>4</th>\n",
       "      <td>1.0</td>\n",
       "      <td>3.0</td>\n",
       "      <td>3.0</td>\n",
       "      <td>1.0</td>\n",
       "      <td>1.0</td>\n",
       "      <td>1.0</td>\n",
       "      <td>0.0</td>\n",
       "      <td>1.0</td>\n",
       "      <td>1.0</td>\n",
       "      <td>4.0</td>\n",
       "      <td>...</td>\n",
       "      <td>387.70</td>\n",
       "      <td>2.0</td>\n",
       "      <td>0.0</td>\n",
       "      <td>1.0</td>\n",
       "      <td>0.0</td>\n",
       "      <td>1.0</td>\n",
       "      <td>19.05</td>\n",
       "      <td>410.80</td>\n",
       "      <td>5.575627</td>\n",
       "      <td>4.861013</td>\n",
       "    </tr>\n",
       "  </tbody>\n",
       "</table>\n",
       "<p>5 rows × 97 columns</p>\n",
       "</div>"
      ],
      "text/plain": [
       "   active  agecat  bfast  callcard  callid  callwait  carbought  carbuy  \\\n",
       "0     0.0     2.0    3.0       1.0     0.0       1.0        0.0     0.0   \n",
       "1     1.0     2.0    1.0       1.0     1.0       0.0        0.0     0.0   \n",
       "2     0.0     6.0    3.0       1.0     0.0       0.0        0.0     1.0   \n",
       "3     1.0     2.0    1.0       1.0     0.0       0.0        0.0     1.0   \n",
       "4     1.0     3.0    3.0       1.0     1.0       1.0        0.0     1.0   \n",
       "\n",
       "   carcatvalue  card    ...     tollten  townsize  union  voice  vote  \\\n",
       "0          1.0   3.0    ...      161.05       2.0    1.0    1.0   1.0   \n",
       "1          1.0   2.0    ...        0.00       5.0    0.0    1.0   0.0   \n",
       "2          1.0   2.0    ...        0.00       4.0    0.0    0.0   0.0   \n",
       "3          1.0   2.0    ...        0.00       3.0    0.0    0.0   0.0   \n",
       "4          1.0   4.0    ...      387.70       2.0    0.0    1.0   0.0   \n",
       "\n",
       "   wireless  wiremon  wireten  ln_avg_card_spent         0  \n",
       "0       0.0     0.00     0.00           4.439470  5.482096  \n",
       "1       1.0    45.65  1683.55           3.887115  5.631624  \n",
       "2       0.0     0.00     0.00           5.246945  5.378306  \n",
       "3       0.0     0.00     0.00           5.245470  4.559231  \n",
       "4       1.0    19.05   410.80           5.575627  4.861013  \n",
       "\n",
       "[5 rows x 97 columns]"
      ]
     },
     "execution_count": 478,
     "metadata": {},
     "output_type": "execute_result"
    }
   ],
   "source": [
    "train_xy_diff.head(5)"
   ]
  },
  {
   "cell_type": "code",
   "execution_count": 479,
   "metadata": {},
   "outputs": [
    {
     "name": "stdout",
     "output_type": "stream",
     "text": [
      "['active', 'agecat', 'bfast', 'callcard', 'callid', 'callwait', 'carbought', 'carbuy', 'carcatvalue', 'card', 'card2', 'card2benefit', 'card2fee', 'card2items', 'card2tenurecat', 'card2type', 'cardbenefit', 'cardfee', 'carditems', 'cardtenurecat', 'cardtype', 'carown', 'cars', 'cartype', 'churn', 'commutebike', 'commutebus', 'commutecar', 'commutecarpool', 'commutecat', 'commutemotorcycle', 'commutenonmotor', 'commutepublic', 'commuterail', 'commutetime', 'commutewalk', 'confer', 'debtinc', 'default', 'ebill', 'edcat', 'empcat', 'equip', 'equipmon', 'equipten', 'forward', 'gender', 'homeown', 'hometype', 'hourstv', 'inccat', 'internet', 'jobcat', 'jobsat', 'lncardmon', 'lncardten', 'lncreddebt', 'lnlongmon', 'lnlongten', 'lnothdebt', 'marital', 'multline', 'news', 'owncd', 'owndvd', 'ownfax', 'owngame', 'ownipod', 'ownpc', 'ownpda', 'owntv', 'ownvcr', 'pager', 'polcontrib', 'polparty', 'polview', 'reason', 'reside', 'response_01', 'response_02', 'response_03', 'retire', 'spousedcat', 'telecommute', 'tenure', 'tollfree', 'tollmon', 'tollten', 'townsize', 'union', 'voice', 'vote', 'wireless', 'wiremon', 'wireten', 'ln_avg_card_spent', 0]\n"
     ]
    }
   ],
   "source": [
    "var_list = list(train_xy_diff.columns)\n",
    "print(var_list)"
   ]
  },
  {
   "cell_type": "code",
   "execution_count": 480,
   "metadata": {
    "collapsed": true
   },
   "outputs": [],
   "source": [
    "var_list = ['active', 'agecat', 'bfast', 'callcard', 'callid', 'callwait', 'carbought', 'carbuy', 'carcatvalue', 'card', 'card2', 'card2benefit', 'card2fee', 'card2items', 'card2tenurecat', 'card2type', 'cardbenefit', 'cardfee', 'carditems', 'cardtenurecat', 'cardtype', 'carown', 'cars', 'cartype', 'churn', 'commutebike', 'commutebus', 'commutecar', 'commutecarpool', 'commutecat', 'commutemotorcycle', 'commutenonmotor', 'commutepublic', 'commuterail', 'commutetime', 'commutewalk', 'confer', 'debtinc', 'default', 'ebill', 'edcat', 'empcat', 'equip', 'equipmon', 'equipten', 'forward', 'gender', 'homeown', 'hometype', 'hourstv', 'inccat', 'internet', 'jobcat', 'jobsat', 'lncardmon', 'lncardten', 'lncreddebt', 'lnlongmon', 'lnlongten', 'lnothdebt', 'marital', 'multline', 'news', 'owncd', 'owndvd', 'ownfax', 'owngame', 'ownipod', 'ownpc', 'ownpda', 'owntv', 'ownvcr', 'pager', 'polcontrib', 'polparty', 'polview', 'reason', 'reside', 'response_01', 'response_02', 'response_03', 'retire', 'spousedcat', 'telecommute', 'tenure', 'tollfree', 'tollmon', 'tollten', 'townsize', 'union', 'voice', 'vote', 'wireless', 'wiremon', 'wireten', 'ln_avg_card_spent', 'pred_card_spent']"
   ]
  },
  {
   "cell_type": "code",
   "execution_count": 481,
   "metadata": {
    "collapsed": true
   },
   "outputs": [],
   "source": [
    "train_data = pd.DataFrame(train_xy_diff.values, columns = var_list)"
   ]
  },
  {
   "cell_type": "code",
   "execution_count": 482,
   "metadata": {},
   "outputs": [
    {
     "data": {
      "text/html": [
       "<div>\n",
       "<style>\n",
       "    .dataframe thead tr:only-child th {\n",
       "        text-align: right;\n",
       "    }\n",
       "\n",
       "    .dataframe thead th {\n",
       "        text-align: left;\n",
       "    }\n",
       "\n",
       "    .dataframe tbody tr th {\n",
       "        vertical-align: top;\n",
       "    }\n",
       "</style>\n",
       "<table border=\"1\" class=\"dataframe\">\n",
       "  <thead>\n",
       "    <tr style=\"text-align: right;\">\n",
       "      <th></th>\n",
       "      <th>active</th>\n",
       "      <th>agecat</th>\n",
       "      <th>bfast</th>\n",
       "      <th>callcard</th>\n",
       "      <th>callid</th>\n",
       "      <th>callwait</th>\n",
       "      <th>carbought</th>\n",
       "      <th>carbuy</th>\n",
       "      <th>carcatvalue</th>\n",
       "      <th>card</th>\n",
       "      <th>...</th>\n",
       "      <th>tollten</th>\n",
       "      <th>townsize</th>\n",
       "      <th>union</th>\n",
       "      <th>voice</th>\n",
       "      <th>vote</th>\n",
       "      <th>wireless</th>\n",
       "      <th>wiremon</th>\n",
       "      <th>wireten</th>\n",
       "      <th>ln_avg_card_spent</th>\n",
       "      <th>pred_card_spent</th>\n",
       "    </tr>\n",
       "  </thead>\n",
       "  <tbody>\n",
       "    <tr>\n",
       "      <th>0</th>\n",
       "      <td>0.0</td>\n",
       "      <td>2.0</td>\n",
       "      <td>3.0</td>\n",
       "      <td>1.0</td>\n",
       "      <td>0.0</td>\n",
       "      <td>1.0</td>\n",
       "      <td>0.0</td>\n",
       "      <td>0.0</td>\n",
       "      <td>1.0</td>\n",
       "      <td>3.0</td>\n",
       "      <td>...</td>\n",
       "      <td>161.05</td>\n",
       "      <td>2.0</td>\n",
       "      <td>1.0</td>\n",
       "      <td>1.0</td>\n",
       "      <td>1.0</td>\n",
       "      <td>0.0</td>\n",
       "      <td>0.00</td>\n",
       "      <td>0.00</td>\n",
       "      <td>4.439470</td>\n",
       "      <td>5.482096</td>\n",
       "    </tr>\n",
       "    <tr>\n",
       "      <th>1</th>\n",
       "      <td>1.0</td>\n",
       "      <td>2.0</td>\n",
       "      <td>1.0</td>\n",
       "      <td>1.0</td>\n",
       "      <td>1.0</td>\n",
       "      <td>0.0</td>\n",
       "      <td>0.0</td>\n",
       "      <td>0.0</td>\n",
       "      <td>1.0</td>\n",
       "      <td>2.0</td>\n",
       "      <td>...</td>\n",
       "      <td>0.00</td>\n",
       "      <td>5.0</td>\n",
       "      <td>0.0</td>\n",
       "      <td>1.0</td>\n",
       "      <td>0.0</td>\n",
       "      <td>1.0</td>\n",
       "      <td>45.65</td>\n",
       "      <td>1683.55</td>\n",
       "      <td>3.887115</td>\n",
       "      <td>5.631624</td>\n",
       "    </tr>\n",
       "    <tr>\n",
       "      <th>2</th>\n",
       "      <td>0.0</td>\n",
       "      <td>6.0</td>\n",
       "      <td>3.0</td>\n",
       "      <td>1.0</td>\n",
       "      <td>0.0</td>\n",
       "      <td>0.0</td>\n",
       "      <td>0.0</td>\n",
       "      <td>1.0</td>\n",
       "      <td>1.0</td>\n",
       "      <td>2.0</td>\n",
       "      <td>...</td>\n",
       "      <td>0.00</td>\n",
       "      <td>4.0</td>\n",
       "      <td>0.0</td>\n",
       "      <td>0.0</td>\n",
       "      <td>0.0</td>\n",
       "      <td>0.0</td>\n",
       "      <td>0.00</td>\n",
       "      <td>0.00</td>\n",
       "      <td>5.246945</td>\n",
       "      <td>5.378306</td>\n",
       "    </tr>\n",
       "    <tr>\n",
       "      <th>3</th>\n",
       "      <td>1.0</td>\n",
       "      <td>2.0</td>\n",
       "      <td>1.0</td>\n",
       "      <td>1.0</td>\n",
       "      <td>0.0</td>\n",
       "      <td>0.0</td>\n",
       "      <td>0.0</td>\n",
       "      <td>1.0</td>\n",
       "      <td>1.0</td>\n",
       "      <td>2.0</td>\n",
       "      <td>...</td>\n",
       "      <td>0.00</td>\n",
       "      <td>3.0</td>\n",
       "      <td>0.0</td>\n",
       "      <td>0.0</td>\n",
       "      <td>0.0</td>\n",
       "      <td>0.0</td>\n",
       "      <td>0.00</td>\n",
       "      <td>0.00</td>\n",
       "      <td>5.245470</td>\n",
       "      <td>4.559231</td>\n",
       "    </tr>\n",
       "    <tr>\n",
       "      <th>4</th>\n",
       "      <td>1.0</td>\n",
       "      <td>3.0</td>\n",
       "      <td>3.0</td>\n",
       "      <td>1.0</td>\n",
       "      <td>1.0</td>\n",
       "      <td>1.0</td>\n",
       "      <td>0.0</td>\n",
       "      <td>1.0</td>\n",
       "      <td>1.0</td>\n",
       "      <td>4.0</td>\n",
       "      <td>...</td>\n",
       "      <td>387.70</td>\n",
       "      <td>2.0</td>\n",
       "      <td>0.0</td>\n",
       "      <td>1.0</td>\n",
       "      <td>0.0</td>\n",
       "      <td>1.0</td>\n",
       "      <td>19.05</td>\n",
       "      <td>410.80</td>\n",
       "      <td>5.575627</td>\n",
       "      <td>4.861013</td>\n",
       "    </tr>\n",
       "  </tbody>\n",
       "</table>\n",
       "<p>5 rows × 97 columns</p>\n",
       "</div>"
      ],
      "text/plain": [
       "   active  agecat  bfast  callcard  callid  callwait  carbought  carbuy  \\\n",
       "0     0.0     2.0    3.0       1.0     0.0       1.0        0.0     0.0   \n",
       "1     1.0     2.0    1.0       1.0     1.0       0.0        0.0     0.0   \n",
       "2     0.0     6.0    3.0       1.0     0.0       0.0        0.0     1.0   \n",
       "3     1.0     2.0    1.0       1.0     0.0       0.0        0.0     1.0   \n",
       "4     1.0     3.0    3.0       1.0     1.0       1.0        0.0     1.0   \n",
       "\n",
       "   carcatvalue  card       ...         tollten  townsize  union  voice  vote  \\\n",
       "0          1.0   3.0       ...          161.05       2.0    1.0    1.0   1.0   \n",
       "1          1.0   2.0       ...            0.00       5.0    0.0    1.0   0.0   \n",
       "2          1.0   2.0       ...            0.00       4.0    0.0    0.0   0.0   \n",
       "3          1.0   2.0       ...            0.00       3.0    0.0    0.0   0.0   \n",
       "4          1.0   4.0       ...          387.70       2.0    0.0    1.0   0.0   \n",
       "\n",
       "   wireless  wiremon  wireten  ln_avg_card_spent  pred_card_spent  \n",
       "0       0.0     0.00     0.00           4.439470         5.482096  \n",
       "1       1.0    45.65  1683.55           3.887115         5.631624  \n",
       "2       0.0     0.00     0.00           5.246945         5.378306  \n",
       "3       0.0     0.00     0.00           5.245470         4.559231  \n",
       "4       1.0    19.05   410.80           5.575627         4.861013  \n",
       "\n",
       "[5 rows x 97 columns]"
      ]
     },
     "execution_count": 482,
     "metadata": {},
     "output_type": "execute_result"
    }
   ],
   "source": [
    "train_data.head(5)"
   ]
  },
  {
   "cell_type": "code",
   "execution_count": 483,
   "metadata": {
    "collapsed": true
   },
   "outputs": [],
   "source": [
    "test_y_pred = pd.DataFrame(clf_tree.predict(test_X))"
   ]
  },
  {
   "cell_type": "code",
   "execution_count": 484,
   "metadata": {},
   "outputs": [
    {
     "data": {
      "text/html": [
       "<div>\n",
       "<style>\n",
       "    .dataframe thead tr:only-child th {\n",
       "        text-align: right;\n",
       "    }\n",
       "\n",
       "    .dataframe thead th {\n",
       "        text-align: left;\n",
       "    }\n",
       "\n",
       "    .dataframe tbody tr th {\n",
       "        vertical-align: top;\n",
       "    }\n",
       "</style>\n",
       "<table border=\"1\" class=\"dataframe\">\n",
       "  <thead>\n",
       "    <tr style=\"text-align: right;\">\n",
       "      <th></th>\n",
       "      <th>0</th>\n",
       "    </tr>\n",
       "  </thead>\n",
       "  <tbody>\n",
       "    <tr>\n",
       "      <th>0</th>\n",
       "      <td>4.968006</td>\n",
       "    </tr>\n",
       "    <tr>\n",
       "      <th>1</th>\n",
       "      <td>5.247629</td>\n",
       "    </tr>\n",
       "    <tr>\n",
       "      <th>2</th>\n",
       "      <td>4.210051</td>\n",
       "    </tr>\n",
       "    <tr>\n",
       "      <th>3</th>\n",
       "      <td>6.392838</td>\n",
       "    </tr>\n",
       "    <tr>\n",
       "      <th>4</th>\n",
       "      <td>6.050146</td>\n",
       "    </tr>\n",
       "  </tbody>\n",
       "</table>\n",
       "</div>"
      ],
      "text/plain": [
       "          0\n",
       "0  4.968006\n",
       "1  5.247629\n",
       "2  4.210051\n",
       "3  6.392838\n",
       "4  6.050146"
      ]
     },
     "execution_count": 484,
     "metadata": {},
     "output_type": "execute_result"
    }
   ],
   "source": [
    "test_y_pred.head(5)"
   ]
  },
  {
   "cell_type": "code",
   "execution_count": 485,
   "metadata": {
    "collapsed": true
   },
   "outputs": [],
   "source": [
    "rmse_train = np.sqrt( metrics.mean_squared_error(train_y, train_y_pred))\n",
    "rmse_test = np.sqrt( metrics.mean_squared_error(test_y, test_y_pred))\n",
    "r2_score_train = metrics.r2_score(train_y, train_y_pred)\n",
    "r2_score_test = metrics.r2_score(test_y, test_y_pred)                                  "
   ]
  },
  {
   "cell_type": "code",
   "execution_count": 486,
   "metadata": {},
   "outputs": [
    {
     "name": "stdout",
     "output_type": "stream",
     "text": [
      "RMSE for training data:  1.98794767538e-05\n",
      "RMSE for test data:  0.5098109552\n",
      "R sq for for training data:  0.999999998968\n",
      "R sq for test data:  0.354821715839\n"
     ]
    }
   ],
   "source": [
    "print(\"RMSE for training data: \" ,rmse_train)\n",
    "print(\"RMSE for test data: \" ,rmse_test)\n",
    "print(\"R sq for for training data: \" ,r2_score_train)\n",
    "print(\"R sq for test data: \" ,r2_score_test)"
   ]
  },
  {
   "cell_type": "code",
   "execution_count": 748,
   "metadata": {
    "collapsed": true
   },
   "outputs": [],
   "source": [
    "#Above results show the that the model has overfitted the training data"
   ]
  },
  {
   "cell_type": "markdown",
   "metadata": {},
   "source": [
    "# Tuning the parameters"
   ]
  },
  {
   "cell_type": "code",
   "execution_count": 487,
   "metadata": {
    "collapsed": true
   },
   "outputs": [],
   "source": [
    "param_grid = {'max_depth': np.arange(3, 13),\n",
    "             'max_features': np.arange(15,40)}"
   ]
  },
  {
   "cell_type": "code",
   "execution_count": 488,
   "metadata": {},
   "outputs": [
    {
     "data": {
      "text/plain": [
       "GridSearchCV(cv=10, error_score='raise',\n",
       "       estimator=DecisionTreeRegressor(criterion='mse', max_depth=None, max_features=None,\n",
       "           max_leaf_nodes=None, min_impurity_decrease=0.0,\n",
       "           min_impurity_split=None, min_samples_leaf=1,\n",
       "           min_samples_split=2, min_weight_fraction_leaf=0.0,\n",
       "           presort=False, random_state=None, splitter='best'),\n",
       "       fit_params={}, iid=True, n_jobs=1,\n",
       "       param_grid={'max_depth': array([ 3,  4,  5,  6,  7,  8,  9, 10, 11, 12]), 'max_features': array([15, 16, 17, 18, 19, 20, 21, 22, 23, 24, 25, 26, 27, 28, 29, 30, 31,\n",
       "       32, 33, 34, 35, 36, 37, 38, 39])},\n",
       "       pre_dispatch='2*n_jobs', refit=True, scoring=None, verbose=0)"
      ]
     },
     "execution_count": 488,
     "metadata": {},
     "output_type": "execute_result"
    }
   ],
   "source": [
    "tree = GridSearchCV(DecisionTreeRegressor(), param_grid, cv = 10)\n",
    "tree.fit( train_X, train_y )"
   ]
  },
  {
   "cell_type": "code",
   "execution_count": 489,
   "metadata": {},
   "outputs": [
    {
     "data": {
      "text/plain": [
       "{'max_depth': 7, 'max_features': 39}"
      ]
     },
     "execution_count": 489,
     "metadata": {},
     "output_type": "execute_result"
    }
   ],
   "source": [
    "tree.best_params_"
   ]
  },
  {
   "cell_type": "code",
   "execution_count": 490,
   "metadata": {},
   "outputs": [
    {
     "data": {
      "text/plain": [
       "0.5346439850402207"
      ]
     },
     "execution_count": 490,
     "metadata": {},
     "output_type": "execute_result"
    }
   ],
   "source": [
    "tree.best_score_"
   ]
  },
  {
   "cell_type": "markdown",
   "metadata": {
    "collapsed": true
   },
   "source": [
    "# Building final decison tree model"
   ]
  },
  {
   "cell_type": "code",
   "execution_count": 491,
   "metadata": {},
   "outputs": [
    {
     "data": {
      "text/plain": [
       "DecisionTreeRegressor(criterion='mse', max_depth=6, max_features=29,\n",
       "           max_leaf_nodes=None, min_impurity_decrease=0.0,\n",
       "           min_impurity_split=None, min_samples_leaf=1,\n",
       "           min_samples_split=2, min_weight_fraction_leaf=0.0,\n",
       "           presort=False, random_state=None, splitter='best')"
      ]
     },
     "execution_count": 491,
     "metadata": {},
     "output_type": "execute_result"
    }
   ],
   "source": [
    "clf_tree = DecisionTreeRegressor( max_depth = 6, max_features=29 )\n",
    "clf_tree.fit( train_X, train_y )"
   ]
  },
  {
   "cell_type": "code",
   "execution_count": 492,
   "metadata": {
    "collapsed": true
   },
   "outputs": [],
   "source": [
    "train_Y_pred = clf_tree.predict(train_X)"
   ]
  },
  {
   "cell_type": "code",
   "execution_count": 493,
   "metadata": {
    "collapsed": true
   },
   "outputs": [],
   "source": [
    "test_Y_pred = clf_tree.predict(test_X)"
   ]
  },
  {
   "cell_type": "code",
   "execution_count": 494,
   "metadata": {
    "collapsed": true
   },
   "outputs": [],
   "source": [
    "rmse_train = np.sqrt( metrics.mean_squared_error(train_y, train_Y_pred))\n",
    "rmse_test = np.sqrt( metrics.mean_squared_error(test_y, test_Y_pred))\n",
    "r2_score_train = metrics.r2_score(train_y, train_Y_pred)\n",
    "r2_score_test = metrics.r2_score(test_y, test_Y_pred)                                  "
   ]
  },
  {
   "cell_type": "code",
   "execution_count": 495,
   "metadata": {},
   "outputs": [
    {
     "name": "stdout",
     "output_type": "stream",
     "text": [
      "RMSE for training data:  0.402374267511\n",
      "RMSE for test data:  0.441351898464\n",
      "R sq for for training data:  0.577323779044\n",
      "R sq for test data:  0.516461106995\n"
     ]
    }
   ],
   "source": [
    "print(\"RMSE for training data: \" ,rmse_train)\n",
    "print(\"RMSE for test data: \" ,rmse_test)\n",
    "print(\"R sq for for training data: \" ,r2_score_train)\n",
    "print(\"R sq for test data: \" ,r2_score_test)"
   ]
  },
  {
   "cell_type": "code",
   "execution_count": 749,
   "metadata": {
    "collapsed": true
   },
   "outputs": [],
   "source": [
    "#Above model fits the training data and test data with almost same accuracy"
   ]
  },
  {
   "cell_type": "markdown",
   "metadata": {
    "collapsed": true
   },
   "source": [
    "# Using bagged decision trees"
   ]
  },
  {
   "cell_type": "code",
   "execution_count": 496,
   "metadata": {
    "collapsed": true
   },
   "outputs": [],
   "source": [
    "import sklearn.ensemble as en"
   ]
  },
  {
   "cell_type": "code",
   "execution_count": 497,
   "metadata": {
    "collapsed": true
   },
   "outputs": [],
   "source": [
    "from sklearn.ensemble import BaggingRegressor"
   ]
  },
  {
   "cell_type": "code",
   "execution_count": 498,
   "metadata": {
    "collapsed": true
   },
   "outputs": [],
   "source": [
    "BaggingRegressor?"
   ]
  },
  {
   "cell_type": "code",
   "execution_count": 499,
   "metadata": {},
   "outputs": [
    {
     "data": {
      "text/plain": [
       "BaggingRegressor(base_estimator=None, bootstrap=True,\n",
       "         bootstrap_features=False, max_features=1.0, max_samples=1.0,\n",
       "         n_estimators=100, n_jobs=1, oob_score=True, random_state=None,\n",
       "         verbose=0, warm_start=False)"
      ]
     },
     "execution_count": 499,
     "metadata": {},
     "output_type": "execute_result"
    }
   ],
   "source": [
    "bagrgm = BaggingRegressor(oob_score=True, n_estimators=100)\n",
    "bagrgm.fit(train_X, train_y)"
   ]
  },
  {
   "cell_type": "code",
   "execution_count": 500,
   "metadata": {
    "collapsed": true
   },
   "outputs": [],
   "source": [
    "y_pred_train = pd.DataFrame( { 'actual':  train_y,\n",
    "                            'predicted': bagrgm.predict(train_X) } )"
   ]
  },
  {
   "cell_type": "code",
   "execution_count": 501,
   "metadata": {},
   "outputs": [
    {
     "data": {
      "text/html": [
       "<div>\n",
       "<style>\n",
       "    .dataframe thead tr:only-child th {\n",
       "        text-align: right;\n",
       "    }\n",
       "\n",
       "    .dataframe thead th {\n",
       "        text-align: left;\n",
       "    }\n",
       "\n",
       "    .dataframe tbody tr th {\n",
       "        vertical-align: top;\n",
       "    }\n",
       "</style>\n",
       "<table border=\"1\" class=\"dataframe\">\n",
       "  <thead>\n",
       "    <tr style=\"text-align: right;\">\n",
       "      <th></th>\n",
       "      <th>actual</th>\n",
       "      <th>predicted</th>\n",
       "    </tr>\n",
       "  </thead>\n",
       "  <tbody>\n",
       "    <tr>\n",
       "      <th>4227</th>\n",
       "      <td>5.482096</td>\n",
       "      <td>5.398946</td>\n",
       "    </tr>\n",
       "    <tr>\n",
       "      <th>4676</th>\n",
       "      <td>5.631624</td>\n",
       "      <td>5.612815</td>\n",
       "    </tr>\n",
       "    <tr>\n",
       "      <th>800</th>\n",
       "      <td>5.378306</td>\n",
       "      <td>5.530955</td>\n",
       "    </tr>\n",
       "    <tr>\n",
       "      <th>3671</th>\n",
       "      <td>4.559231</td>\n",
       "      <td>4.683397</td>\n",
       "    </tr>\n",
       "    <tr>\n",
       "      <th>4193</th>\n",
       "      <td>4.861013</td>\n",
       "      <td>5.022846</td>\n",
       "    </tr>\n",
       "  </tbody>\n",
       "</table>\n",
       "</div>"
      ],
      "text/plain": [
       "        actual  predicted\n",
       "4227  5.482096   5.398946\n",
       "4676  5.631624   5.612815\n",
       "800   5.378306   5.530955\n",
       "3671  4.559231   4.683397\n",
       "4193  4.861013   5.022846"
      ]
     },
     "execution_count": 501,
     "metadata": {},
     "output_type": "execute_result"
    }
   ],
   "source": [
    "y_pred_train.head(5)"
   ]
  },
  {
   "cell_type": "code",
   "execution_count": 502,
   "metadata": {
    "collapsed": true
   },
   "outputs": [],
   "source": [
    "y_pred_test = pd.DataFrame( { 'actual':  test_y,\n",
    "                            'predicted': bagrgm.predict( test_X) } )"
   ]
  },
  {
   "cell_type": "code",
   "execution_count": 503,
   "metadata": {},
   "outputs": [
    {
     "name": "stdout",
     "output_type": "stream",
     "text": [
      "RMSE for training data:  0.135406311212\n",
      "RMSE for test data:  0.36215994349\n",
      "R sq for for training data:  0.952134209931\n",
      "R sq for test data:  0.674416609617\n"
     ]
    }
   ],
   "source": [
    "rmse_train = np.sqrt( metrics.mean_squared_error(y_pred_train['actual'], y_pred_train['predicted']))\n",
    "rmse_test = np.sqrt( metrics.mean_squared_error(y_pred_test['actual'], y_pred_test['predicted']))\n",
    "r2_score_train = metrics.r2_score(y_pred_train['actual'], y_pred_train['predicted'])\n",
    "r2_score_test = metrics.r2_score(y_pred_test['actual'], y_pred_test['predicted'])         \n",
    "\n",
    "print(\"RMSE for training data: \" ,rmse_train)\n",
    "print(\"RMSE for test data: \" ,rmse_test)\n",
    "print(\"R sq for for training data: \" ,r2_score_train)\n",
    "print(\"R sq for test data: \" ,r2_score_test)"
   ]
  },
  {
   "cell_type": "markdown",
   "metadata": {},
   "source": [
    "# Random Forest"
   ]
  },
  {
   "cell_type": "code",
   "execution_count": 504,
   "metadata": {
    "collapsed": true
   },
   "outputs": [],
   "source": [
    "from sklearn.ensemble import RandomForestRegressor"
   ]
  },
  {
   "cell_type": "code",
   "execution_count": 505,
   "metadata": {
    "collapsed": true
   },
   "outputs": [],
   "source": [
    "RandomForestRegressor?"
   ]
  },
  {
   "cell_type": "code",
   "execution_count": 506,
   "metadata": {},
   "outputs": [
    {
     "data": {
      "text/plain": [
       "RandomForestRegressor(bootstrap=True, criterion='mse', max_depth=None,\n",
       "           max_features='auto', max_leaf_nodes=None,\n",
       "           min_impurity_decrease=0.0, min_impurity_split=None,\n",
       "           min_samples_leaf=1, min_samples_split=2,\n",
       "           min_weight_fraction_leaf=0.0, n_estimators=100, n_jobs=1,\n",
       "           oob_score=True, random_state=None, verbose=0, warm_start=False)"
      ]
     },
     "execution_count": 506,
     "metadata": {},
     "output_type": "execute_result"
    }
   ],
   "source": [
    "radm_rgs = RandomForestRegressor(oob_score=True,n_estimators=100 )\n",
    "radm_rgs.fit( train_X, train_y )"
   ]
  },
  {
   "cell_type": "code",
   "execution_count": 507,
   "metadata": {
    "collapsed": true
   },
   "outputs": [],
   "source": [
    "radm_train_pred = pd.DataFrame( { 'actual':  train_y,\n",
    "                            'predicted': radm_rgs.predict( train_X ) } )"
   ]
  },
  {
   "cell_type": "code",
   "execution_count": 508,
   "metadata": {
    "collapsed": true
   },
   "outputs": [],
   "source": [
    "radm_test_pred = pd.DataFrame( { 'actual':  test_y,\n",
    "                            'predicted': radm_rgs.predict( test_X ) } )"
   ]
  },
  {
   "cell_type": "code",
   "execution_count": 509,
   "metadata": {},
   "outputs": [
    {
     "name": "stdout",
     "output_type": "stream",
     "text": [
      "RMSE for training data:  0.133796612403\n",
      "RMSE for test data:  0.365136929284\n",
      "R sq for for training data:  0.953265494368\n",
      "R sq for test data:  0.669041963229\n"
     ]
    }
   ],
   "source": [
    "rmse_train = np.sqrt( metrics.mean_squared_error(radm_train_pred['actual'], radm_train_pred['predicted']))\n",
    "rmse_test = np.sqrt( metrics.mean_squared_error(radm_test_pred['actual'], radm_test_pred['predicted']))\n",
    "r2_score_train = metrics.r2_score(radm_train_pred['actual'], radm_train_pred['predicted'])\n",
    "r2_score_test = metrics.r2_score(radm_test_pred['actual'], radm_test_pred['predicted'])         \n",
    "\n",
    "print(\"RMSE for training data: \" ,rmse_train)\n",
    "print(\"RMSE for test data: \" ,rmse_test)\n",
    "print(\"R sq for for training data: \" ,r2_score_train)\n",
    "print(\"R sq for test data: \" ,r2_score_test)"
   ]
  },
  {
   "cell_type": "markdown",
   "metadata": {},
   "source": [
    "Feature importance from the Random Forest Model"
   ]
  },
  {
   "cell_type": "code",
   "execution_count": 510,
   "metadata": {},
   "outputs": [
    {
     "name": "stdout",
     "output_type": "stream",
     "text": [
      "[18 13  9 50 10 59 56 37 49 54 57 34 55 58 84  8 75 87 86 88 53 11 52 44 16\n",
      " 22 77 43 20 15 40  1 48 82 51 41 94 29  2 93 76 46 81 14  7  6 73 26  0 19\n",
      " 35 23 66 47 91 21 28 74 33 89 68 79 25 12 61 67 30 62 83 24  5 17  4 36 64\n",
      " 45 80 38 32 39 90 69  3 27 71 65 78 60 72 63 31 85 92 42 70]\n"
     ]
    }
   ],
   "source": [
    "indices = np.argsort(radm_rgs.feature_importances_)[::-1]\n",
    "print(indices)"
   ]
  },
  {
   "cell_type": "code",
   "execution_count": null,
   "metadata": {
    "collapsed": true
   },
   "outputs": [],
   "source": []
  },
  {
   "cell_type": "code",
   "execution_count": null,
   "metadata": {},
   "outputs": [],
   "source": []
  },
  {
   "cell_type": "code",
   "execution_count": 511,
   "metadata": {},
   "outputs": [
    {
     "data": {
      "image/png": "[encoded data removed]",
      "text/plain": [
       "<matplotlib.figure.Figure at 0x16e1f5f8>"
      ]
     },
     "metadata": {},
     "output_type": "display_data"
    }
   ],
   "source": [
    "import seaborn as sns\n",
    "import matplotlib.pyplot as plt\n",
    "\n",
    "indices = np.argsort(radm_rgs.feature_importances_)[::-1]\n",
    "feature_rank = pd.DataFrame( columns = ['rank', 'feature', 'importance'] )\n",
    "for f in range(train_X.shape[1]):\n",
    "  feature_rank.loc[f] = [f+1,\n",
    "                         train_X.columns[indices[f]],\n",
    "                         radm_rgs.feature_importances_[indices[f]]]\n",
    "sns.barplot( y = 'feature', x = 'importance', data = feature_rank[0:30])\n",
    "plt.show()"
   ]
  },
  {
   "cell_type": "code",
   "execution_count": 512,
   "metadata": {},
   "outputs": [
    {
     "data": {
      "text/html": [
       "<div>\n",
       "<style>\n",
       "    .dataframe thead tr:only-child th {\n",
       "        text-align: right;\n",
       "    }\n",
       "\n",
       "    .dataframe thead th {\n",
       "        text-align: left;\n",
       "    }\n",
       "\n",
       "    .dataframe tbody tr th {\n",
       "        vertical-align: top;\n",
       "    }\n",
       "</style>\n",
       "<table border=\"1\" class=\"dataframe\">\n",
       "  <thead>\n",
       "    <tr style=\"text-align: right;\">\n",
       "      <th></th>\n",
       "      <th>rank</th>\n",
       "      <th>feature</th>\n",
       "      <th>importance</th>\n",
       "    </tr>\n",
       "  </thead>\n",
       "  <tbody>\n",
       "    <tr>\n",
       "      <th>0</th>\n",
       "      <td>1</td>\n",
       "      <td>carditems</td>\n",
       "      <td>0.251362</td>\n",
       "    </tr>\n",
       "    <tr>\n",
       "      <th>1</th>\n",
       "      <td>2</td>\n",
       "      <td>card2items</td>\n",
       "      <td>0.246607</td>\n",
       "    </tr>\n",
       "    <tr>\n",
       "      <th>2</th>\n",
       "      <td>3</td>\n",
       "      <td>card</td>\n",
       "      <td>0.088832</td>\n",
       "    </tr>\n",
       "    <tr>\n",
       "      <th>3</th>\n",
       "      <td>4</td>\n",
       "      <td>inccat</td>\n",
       "      <td>0.077285</td>\n",
       "    </tr>\n",
       "    <tr>\n",
       "      <th>4</th>\n",
       "      <td>5</td>\n",
       "      <td>card2</td>\n",
       "      <td>0.022223</td>\n",
       "    </tr>\n",
       "    <tr>\n",
       "      <th>5</th>\n",
       "      <td>6</td>\n",
       "      <td>lnothdebt</td>\n",
       "      <td>0.021594</td>\n",
       "    </tr>\n",
       "    <tr>\n",
       "      <th>6</th>\n",
       "      <td>7</td>\n",
       "      <td>lncreddebt</td>\n",
       "      <td>0.019947</td>\n",
       "    </tr>\n",
       "    <tr>\n",
       "      <th>7</th>\n",
       "      <td>8</td>\n",
       "      <td>debtinc</td>\n",
       "      <td>0.014709</td>\n",
       "    </tr>\n",
       "    <tr>\n",
       "      <th>8</th>\n",
       "      <td>9</td>\n",
       "      <td>hourstv</td>\n",
       "      <td>0.012346</td>\n",
       "    </tr>\n",
       "    <tr>\n",
       "      <th>9</th>\n",
       "      <td>10</td>\n",
       "      <td>lncardmon</td>\n",
       "      <td>0.011503</td>\n",
       "    </tr>\n",
       "  </tbody>\n",
       "</table>\n",
       "</div>"
      ],
      "text/plain": [
       "  rank     feature  importance\n",
       "0    1   carditems    0.251362\n",
       "1    2  card2items    0.246607\n",
       "2    3        card    0.088832\n",
       "3    4      inccat    0.077285\n",
       "4    5       card2    0.022223\n",
       "5    6   lnothdebt    0.021594\n",
       "6    7  lncreddebt    0.019947\n",
       "7    8     debtinc    0.014709\n",
       "8    9     hourstv    0.012346\n",
       "9   10   lncardmon    0.011503"
      ]
     },
     "execution_count": 512,
     "metadata": {},
     "output_type": "execute_result"
    }
   ],
   "source": [
    "feature_rank.head(10)"
   ]
  },
  {
   "cell_type": "markdown",
   "metadata": {},
   "source": [
    "As per the results, the top features affecting the credit card spent are\n",
    "\n",
    "carditems, card2items, card, inccat, lnotherdebt"
   ]
  },
  {
   "cell_type": "markdown",
   "metadata": {},
   "source": [
    "# Boosting"
   ]
  },
  {
   "cell_type": "code",
   "execution_count": 513,
   "metadata": {
    "collapsed": true
   },
   "outputs": [],
   "source": [
    "from sklearn.ensemble import AdaBoostRegressor, GradientBoostingRegressor"
   ]
  },
  {
   "cell_type": "code",
   "execution_count": 514,
   "metadata": {
    "collapsed": true
   },
   "outputs": [],
   "source": [
    "pargrid_ada = {'n_estimators': [100, 200, 400, 600, 800],\n",
    "               'learning_rate': [10 ** x for x in range(-3, 3)]}"
   ]
  },
  {
   "cell_type": "code",
   "execution_count": 515,
   "metadata": {
    "collapsed": true
   },
   "outputs": [],
   "source": [
    "from sklearn.grid_search import GridSearchCV\n",
    "gscv_ada = GridSearchCV(estimator=AdaBoostRegressor(), \n",
    "                        param_grid=pargrid_ada, \n",
    "                        cv=5,\n",
    "                        verbose=True, n_jobs=-1)"
   ]
  },
  {
   "cell_type": "code",
   "execution_count": 516,
   "metadata": {},
   "outputs": [
    {
     "name": "stdout",
     "output_type": "stream",
     "text": [
      "Fitting 5 folds for each of 30 candidates, totalling 150 fits\n"
     ]
    },
    {
     "name": "stderr",
     "output_type": "stream",
     "text": [
      "[Parallel(n_jobs=-1)]: Done  42 tasks      | elapsed:  4.2min\n",
      "[Parallel(n_jobs=-1)]: Done 150 out of 150 | elapsed:  9.8min finished\n"
     ]
    },
    {
     "data": {
      "text/plain": [
       "GridSearchCV(cv=5, error_score='raise',\n",
       "       estimator=AdaBoostRegressor(base_estimator=None, learning_rate=1.0, loss='linear',\n",
       "         n_estimators=50, random_state=None),\n",
       "       fit_params={}, iid=True, n_jobs=-1,\n",
       "       param_grid={'n_estimators': [100, 200, 400, 600, 800], 'learning_rate': [0.001, 0.01, 0.1, 1, 10, 100]},\n",
       "       pre_dispatch='2*n_jobs', refit=True, scoring=None, verbose=True)"
      ]
     },
     "execution_count": 516,
     "metadata": {},
     "output_type": "execute_result"
    }
   ],
   "source": [
    "gscv_ada.fit(train_X, train_y)"
   ]
  },
  {
   "cell_type": "code",
   "execution_count": 517,
   "metadata": {},
   "outputs": [
    {
     "data": {
      "text/plain": [
       "{'learning_rate': 1, 'n_estimators': 400}"
      ]
     },
     "execution_count": 517,
     "metadata": {},
     "output_type": "execute_result"
    }
   ],
   "source": [
    "gscv_ada.best_params_"
   ]
  },
  {
   "cell_type": "code",
   "execution_count": 518,
   "metadata": {
    "collapsed": true
   },
   "outputs": [],
   "source": [
    "rgs_ada = gscv_ada.best_estimator_"
   ]
  },
  {
   "cell_type": "code",
   "execution_count": 519,
   "metadata": {},
   "outputs": [
    {
     "data": {
      "text/plain": [
       "0.6169861687642725"
      ]
     },
     "execution_count": 519,
     "metadata": {},
     "output_type": "execute_result"
    }
   ],
   "source": [
    "gscv_ada.best_score_"
   ]
  },
  {
   "cell_type": "code",
   "execution_count": 525,
   "metadata": {
    "collapsed": true
   },
   "outputs": [],
   "source": [
    "AdaBoostRegressor?"
   ]
  },
  {
   "cell_type": "code",
   "execution_count": 526,
   "metadata": {},
   "outputs": [
    {
     "data": {
      "text/plain": [
       "AdaBoostRegressor(base_estimator=None, learning_rate=1, loss='linear',\n",
       "         n_estimators=400, random_state=None)"
      ]
     },
     "execution_count": 526,
     "metadata": {},
     "output_type": "execute_result"
    }
   ],
   "source": [
    "ad = AdaBoostRegressor(n_estimators=400, learning_rate=1)\n",
    "ad.fit(train_X, train_y)"
   ]
  },
  {
   "cell_type": "code",
   "execution_count": 527,
   "metadata": {
    "collapsed": true
   },
   "outputs": [],
   "source": [
    "from sklearn.cross_validation import cross_val_score"
   ]
  },
  {
   "cell_type": "code",
   "execution_count": 528,
   "metadata": {},
   "outputs": [
    {
     "name": "stdout",
     "output_type": "stream",
     "text": [
      "min     0.556252\n",
      "mean    0.614431\n",
      "max     0.663202\n",
      "dtype: float64\n",
      "min     0.468004\n",
      "mean    0.612146\n",
      "max     0.724547\n",
      "dtype: float64\n"
     ]
    }
   ],
   "source": [
    "print(pd.Series(cross_val_score(rgs_ada, \n",
    "                             train_X, train_y, cv=10)).describe()[['min', 'mean', 'max']])\n",
    "\n",
    "print(pd.Series(cross_val_score(rgs_ada, \n",
    "                             test_X, test_y, cv=10)).describe()[['min', 'mean', 'max']])"
   ]
  },
  {
   "cell_type": "code",
   "execution_count": 530,
   "metadata": {},
   "outputs": [
    {
     "name": "stdout",
     "output_type": "stream",
     "text": [
      "0    0.559141\n",
      "1    0.609367\n",
      "2    0.578480\n",
      "3    0.668757\n",
      "4    0.599745\n",
      "5    0.632616\n",
      "6    0.610843\n",
      "7    0.654578\n",
      "8    0.643121\n",
      "9    0.609630\n",
      "dtype: float64\n"
     ]
    }
   ],
   "source": [
    "print(pd.Series(cross_val_score(rgs_ada, \n",
    "                             train_X, train_y, cv=10)))"
   ]
  },
  {
   "cell_type": "markdown",
   "metadata": {},
   "source": [
    "# Using signifdicant variables"
   ]
  },
  {
   "cell_type": "code",
   "execution_count": 575,
   "metadata": {
    "collapsed": true
   },
   "outputs": [],
   "source": [
    "import statsmodels as sm\n",
    "from statsmodels.stats.outliers_influence import variance_inflation_factor\n",
    "from patsy import dmatrices"
   ]
  },
  {
   "cell_type": "code",
   "execution_count": 576,
   "metadata": {},
   "outputs": [
    {
     "name": "stdout",
     "output_type": "stream",
     "text": [
      "active+address+addresscat+age+agecat+bfast+callcard+callid+callwait+carbought+carbuy+carcatvalue+card+card2+card2benefit+card2fee+card2items+card2tenure+card2tenurecat+card2type+cardbenefit+cardfee+carditems+cardmon+cardten+cardtenure+cardtenurecat+cardtype+carown+cars+cartype+carvalue+churn+commute+commutebike+commutebus+commutecar+commutecarpool+commutecat+commutemotorcycle+commutenonmotor+commutepublic+commuterail+commutetime+commutewalk+confer+creddebt+debtinc+default+ebill+ed+edcat+empcat+employ+equip+equipmon+equipten+forward+gender+homeown+hometype+hourstv+inccat+income+internet+jobcat+jobsat+lncardmon+lncardten+lncreddebt+lninc+lnlongmon+lnlongten+lnothdebt+longmon+longten+marital+multline+news+othdebt+owncd+owndvd+ownfax+owngame+ownipod+ownpc+ownpda+owntv+ownvcr+pager+polcontrib+polparty+polview+reason+region+reside+response_01+response_02+response_03+retire+spoused+spousedcat+telecommute+tenure+tollfree+tollmon+tollten+townsize+union+voice+vote+wireless+wiremon+wireten\n",
      "ln_avg_card_spent~active+address+addresscat+age+agecat+bfast+callcard+callid+callwait+carbought+carbuy+carcatvalue+card+card2+card2benefit+card2fee+card2items+card2tenure+card2tenurecat+card2type+cardbenefit+cardfee+carditems+cardmon+cardten+cardtenure+cardtenurecat+cardtype+carown+cars+cartype+carvalue+churn+commute+commutebike+commutebus+commutecar+commutecarpool+commutecat+commutemotorcycle+commutenonmotor+commutepublic+commuterail+commutetime+commutewalk+confer+creddebt+debtinc+default+ebill+ed+edcat+empcat+employ+equip+equipmon+equipten+forward+gender+homeown+hometype+hourstv+inccat+income+internet+jobcat+jobsat+lncardmon+lncardten+lncreddebt+lninc+lnlongmon+lnlongten+lnothdebt+longmon+longten+marital+multline+news+othdebt+owncd+owndvd+ownfax+owngame+ownipod+ownpc+ownpda+owntv+ownvcr+pager+polcontrib+polparty+polview+reason+region+reside+response_01+response_02+response_03+retire+spoused+spousedcat+telecommute+tenure+tollfree+tollmon+tollten+townsize+union+voice+vote+wireless+wiremon+wireten\n"
     ]
    }
   ],
   "source": [
    "columns_x = \"+\".join(credit_data.columns.difference( ['ln_avg_card_spent'] ))\n",
    "print(columns_x)\n",
    "my_formula = \"ln_avg_card_spent~\" + columns_x\n",
    "print(my_formula)"
   ]
  },
  {
   "cell_type": "code",
   "execution_count": 577,
   "metadata": {},
   "outputs": [],
   "source": [
    "y,X = dmatrices(my_formula, credit_data, return_type='dataframe')"
   ]
  },
  {
   "cell_type": "code",
   "execution_count": null,
   "metadata": {
    "collapsed": true
   },
   "outputs": [],
   "source": []
  },
  {
   "cell_type": "code",
   "execution_count": 578,
   "metadata": {},
   "outputs": [],
   "source": [
    "from statsmodels.stats.outliers_influence import variance_inflation_factor\n",
    "\n",
    "vif = pd.DataFrame()\n",
    "vif[\"VIF Factor\"] = [variance_inflation_factor(X.values, i) for i in range(X.shape[1])]\n",
    "vif[\"features\"] = X.columns"
   ]
  },
  {
   "cell_type": "code",
   "execution_count": 579,
   "metadata": {},
   "outputs": [
    {
     "data": {
      "text/plain": [
       "(115, 2)"
      ]
     },
     "execution_count": 579,
     "metadata": {},
     "output_type": "execute_result"
    }
   ],
   "source": [
    "vif.shape"
   ]
  },
  {
   "cell_type": "code",
   "execution_count": null,
   "metadata": {
    "collapsed": true
   },
   "outputs": [],
   "source": []
  },
  {
   "cell_type": "code",
   "execution_count": 580,
   "metadata": {},
   "outputs": [
    {
     "data": {
      "text/html": [
       "<div>\n",
       "<style>\n",
       "    .dataframe thead tr:only-child th {\n",
       "        text-align: right;\n",
       "    }\n",
       "\n",
       "    .dataframe thead th {\n",
       "        text-align: left;\n",
       "    }\n",
       "\n",
       "    .dataframe tbody tr th {\n",
       "        vertical-align: top;\n",
       "    }\n",
       "</style>\n",
       "<table border=\"1\" class=\"dataframe\">\n",
       "  <thead>\n",
       "    <tr style=\"text-align: right;\">\n",
       "      <th></th>\n",
       "      <th>VIF Factor</th>\n",
       "      <th>features</th>\n",
       "    </tr>\n",
       "  </thead>\n",
       "  <tbody>\n",
       "    <tr>\n",
       "      <th>0</th>\n",
       "      <td>947.944397</td>\n",
       "      <td>Intercept</td>\n",
       "    </tr>\n",
       "    <tr>\n",
       "      <th>1</th>\n",
       "      <td>170.609542</td>\n",
       "      <td>longmon</td>\n",
       "    </tr>\n",
       "    <tr>\n",
       "      <th>2</th>\n",
       "      <td>150.904565</td>\n",
       "      <td>longten</td>\n",
       "    </tr>\n",
       "    <tr>\n",
       "      <th>3</th>\n",
       "      <td>128.229220</td>\n",
       "      <td>spoused</td>\n",
       "    </tr>\n",
       "    <tr>\n",
       "      <th>4</th>\n",
       "      <td>59.806420</td>\n",
       "      <td>spousedcat</td>\n",
       "    </tr>\n",
       "    <tr>\n",
       "      <th>5</th>\n",
       "      <td>40.351726</td>\n",
       "      <td>commutecat</td>\n",
       "    </tr>\n",
       "    <tr>\n",
       "      <th>6</th>\n",
       "      <td>37.641056</td>\n",
       "      <td>equipmon</td>\n",
       "    </tr>\n",
       "    <tr>\n",
       "      <th>7</th>\n",
       "      <td>36.506401</td>\n",
       "      <td>commute</td>\n",
       "    </tr>\n",
       "    <tr>\n",
       "      <th>8</th>\n",
       "      <td>34.222086</td>\n",
       "      <td>card2tenure</td>\n",
       "    </tr>\n",
       "    <tr>\n",
       "      <th>9</th>\n",
       "      <td>30.292760</td>\n",
       "      <td>lnlongmon</td>\n",
       "    </tr>\n",
       "  </tbody>\n",
       "</table>\n",
       "</div>"
      ],
      "text/plain": [
       "   VIF Factor     features\n",
       "0  947.944397    Intercept\n",
       "1  170.609542      longmon\n",
       "2  150.904565      longten\n",
       "3  128.229220      spoused\n",
       "4   59.806420   spousedcat\n",
       "5   40.351726   commutecat\n",
       "6   37.641056     equipmon\n",
       "7   36.506401      commute\n",
       "8   34.222086  card2tenure\n",
       "9   30.292760    lnlongmon"
      ]
     },
     "execution_count": 580,
     "metadata": {},
     "output_type": "execute_result"
    }
   ],
   "source": [
    "vif.sort_values(by='VIF Factor', inplace = True, ascending=False)\n",
    "vif.reset_index(drop=True, inplace=True)\n",
    "vif.head(10)"
   ]
  },
  {
   "cell_type": "code",
   "execution_count": 599,
   "metadata": {},
   "outputs": [],
   "source": [
    "large_vif_features = vif[vif['VIF Factor'] > 4]['features']"
   ]
  },
  {
   "cell_type": "code",
   "execution_count": 600,
   "metadata": {},
   "outputs": [
    {
     "name": "stdout",
     "output_type": "stream",
     "text": [
      "['Intercept', 'longmon', 'longten', 'spoused', 'spousedcat', 'commutecat', 'equipmon', 'commute', 'card2tenure', 'lnlongmon', 'wiremon', 'cardmon', 'tenure', 'lnlongten', 'marital', 'lninc', 'age', 'cardtenure', 'agecat', 'equip', 'card2tenurecat', 'tollmon', 'ed', 'cardten', 'edcat', 'wireten', 'inccat', 'cardtenurecat', 'tollten', 'addresscat', 'carvalue', 'income', 'lncardmon', 'address', 'equipten', 'callcard', 'carcatvalue', 'employ', 'wireless', 'empcat', 'lnothdebt', 'lncardten', 'debtinc', 'tollfree', 'othdebt']\n"
     ]
    }
   ],
   "source": [
    "print(list(large_vif_features))"
   ]
  },
  {
   "cell_type": "code",
   "execution_count": 601,
   "metadata": {
    "collapsed": true
   },
   "outputs": [],
   "source": [
    "#Dropping above variables except Intercept"
   ]
  },
  {
   "cell_type": "code",
   "execution_count": 603,
   "metadata": {
    "collapsed": true
   },
   "outputs": [],
   "source": [
    "#large_vif_features = ['longmon', 'longten', 'spoused', 'spousedcat', 'commutecat', 'equipmon', 'commute', 'card2tenure', 'lnlongmon', 'wiremon', 'cardmon', 'tenure', 'lnlongten', 'marital', 'lninc', 'age', 'cardtenure', 'agecat', 'equip', 'card2tenurecat', 'tollmon', 'ed', 'cardten', 'edcat', 'wireten', 'inccat', 'cardtenurecat', 'tollten', 'addresscat']\n",
    "#large_vif_features = ['longmon', 'longten', 'spoused', 'spousedcat', 'commutecat', 'equipmon', 'commute', 'card2tenure', 'lnlongmon', 'wiremon', 'cardmon', 'tenure', 'lnlongten', 'marital', 'lninc', 'age', 'cardtenure', 'agecat', 'equip', 'card2tenurecat', 'tollmon', 'ed', 'cardten', 'edcat', 'wireten', 'inccat', 'cardtenurecat', 'tollten', 'addresscat', 'carvalue', 'income', 'lncardmon', 'address', 'equipten', 'callcard', 'carcatvalue']\n",
    "large_vif_features = ['longmon', 'longten', 'spoused', 'spousedcat', 'commutecat', 'equipmon', 'commute', 'card2tenure', 'lnlongmon', 'wiremon', 'cardmon', 'tenure', 'lnlongten', 'marital', 'lninc', 'age', 'cardtenure', 'agecat', 'equip', 'card2tenurecat', 'tollmon', 'ed', 'cardten', 'edcat', 'wireten', 'inccat', 'cardtenurecat', 'tollten', 'addresscat', 'carvalue', 'income', 'lncardmon', 'address', 'equipten', 'callcard', 'carcatvalue', 'employ', 'wireless', 'empcat', 'lnothdebt', 'lncardten', 'debtinc', 'tollfree', 'othdebt']"
   ]
  },
  {
   "cell_type": "code",
   "execution_count": 604,
   "metadata": {
    "collapsed": true
   },
   "outputs": [],
   "source": [
    "cols_list = credit_data.columns.difference(large_vif_features) "
   ]
  },
  {
   "cell_type": "code",
   "execution_count": 605,
   "metadata": {},
   "outputs": [
    {
     "name": "stdout",
     "output_type": "stream",
     "text": [
      "71\n"
     ]
    }
   ],
   "source": [
    "print(len(cols_list))"
   ]
  },
  {
   "cell_type": "code",
   "execution_count": 606,
   "metadata": {
    "collapsed": true
   },
   "outputs": [],
   "source": [
    "credit_data_new = credit_data[cols_list]"
   ]
  },
  {
   "cell_type": "code",
   "execution_count": 607,
   "metadata": {},
   "outputs": [
    {
     "data": {
      "image/png": "[encoded data removed]",
      "text/plain": [
       "<matplotlib.figure.Figure at 0x1c662d68>"
      ]
     },
     "metadata": {},
     "output_type": "display_data"
    }
   ],
   "source": [
    "sns.heatmap(credit_data_new.corr())\n",
    "plt.show()"
   ]
  },
  {
   "cell_type": "code",
   "execution_count": 608,
   "metadata": {},
   "outputs": [
    {
     "name": "stdout",
     "output_type": "stream",
     "text": [
      "active+bfast+callid+callwait+carbought+carbuy+card+card2+card2benefit+card2fee+card2items+card2type+cardbenefit+cardfee+carditems+cardtype+carown+cars+cartype+churn+commutebike+commutebus+commutecar+commutecarpool+commutemotorcycle+commutenonmotor+commutepublic+commuterail+commutetime+commutewalk+confer+creddebt+default+ebill+forward+gender+homeown+hometype+hourstv+internet+jobcat+jobsat+lncreddebt+multline+news+owncd+owndvd+ownfax+owngame+ownipod+ownpc+ownpda+owntv+ownvcr+pager+polcontrib+polparty+polview+reason+region+reside+response_01+response_02+response_03+retire+telecommute+townsize+union+voice+vote\n",
      "ln_avg_card_spent~active+bfast+callid+callwait+carbought+carbuy+card+card2+card2benefit+card2fee+card2items+card2type+cardbenefit+cardfee+carditems+cardtype+carown+cars+cartype+churn+commutebike+commutebus+commutecar+commutecarpool+commutemotorcycle+commutenonmotor+commutepublic+commuterail+commutetime+commutewalk+confer+creddebt+default+ebill+forward+gender+homeown+hometype+hourstv+internet+jobcat+jobsat+lncreddebt+multline+news+owncd+owndvd+ownfax+owngame+ownipod+ownpc+ownpda+owntv+ownvcr+pager+polcontrib+polparty+polview+reason+region+reside+response_01+response_02+response_03+retire+telecommute+townsize+union+voice+vote\n"
     ]
    }
   ],
   "source": [
    "columns_x = \"+\".join(credit_data_new.columns.difference( ['ln_avg_card_spent'] ))\n",
    "print(columns_x)\n",
    "my_formula = \"ln_avg_card_spent~\" + columns_x\n",
    "print(my_formula)"
   ]
  },
  {
   "cell_type": "code",
   "execution_count": null,
   "metadata": {
    "collapsed": true
   },
   "outputs": [],
   "source": []
  },
  {
   "cell_type": "code",
   "execution_count": 609,
   "metadata": {},
   "outputs": [],
   "source": [
    "import statsmodels.formula.api as smf\n",
    "lm1=smf.ols(my_formula, credit_data_new).fit()"
   ]
  },
  {
   "cell_type": "code",
   "execution_count": 610,
   "metadata": {},
   "outputs": [
    {
     "data": {
      "text/html": [
       "<table class=\"simpletable\">\n",
       "<caption>OLS Regression Results</caption>\n",
       "<tr>\n",
       "  <th>Dep. Variable:</th>    <td>ln_avg_card_spent</td> <th>  R-squared:         </th> <td>   0.601</td>\n",
       "</tr>\n",
       "<tr>\n",
       "  <th>Model:</th>                   <td>OLS</td>        <th>  Adj. R-squared:    </th> <td>   0.595</td>\n",
       "</tr>\n",
       "<tr>\n",
       "  <th>Method:</th>             <td>Least Squares</td>   <th>  F-statistic:       </th> <td>   105.9</td>\n",
       "</tr>\n",
       "<tr>\n",
       "  <th>Date:</th>             <td>Thu, 06 Sep 2018</td>  <th>  Prob (F-statistic):</th>  <td>  0.00</td> \n",
       "</tr>\n",
       "<tr>\n",
       "  <th>Time:</th>                 <td>06:50:36</td>      <th>  Log-Likelihood:    </th> <td> -2427.4</td>\n",
       "</tr>\n",
       "<tr>\n",
       "  <th>No. Observations:</th>      <td>  5000</td>       <th>  AIC:               </th> <td>   4997.</td>\n",
       "</tr>\n",
       "<tr>\n",
       "  <th>Df Residuals:</th>          <td>  4929</td>       <th>  BIC:               </th> <td>   5460.</td>\n",
       "</tr>\n",
       "<tr>\n",
       "  <th>Df Model:</th>              <td>    70</td>       <th>                     </th>     <td> </td>   \n",
       "</tr>\n",
       "<tr>\n",
       "  <th>Covariance Type:</th>      <td>nonrobust</td>     <th>                     </th>     <td> </td>   \n",
       "</tr>\n",
       "</table>\n",
       "<table class=\"simpletable\">\n",
       "<tr>\n",
       "          <td></td>             <th>coef</th>     <th>std err</th>      <th>t</th>      <th>P>|t|</th>  <th>[0.025</th>    <th>0.975]</th>  \n",
       "</tr>\n",
       "<tr>\n",
       "  <th>Intercept</th>         <td>    4.2649</td> <td>    0.077</td> <td>   55.120</td> <td> 0.000</td> <td>    4.113</td> <td>    4.417</td>\n",
       "</tr>\n",
       "<tr>\n",
       "  <th>active</th>            <td>   -0.0077</td> <td>    0.012</td> <td>   -0.653</td> <td> 0.514</td> <td>   -0.031</td> <td>    0.015</td>\n",
       "</tr>\n",
       "<tr>\n",
       "  <th>bfast</th>             <td>    0.0111</td> <td>    0.007</td> <td>    1.587</td> <td> 0.112</td> <td>   -0.003</td> <td>    0.025</td>\n",
       "</tr>\n",
       "<tr>\n",
       "  <th>callid</th>            <td>    0.0278</td> <td>    0.016</td> <td>    1.695</td> <td> 0.090</td> <td>   -0.004</td> <td>    0.060</td>\n",
       "</tr>\n",
       "<tr>\n",
       "  <th>callwait</th>          <td>   -0.0034</td> <td>    0.016</td> <td>   -0.209</td> <td> 0.834</td> <td>   -0.035</td> <td>    0.028</td>\n",
       "</tr>\n",
       "<tr>\n",
       "  <th>carbought</th>         <td>   -0.0011</td> <td>    0.012</td> <td>   -0.095</td> <td> 0.925</td> <td>   -0.025</td> <td>    0.023</td>\n",
       "</tr>\n",
       "<tr>\n",
       "  <th>carbuy</th>            <td>    0.0113</td> <td>    0.012</td> <td>    0.933</td> <td> 0.351</td> <td>   -0.012</td> <td>    0.035</td>\n",
       "</tr>\n",
       "<tr>\n",
       "  <th>card</th>              <td>   -0.1198</td> <td>    0.005</td> <td>  -23.043</td> <td> 0.000</td> <td>   -0.130</td> <td>   -0.110</td>\n",
       "</tr>\n",
       "<tr>\n",
       "  <th>card2</th>             <td>   -0.0650</td> <td>    0.005</td> <td>  -12.422</td> <td> 0.000</td> <td>   -0.075</td> <td>   -0.055</td>\n",
       "</tr>\n",
       "<tr>\n",
       "  <th>card2benefit</th>      <td>   -0.0025</td> <td>    0.005</td> <td>   -0.489</td> <td> 0.625</td> <td>   -0.012</td> <td>    0.007</td>\n",
       "</tr>\n",
       "<tr>\n",
       "  <th>card2fee</th>          <td>   -0.0097</td> <td>    0.014</td> <td>   -0.668</td> <td> 0.504</td> <td>   -0.038</td> <td>    0.019</td>\n",
       "</tr>\n",
       "<tr>\n",
       "  <th>card2items</th>        <td>    0.1063</td> <td>    0.002</td> <td>   46.354</td> <td> 0.000</td> <td>    0.102</td> <td>    0.111</td>\n",
       "</tr>\n",
       "<tr>\n",
       "  <th>card2type</th>         <td>    0.0068</td> <td>    0.005</td> <td>    1.351</td> <td> 0.177</td> <td>   -0.003</td> <td>    0.017</td>\n",
       "</tr>\n",
       "<tr>\n",
       "  <th>cardbenefit</th>       <td>   -0.0040</td> <td>    0.005</td> <td>   -0.788</td> <td> 0.431</td> <td>   -0.014</td> <td>    0.006</td>\n",
       "</tr>\n",
       "<tr>\n",
       "  <th>cardfee</th>           <td>    0.0039</td> <td>    0.014</td> <td>    0.274</td> <td> 0.784</td> <td>   -0.024</td> <td>    0.032</td>\n",
       "</tr>\n",
       "<tr>\n",
       "  <th>carditems</th>         <td>    0.0803</td> <td>    0.002</td> <td>   47.907</td> <td> 0.000</td> <td>    0.077</td> <td>    0.084</td>\n",
       "</tr>\n",
       "<tr>\n",
       "  <th>cardtype</th>          <td>    0.0020</td> <td>    0.005</td> <td>    0.390</td> <td> 0.697</td> <td>   -0.008</td> <td>    0.012</td>\n",
       "</tr>\n",
       "<tr>\n",
       "  <th>carown</th>            <td>    0.0462</td> <td>    0.013</td> <td>    3.671</td> <td> 0.000</td> <td>    0.022</td> <td>    0.071</td>\n",
       "</tr>\n",
       "<tr>\n",
       "  <th>cars</th>              <td>    0.0016</td> <td>    0.006</td> <td>    0.262</td> <td> 0.793</td> <td>   -0.010</td> <td>    0.013</td>\n",
       "</tr>\n",
       "<tr>\n",
       "  <th>cartype</th>           <td>   -0.0247</td> <td>    0.011</td> <td>   -2.237</td> <td> 0.025</td> <td>   -0.046</td> <td>   -0.003</td>\n",
       "</tr>\n",
       "<tr>\n",
       "  <th>churn</th>             <td>    0.0251</td> <td>    0.014</td> <td>    1.743</td> <td> 0.081</td> <td>   -0.003</td> <td>    0.053</td>\n",
       "</tr>\n",
       "<tr>\n",
       "  <th>commutebike</th>       <td>   -0.0180</td> <td>    0.017</td> <td>   -1.031</td> <td> 0.302</td> <td>   -0.052</td> <td>    0.016</td>\n",
       "</tr>\n",
       "<tr>\n",
       "  <th>commutebus</th>        <td>   -0.0015</td> <td>    0.012</td> <td>   -0.124</td> <td> 0.901</td> <td>   -0.024</td> <td>    0.021</td>\n",
       "</tr>\n",
       "<tr>\n",
       "  <th>commutecar</th>        <td>   -0.0080</td> <td>    0.016</td> <td>   -0.494</td> <td> 0.621</td> <td>   -0.040</td> <td>    0.024</td>\n",
       "</tr>\n",
       "<tr>\n",
       "  <th>commutecarpool</th>    <td>    0.0036</td> <td>    0.013</td> <td>    0.284</td> <td> 0.777</td> <td>   -0.021</td> <td>    0.029</td>\n",
       "</tr>\n",
       "<tr>\n",
       "  <th>commutemotorcycle</th> <td>    0.0084</td> <td>    0.019</td> <td>    0.455</td> <td> 0.649</td> <td>   -0.028</td> <td>    0.045</td>\n",
       "</tr>\n",
       "<tr>\n",
       "  <th>commutenonmotor</th>   <td>   -0.0280</td> <td>    0.025</td> <td>   -1.110</td> <td> 0.267</td> <td>   -0.077</td> <td>    0.021</td>\n",
       "</tr>\n",
       "<tr>\n",
       "  <th>commutepublic</th>     <td>    0.0049</td> <td>    0.019</td> <td>    0.254</td> <td> 0.800</td> <td>   -0.033</td> <td>    0.043</td>\n",
       "</tr>\n",
       "<tr>\n",
       "  <th>commuterail</th>       <td>   -0.0164</td> <td>    0.013</td> <td>   -1.284</td> <td> 0.199</td> <td>   -0.041</td> <td>    0.009</td>\n",
       "</tr>\n",
       "<tr>\n",
       "  <th>commutetime</th>       <td>   -0.0004</td> <td>    0.001</td> <td>   -0.336</td> <td> 0.737</td> <td>   -0.003</td> <td>    0.002</td>\n",
       "</tr>\n",
       "<tr>\n",
       "  <th>commutewalk</th>       <td>   -0.0242</td> <td>    0.012</td> <td>   -2.000</td> <td> 0.046</td> <td>   -0.048</td> <td>   -0.000</td>\n",
       "</tr>\n",
       "<tr>\n",
       "  <th>confer</th>            <td>    0.0137</td> <td>    0.016</td> <td>    0.834</td> <td> 0.404</td> <td>   -0.019</td> <td>    0.046</td>\n",
       "</tr>\n",
       "<tr>\n",
       "  <th>creddebt</th>          <td>    0.0177</td> <td>    0.002</td> <td>    8.126</td> <td> 0.000</td> <td>    0.013</td> <td>    0.022</td>\n",
       "</tr>\n",
       "<tr>\n",
       "  <th>default</th>           <td>   -0.0632</td> <td>    0.015</td> <td>   -4.291</td> <td> 0.000</td> <td>   -0.092</td> <td>   -0.034</td>\n",
       "</tr>\n",
       "<tr>\n",
       "  <th>ebill</th>             <td>    0.0223</td> <td>    0.016</td> <td>    1.421</td> <td> 0.155</td> <td>   -0.008</td> <td>    0.053</td>\n",
       "</tr>\n",
       "<tr>\n",
       "  <th>forward</th>           <td>    0.0067</td> <td>    0.016</td> <td>    0.415</td> <td> 0.678</td> <td>   -0.025</td> <td>    0.038</td>\n",
       "</tr>\n",
       "<tr>\n",
       "  <th>gender</th>            <td>   -0.0511</td> <td>    0.011</td> <td>   -4.514</td> <td> 0.000</td> <td>   -0.073</td> <td>   -0.029</td>\n",
       "</tr>\n",
       "<tr>\n",
       "  <th>homeown</th>           <td>    0.0219</td> <td>    0.012</td> <td>    1.836</td> <td> 0.066</td> <td>   -0.001</td> <td>    0.045</td>\n",
       "</tr>\n",
       "<tr>\n",
       "  <th>hometype</th>          <td>   -0.0005</td> <td>    0.006</td> <td>   -0.074</td> <td> 0.941</td> <td>   -0.013</td> <td>    0.012</td>\n",
       "</tr>\n",
       "<tr>\n",
       "  <th>hourstv</th>           <td>-1.535e-05</td> <td>    0.001</td> <td>   -0.012</td> <td> 0.990</td> <td>   -0.002</td> <td>    0.002</td>\n",
       "</tr>\n",
       "<tr>\n",
       "  <th>internet</th>          <td>    0.0090</td> <td>    0.006</td> <td>    1.552</td> <td> 0.121</td> <td>   -0.002</td> <td>    0.020</td>\n",
       "</tr>\n",
       "<tr>\n",
       "  <th>jobcat</th>            <td>    0.0014</td> <td>    0.003</td> <td>    0.404</td> <td> 0.686</td> <td>   -0.005</td> <td>    0.008</td>\n",
       "</tr>\n",
       "<tr>\n",
       "  <th>jobsat</th>            <td>    0.0152</td> <td>    0.004</td> <td>    3.389</td> <td> 0.001</td> <td>    0.006</td> <td>    0.024</td>\n",
       "</tr>\n",
       "<tr>\n",
       "  <th>lncreddebt</th>        <td>    0.0438</td> <td>    0.006</td> <td>    7.315</td> <td> 0.000</td> <td>    0.032</td> <td>    0.056</td>\n",
       "</tr>\n",
       "<tr>\n",
       "  <th>multline</th>          <td>   -0.0151</td> <td>    0.013</td> <td>   -1.138</td> <td> 0.255</td> <td>   -0.041</td> <td>    0.011</td>\n",
       "</tr>\n",
       "<tr>\n",
       "  <th>news</th>              <td>    0.0193</td> <td>    0.013</td> <td>    1.531</td> <td> 0.126</td> <td>   -0.005</td> <td>    0.044</td>\n",
       "</tr>\n",
       "<tr>\n",
       "  <th>owncd</th>             <td>    0.0638</td> <td>    0.028</td> <td>    2.292</td> <td> 0.022</td> <td>    0.009</td> <td>    0.118</td>\n",
       "</tr>\n",
       "<tr>\n",
       "  <th>owndvd</th>            <td>    0.0766</td> <td>    0.025</td> <td>    3.106</td> <td> 0.002</td> <td>    0.028</td> <td>    0.125</td>\n",
       "</tr>\n",
       "<tr>\n",
       "  <th>ownfax</th>            <td>    0.0178</td> <td>    0.019</td> <td>    0.962</td> <td> 0.336</td> <td>   -0.018</td> <td>    0.054</td>\n",
       "</tr>\n",
       "<tr>\n",
       "  <th>owngame</th>           <td>   -0.0106</td> <td>    0.014</td> <td>   -0.773</td> <td> 0.440</td> <td>   -0.037</td> <td>    0.016</td>\n",
       "</tr>\n",
       "<tr>\n",
       "  <th>ownipod</th>           <td>   -0.0078</td> <td>    0.013</td> <td>   -0.583</td> <td> 0.560</td> <td>   -0.034</td> <td>    0.018</td>\n",
       "</tr>\n",
       "<tr>\n",
       "  <th>ownpc</th>             <td>    0.0144</td> <td>    0.016</td> <td>    0.917</td> <td> 0.359</td> <td>   -0.016</td> <td>    0.045</td>\n",
       "</tr>\n",
       "<tr>\n",
       "  <th>ownpda</th>            <td>    0.0394</td> <td>    0.018</td> <td>    2.229</td> <td> 0.026</td> <td>    0.005</td> <td>    0.074</td>\n",
       "</tr>\n",
       "<tr>\n",
       "  <th>owntv</th>             <td>   -0.0417</td> <td>    0.056</td> <td>   -0.749</td> <td> 0.454</td> <td>   -0.151</td> <td>    0.067</td>\n",
       "</tr>\n",
       "<tr>\n",
       "  <th>ownvcr</th>            <td>    0.0572</td> <td>    0.025</td> <td>    2.273</td> <td> 0.023</td> <td>    0.008</td> <td>    0.106</td>\n",
       "</tr>\n",
       "<tr>\n",
       "  <th>pager</th>             <td>    0.0062</td> <td>    0.019</td> <td>    0.331</td> <td> 0.740</td> <td>   -0.030</td> <td>    0.043</td>\n",
       "</tr>\n",
       "<tr>\n",
       "  <th>polcontrib</th>        <td>    0.0125</td> <td>    0.013</td> <td>    0.937</td> <td> 0.349</td> <td>   -0.014</td> <td>    0.039</td>\n",
       "</tr>\n",
       "<tr>\n",
       "  <th>polparty</th>          <td>    0.0075</td> <td>    0.012</td> <td>    0.636</td> <td> 0.525</td> <td>   -0.016</td> <td>    0.030</td>\n",
       "</tr>\n",
       "<tr>\n",
       "  <th>polview</th>           <td>    0.0083</td> <td>    0.004</td> <td>    2.016</td> <td> 0.044</td> <td>    0.000</td> <td>    0.016</td>\n",
       "</tr>\n",
       "<tr>\n",
       "  <th>reason</th>            <td>   -0.0004</td> <td>    0.002</td> <td>   -0.196</td> <td> 0.845</td> <td>   -0.004</td> <td>    0.003</td>\n",
       "</tr>\n",
       "<tr>\n",
       "  <th>region</th>            <td>    0.0082</td> <td>    0.004</td> <td>    1.877</td> <td> 0.061</td> <td>   -0.000</td> <td>    0.017</td>\n",
       "</tr>\n",
       "<tr>\n",
       "  <th>reside</th>            <td>   -0.0053</td> <td>    0.004</td> <td>   -1.245</td> <td> 0.213</td> <td>   -0.014</td> <td>    0.003</td>\n",
       "</tr>\n",
       "<tr>\n",
       "  <th>response_01</th>       <td>   -0.0254</td> <td>    0.021</td> <td>   -1.232</td> <td> 0.218</td> <td>   -0.066</td> <td>    0.015</td>\n",
       "</tr>\n",
       "<tr>\n",
       "  <th>response_02</th>       <td>    0.0088</td> <td>    0.017</td> <td>    0.524</td> <td> 0.601</td> <td>   -0.024</td> <td>    0.042</td>\n",
       "</tr>\n",
       "<tr>\n",
       "  <th>response_03</th>       <td>    0.0446</td> <td>    0.019</td> <td>    2.378</td> <td> 0.017</td> <td>    0.008</td> <td>    0.081</td>\n",
       "</tr>\n",
       "<tr>\n",
       "  <th>retire</th>            <td>   -0.1879</td> <td>    0.019</td> <td>   -9.935</td> <td> 0.000</td> <td>   -0.225</td> <td>   -0.151</td>\n",
       "</tr>\n",
       "<tr>\n",
       "  <th>telecommute</th>       <td>    0.0097</td> <td>    0.014</td> <td>    0.673</td> <td> 0.501</td> <td>   -0.019</td> <td>    0.038</td>\n",
       "</tr>\n",
       "<tr>\n",
       "  <th>townsize</th>          <td>   -0.0012</td> <td>    0.005</td> <td>   -0.222</td> <td> 0.825</td> <td>   -0.012</td> <td>    0.009</td>\n",
       "</tr>\n",
       "<tr>\n",
       "  <th>union</th>             <td>    0.0070</td> <td>    0.016</td> <td>    0.443</td> <td> 0.657</td> <td>   -0.024</td> <td>    0.038</td>\n",
       "</tr>\n",
       "<tr>\n",
       "  <th>voice</th>             <td>   -0.0415</td> <td>    0.017</td> <td>   -2.392</td> <td> 0.017</td> <td>   -0.076</td> <td>   -0.007</td>\n",
       "</tr>\n",
       "<tr>\n",
       "  <th>vote</th>              <td>    0.0223</td> <td>    0.011</td> <td>    1.950</td> <td> 0.051</td> <td>   -0.000</td> <td>    0.045</td>\n",
       "</tr>\n",
       "</table>\n",
       "<table class=\"simpletable\">\n",
       "<tr>\n",
       "  <th>Omnibus:</th>       <td>130.598</td> <th>  Durbin-Watson:     </th> <td>   1.982</td>\n",
       "</tr>\n",
       "<tr>\n",
       "  <th>Prob(Omnibus):</th> <td> 0.000</td>  <th>  Jarque-Bera (JB):  </th> <td> 149.892</td>\n",
       "</tr>\n",
       "<tr>\n",
       "  <th>Skew:</th>          <td> 0.358</td>  <th>  Prob(JB):          </th> <td>2.83e-33</td>\n",
       "</tr>\n",
       "<tr>\n",
       "  <th>Kurtosis:</th>      <td> 3.455</td>  <th>  Cond. No.          </th> <td>    545.</td>\n",
       "</tr>\n",
       "</table>"
      ],
      "text/plain": [
       "<class 'statsmodels.iolib.summary.Summary'>\n",
       "\"\"\"\n",
       "                            OLS Regression Results                            \n",
       "==============================================================================\n",
       "Dep. Variable:      ln_avg_card_spent   R-squared:                       0.601\n",
       "Model:                            OLS   Adj. R-squared:                  0.595\n",
       "Method:                 Least Squares   F-statistic:                     105.9\n",
       "Date:                Thu, 06 Sep 2018   Prob (F-statistic):               0.00\n",
       "Time:                        06:50:36   Log-Likelihood:                -2427.4\n",
       "No. Observations:                5000   AIC:                             4997.\n",
       "Df Residuals:                    4929   BIC:                             5460.\n",
       "Df Model:                          70                                         \n",
       "Covariance Type:            nonrobust                                         \n",
       "=====================================================================================\n",
       "                        coef    std err          t      P>|t|      [0.025      0.975]\n",
       "-------------------------------------------------------------------------------------\n",
       "Intercept             4.2649      0.077     55.120      0.000       4.113       4.417\n",
       "active               -0.0077      0.012     -0.653      0.514      -0.031       0.015\n",
       "bfast                 0.0111      0.007      1.587      0.112      -0.003       0.025\n",
       "callid                0.0278      0.016      1.695      0.090      -0.004       0.060\n",
       "callwait             -0.0034      0.016     -0.209      0.834      -0.035       0.028\n",
       "carbought            -0.0011      0.012     -0.095      0.925      -0.025       0.023\n",
       "carbuy                0.0113      0.012      0.933      0.351      -0.012       0.035\n",
       "card                 -0.1198      0.005    -23.043      0.000      -0.130      -0.110\n",
       "card2                -0.0650      0.005    -12.422      0.000      -0.075      -0.055\n",
       "card2benefit         -0.0025      0.005     -0.489      0.625      -0.012       0.007\n",
       "card2fee             -0.0097      0.014     -0.668      0.504      -0.038       0.019\n",
       "card2items            0.1063      0.002     46.354      0.000       0.102       0.111\n",
       "card2type             0.0068      0.005      1.351      0.177      -0.003       0.017\n",
       "cardbenefit          -0.0040      0.005     -0.788      0.431      -0.014       0.006\n",
       "cardfee               0.0039      0.014      0.274      0.784      -0.024       0.032\n",
       "carditems             0.0803      0.002     47.907      0.000       0.077       0.084\n",
       "cardtype              0.0020      0.005      0.390      0.697      -0.008       0.012\n",
       "carown                0.0462      0.013      3.671      0.000       0.022       0.071\n",
       "cars                  0.0016      0.006      0.262      0.793      -0.010       0.013\n",
       "cartype              -0.0247      0.011     -2.237      0.025      -0.046      -0.003\n",
       "churn                 0.0251      0.014      1.743      0.081      -0.003       0.053\n",
       "commutebike          -0.0180      0.017     -1.031      0.302      -0.052       0.016\n",
       "commutebus           -0.0015      0.012     -0.124      0.901      -0.024       0.021\n",
       "commutecar           -0.0080      0.016     -0.494      0.621      -0.040       0.024\n",
       "commutecarpool        0.0036      0.013      0.284      0.777      -0.021       0.029\n",
       "commutemotorcycle     0.0084      0.019      0.455      0.649      -0.028       0.045\n",
       "commutenonmotor      -0.0280      0.025     -1.110      0.267      -0.077       0.021\n",
       "commutepublic         0.0049      0.019      0.254      0.800      -0.033       0.043\n",
       "commuterail          -0.0164      0.013     -1.284      0.199      -0.041       0.009\n",
       "commutetime          -0.0004      0.001     -0.336      0.737      -0.003       0.002\n",
       "commutewalk          -0.0242      0.012     -2.000      0.046      -0.048      -0.000\n",
       "confer                0.0137      0.016      0.834      0.404      -0.019       0.046\n",
       "creddebt              0.0177      0.002      8.126      0.000       0.013       0.022\n",
       "default              -0.0632      0.015     -4.291      0.000      -0.092      -0.034\n",
       "ebill                 0.0223      0.016      1.421      0.155      -0.008       0.053\n",
       "forward               0.0067      0.016      0.415      0.678      -0.025       0.038\n",
       "gender               -0.0511      0.011     -4.514      0.000      -0.073      -0.029\n",
       "homeown               0.0219      0.012      1.836      0.066      -0.001       0.045\n",
       "hometype             -0.0005      0.006     -0.074      0.941      -0.013       0.012\n",
       "hourstv           -1.535e-05      0.001     -0.012      0.990      -0.002       0.002\n",
       "internet              0.0090      0.006      1.552      0.121      -0.002       0.020\n",
       "jobcat                0.0014      0.003      0.404      0.686      -0.005       0.008\n",
       "jobsat                0.0152      0.004      3.389      0.001       0.006       0.024\n",
       "lncreddebt            0.0438      0.006      7.315      0.000       0.032       0.056\n",
       "multline             -0.0151      0.013     -1.138      0.255      -0.041       0.011\n",
       "news                  0.0193      0.013      1.531      0.126      -0.005       0.044\n",
       "owncd                 0.0638      0.028      2.292      0.022       0.009       0.118\n",
       "owndvd                0.0766      0.025      3.106      0.002       0.028       0.125\n",
       "ownfax                0.0178      0.019      0.962      0.336      -0.018       0.054\n",
       "owngame              -0.0106      0.014     -0.773      0.440      -0.037       0.016\n",
       "ownipod              -0.0078      0.013     -0.583      0.560      -0.034       0.018\n",
       "ownpc                 0.0144      0.016      0.917      0.359      -0.016       0.045\n",
       "ownpda                0.0394      0.018      2.229      0.026       0.005       0.074\n",
       "owntv                -0.0417      0.056     -0.749      0.454      -0.151       0.067\n",
       "ownvcr                0.0572      0.025      2.273      0.023       0.008       0.106\n",
       "pager                 0.0062      0.019      0.331      0.740      -0.030       0.043\n",
       "polcontrib            0.0125      0.013      0.937      0.349      -0.014       0.039\n",
       "polparty              0.0075      0.012      0.636      0.525      -0.016       0.030\n",
       "polview               0.0083      0.004      2.016      0.044       0.000       0.016\n",
       "reason               -0.0004      0.002     -0.196      0.845      -0.004       0.003\n",
       "region                0.0082      0.004      1.877      0.061      -0.000       0.017\n",
       "reside               -0.0053      0.004     -1.245      0.213      -0.014       0.003\n",
       "response_01          -0.0254      0.021     -1.232      0.218      -0.066       0.015\n",
       "response_02           0.0088      0.017      0.524      0.601      -0.024       0.042\n",
       "response_03           0.0446      0.019      2.378      0.017       0.008       0.081\n",
       "retire               -0.1879      0.019     -9.935      0.000      -0.225      -0.151\n",
       "telecommute           0.0097      0.014      0.673      0.501      -0.019       0.038\n",
       "townsize             -0.0012      0.005     -0.222      0.825      -0.012       0.009\n",
       "union                 0.0070      0.016      0.443      0.657      -0.024       0.038\n",
       "voice                -0.0415      0.017     -2.392      0.017      -0.076      -0.007\n",
       "vote                  0.0223      0.011      1.950      0.051      -0.000       0.045\n",
       "==============================================================================\n",
       "Omnibus:                      130.598   Durbin-Watson:                   1.982\n",
       "Prob(Omnibus):                  0.000   Jarque-Bera (JB):              149.892\n",
       "Skew:                           0.358   Prob(JB):                     2.83e-33\n",
       "Kurtosis:                       3.455   Cond. No.                         545.\n",
       "==============================================================================\n",
       "\n",
       "Warnings:\n",
       "[1] Standard Errors assume that the covariance matrix of the errors is correctly specified.\n",
       "\"\"\""
      ]
     },
     "execution_count": 610,
     "metadata": {},
     "output_type": "execute_result"
    }
   ],
   "source": [
    "lm1.summary()"
   ]
  },
  {
   "cell_type": "code",
   "execution_count": 648,
   "metadata": {},
   "outputs": [],
   "source": [
    "p_value_df = pd.DataFrame(lm1.pvalues)"
   ]
  },
  {
   "cell_type": "code",
   "execution_count": 649,
   "metadata": {},
   "outputs": [],
   "source": [
    "p_value_df.reset_index(inplace=True)"
   ]
  },
  {
   "cell_type": "code",
   "execution_count": 652,
   "metadata": {},
   "outputs": [],
   "source": [
    "p_value_df.columns = ['features', 'p-values']"
   ]
  },
  {
   "cell_type": "code",
   "execution_count": 653,
   "metadata": {},
   "outputs": [
    {
     "data": {
      "text/html": [
       "<div>\n",
       "<style>\n",
       "    .dataframe thead tr:only-child th {\n",
       "        text-align: right;\n",
       "    }\n",
       "\n",
       "    .dataframe thead th {\n",
       "        text-align: left;\n",
       "    }\n",
       "\n",
       "    .dataframe tbody tr th {\n",
       "        vertical-align: top;\n",
       "    }\n",
       "</style>\n",
       "<table border=\"1\" class=\"dataframe\">\n",
       "  <thead>\n",
       "    <tr style=\"text-align: right;\">\n",
       "      <th></th>\n",
       "      <th>features</th>\n",
       "      <th>p-values</th>\n",
       "    </tr>\n",
       "  </thead>\n",
       "  <tbody>\n",
       "    <tr>\n",
       "      <th>0</th>\n",
       "      <td>Intercept</td>\n",
       "      <td>0.000000</td>\n",
       "    </tr>\n",
       "    <tr>\n",
       "      <th>1</th>\n",
       "      <td>active</td>\n",
       "      <td>0.513753</td>\n",
       "    </tr>\n",
       "    <tr>\n",
       "      <th>2</th>\n",
       "      <td>bfast</td>\n",
       "      <td>0.112464</td>\n",
       "    </tr>\n",
       "    <tr>\n",
       "      <th>3</th>\n",
       "      <td>callid</td>\n",
       "      <td>0.090060</td>\n",
       "    </tr>\n",
       "    <tr>\n",
       "      <th>4</th>\n",
       "      <td>callwait</td>\n",
       "      <td>0.834088</td>\n",
       "    </tr>\n",
       "  </tbody>\n",
       "</table>\n",
       "</div>"
      ],
      "text/plain": [
       "    features  p-values\n",
       "0  Intercept  0.000000\n",
       "1     active  0.513753\n",
       "2      bfast  0.112464\n",
       "3     callid  0.090060\n",
       "4   callwait  0.834088"
      ]
     },
     "execution_count": 653,
     "metadata": {},
     "output_type": "execute_result"
    }
   ],
   "source": [
    "p_value_df.head(5)"
   ]
  },
  {
   "cell_type": "code",
   "execution_count": 659,
   "metadata": {},
   "outputs": [],
   "source": [
    "p_values_sorted = p_value_df.sort_values(by='p-values', ascending=False)\n",
    "sig_p_value_df = p_values_sorted[p_values_sorted['p-values'] < 0.05]"
   ]
  },
  {
   "cell_type": "code",
   "execution_count": 660,
   "metadata": {},
   "outputs": [
    {
     "data": {
      "text/html": [
       "<div>\n",
       "<style>\n",
       "    .dataframe thead tr:only-child th {\n",
       "        text-align: right;\n",
       "    }\n",
       "\n",
       "    .dataframe thead th {\n",
       "        text-align: left;\n",
       "    }\n",
       "\n",
       "    .dataframe tbody tr th {\n",
       "        vertical-align: top;\n",
       "    }\n",
       "</style>\n",
       "<table border=\"1\" class=\"dataframe\">\n",
       "  <thead>\n",
       "    <tr style=\"text-align: right;\">\n",
       "      <th></th>\n",
       "      <th>features</th>\n",
       "      <th>p-values</th>\n",
       "    </tr>\n",
       "  </thead>\n",
       "  <tbody>\n",
       "    <tr>\n",
       "      <th>30</th>\n",
       "      <td>commutewalk</td>\n",
       "      <td>4.557673e-02</td>\n",
       "    </tr>\n",
       "    <tr>\n",
       "      <th>58</th>\n",
       "      <td>polview</td>\n",
       "      <td>4.388523e-02</td>\n",
       "    </tr>\n",
       "    <tr>\n",
       "      <th>52</th>\n",
       "      <td>ownpda</td>\n",
       "      <td>2.587837e-02</td>\n",
       "    </tr>\n",
       "    <tr>\n",
       "      <th>19</th>\n",
       "      <td>cartype</td>\n",
       "      <td>2.535286e-02</td>\n",
       "    </tr>\n",
       "    <tr>\n",
       "      <th>54</th>\n",
       "      <td>ownvcr</td>\n",
       "      <td>2.308880e-02</td>\n",
       "    </tr>\n",
       "    <tr>\n",
       "      <th>46</th>\n",
       "      <td>owncd</td>\n",
       "      <td>2.193798e-02</td>\n",
       "    </tr>\n",
       "    <tr>\n",
       "      <th>64</th>\n",
       "      <td>response_03</td>\n",
       "      <td>1.746211e-02</td>\n",
       "    </tr>\n",
       "    <tr>\n",
       "      <th>69</th>\n",
       "      <td>voice</td>\n",
       "      <td>1.679133e-02</td>\n",
       "    </tr>\n",
       "    <tr>\n",
       "      <th>47</th>\n",
       "      <td>owndvd</td>\n",
       "      <td>1.904133e-03</td>\n",
       "    </tr>\n",
       "    <tr>\n",
       "      <th>42</th>\n",
       "      <td>jobsat</td>\n",
       "      <td>7.082584e-04</td>\n",
       "    </tr>\n",
       "    <tr>\n",
       "      <th>17</th>\n",
       "      <td>carown</td>\n",
       "      <td>2.440270e-04</td>\n",
       "    </tr>\n",
       "    <tr>\n",
       "      <th>33</th>\n",
       "      <td>default</td>\n",
       "      <td>1.811839e-05</td>\n",
       "    </tr>\n",
       "    <tr>\n",
       "      <th>36</th>\n",
       "      <td>gender</td>\n",
       "      <td>6.495290e-06</td>\n",
       "    </tr>\n",
       "    <tr>\n",
       "      <th>43</th>\n",
       "      <td>lncreddebt</td>\n",
       "      <td>2.997468e-13</td>\n",
       "    </tr>\n",
       "    <tr>\n",
       "      <th>32</th>\n",
       "      <td>creddebt</td>\n",
       "      <td>5.568931e-16</td>\n",
       "    </tr>\n",
       "    <tr>\n",
       "      <th>65</th>\n",
       "      <td>retire</td>\n",
       "      <td>4.805272e-23</td>\n",
       "    </tr>\n",
       "    <tr>\n",
       "      <th>8</th>\n",
       "      <td>card2</td>\n",
       "      <td>6.615789e-35</td>\n",
       "    </tr>\n",
       "    <tr>\n",
       "      <th>7</th>\n",
       "      <td>card</td>\n",
       "      <td>1.141100e-111</td>\n",
       "    </tr>\n",
       "    <tr>\n",
       "      <th>15</th>\n",
       "      <td>carditems</td>\n",
       "      <td>0.000000e+00</td>\n",
       "    </tr>\n",
       "    <tr>\n",
       "      <th>11</th>\n",
       "      <td>card2items</td>\n",
       "      <td>0.000000e+00</td>\n",
       "    </tr>\n",
       "    <tr>\n",
       "      <th>0</th>\n",
       "      <td>Intercept</td>\n",
       "      <td>0.000000e+00</td>\n",
       "    </tr>\n",
       "  </tbody>\n",
       "</table>\n",
       "</div>"
      ],
      "text/plain": [
       "       features       p-values\n",
       "30  commutewalk   4.557673e-02\n",
       "58      polview   4.388523e-02\n",
       "52       ownpda   2.587837e-02\n",
       "19      cartype   2.535286e-02\n",
       "54       ownvcr   2.308880e-02\n",
       "46        owncd   2.193798e-02\n",
       "64  response_03   1.746211e-02\n",
       "69        voice   1.679133e-02\n",
       "47       owndvd   1.904133e-03\n",
       "42       jobsat   7.082584e-04\n",
       "17       carown   2.440270e-04\n",
       "33      default   1.811839e-05\n",
       "36       gender   6.495290e-06\n",
       "43   lncreddebt   2.997468e-13\n",
       "32     creddebt   5.568931e-16\n",
       "65       retire   4.805272e-23\n",
       "8         card2   6.615789e-35\n",
       "7          card  1.141100e-111\n",
       "15    carditems   0.000000e+00\n",
       "11   card2items   0.000000e+00\n",
       "0     Intercept   0.000000e+00"
      ]
     },
     "execution_count": 660,
     "metadata": {},
     "output_type": "execute_result"
    }
   ],
   "source": [
    "sig_p_value_df"
   ]
  },
  {
   "cell_type": "code",
   "execution_count": 662,
   "metadata": {},
   "outputs": [
    {
     "data": {
      "text/plain": [
       "30    commutewalk\n",
       "58        polview\n",
       "52         ownpda\n",
       "19        cartype\n",
       "54         ownvcr\n",
       "46          owncd\n",
       "64    response_03\n",
       "69          voice\n",
       "47         owndvd\n",
       "42         jobsat\n",
       "17         carown\n",
       "33        default\n",
       "36         gender\n",
       "43     lncreddebt\n",
       "32       creddebt\n",
       "65         retire\n",
       "8           card2\n",
       "7            card\n",
       "15      carditems\n",
       "11     card2items\n",
       "0       Intercept\n",
       "Name: features, dtype: object"
      ]
     },
     "execution_count": 662,
     "metadata": {},
     "output_type": "execute_result"
    }
   ],
   "source": [
    "sig_p_value_df['features']"
   ]
  },
  {
   "cell_type": "code",
   "execution_count": 663,
   "metadata": {
    "collapsed": true
   },
   "outputs": [],
   "source": [
    "#Printing the list of significant features"
   ]
  },
  {
   "cell_type": "code",
   "execution_count": 664,
   "metadata": {},
   "outputs": [
    {
     "name": "stdout",
     "output_type": "stream",
     "text": [
      "['commutewalk', 'polview', 'ownpda', 'cartype', 'ownvcr', 'owncd', 'response_03', 'voice', 'owndvd', 'jobsat', 'carown', 'default', 'gender', 'lncreddebt', 'creddebt', 'retire', 'card2', 'card', 'carditems', 'card2items', 'Intercept']\n"
     ]
    }
   ],
   "source": [
    "print(list(sig_p_value_df['features']))"
   ]
  },
  {
   "cell_type": "code",
   "execution_count": 665,
   "metadata": {
    "collapsed": true
   },
   "outputs": [],
   "source": [
    "credit_data_final = credit_data[['commutewalk', 'polview', 'ownpda', 'cartype', 'ownvcr', 'owncd', 'response_03', 'voice', 'owndvd', 'jobsat', 'carown', 'default', 'gender', 'lncreddebt', 'creddebt', 'retire', 'card2', 'card', 'carditems', 'card2items', 'ln_avg_card_spent']]"
   ]
  },
  {
   "cell_type": "code",
   "execution_count": 750,
   "metadata": {},
   "outputs": [],
   "source": [
    "credit_data_final.head(5)\n",
    "feature_columns = list(credit_data_final.columns.difference(['ln_avg_card_spent']))"
   ]
  },
  {
   "cell_type": "code",
   "execution_count": 751,
   "metadata": {
    "collapsed": true
   },
   "outputs": [],
   "source": [
    "#Using decision gtress"
   ]
  },
  {
   "cell_type": "code",
   "execution_count": 752,
   "metadata": {
    "collapsed": true
   },
   "outputs": [],
   "source": [
    "from sklearn.cross_validation import train_test_split\n",
    "\n",
    "\n",
    "train_X, test_X, train_y, test_y = train_test_split( credit_data_final[feature_columns],\n",
    "                                                  credit_data_final['ln_avg_card_spent'],\n",
    "                                                  test_size = 0.2,\n",
    "                                                  random_state = 42 )"
   ]
  },
  {
   "cell_type": "code",
   "execution_count": 765,
   "metadata": {},
   "outputs": [
    {
     "data": {
      "text/plain": [
       "DecisionTreeRegressor(criterion='mse', max_depth=5, max_features=None,\n",
       "           max_leaf_nodes=None, min_impurity_decrease=0.0,\n",
       "           min_impurity_split=None, min_samples_leaf=1,\n",
       "           min_samples_split=2, min_weight_fraction_leaf=0.0,\n",
       "           presort=False, random_state=None, splitter='best')"
      ]
     },
     "execution_count": 765,
     "metadata": {},
     "output_type": "execute_result"
    }
   ],
   "source": [
    "rgs_tree = DecisionTreeRegressor( max_depth = 5 )\n",
    "rgs_tree.fit( train_X, train_y )"
   ]
  },
  {
   "cell_type": "code",
   "execution_count": 766,
   "metadata": {
    "collapsed": true
   },
   "outputs": [],
   "source": [
    "tree_train_pred = pd.DataFrame( { 'actual':  train_y,\n",
    "                            'predicted': rgs_tree.predict( train_X ) } )\n",
    "tree_test_pred = pd.DataFrame( { 'actual':  test_y,\n",
    "                            'predicted': rgs_tree.predict( test_X ) } )"
   ]
  },
  {
   "cell_type": "code",
   "execution_count": 767,
   "metadata": {},
   "outputs": [
    {
     "data": {
      "text/html": [
       "<div>\n",
       "<style>\n",
       "    .dataframe thead tr:only-child th {\n",
       "        text-align: right;\n",
       "    }\n",
       "\n",
       "    .dataframe thead th {\n",
       "        text-align: left;\n",
       "    }\n",
       "\n",
       "    .dataframe tbody tr th {\n",
       "        vertical-align: top;\n",
       "    }\n",
       "</style>\n",
       "<table border=\"1\" class=\"dataframe\">\n",
       "  <thead>\n",
       "    <tr style=\"text-align: right;\">\n",
       "      <th></th>\n",
       "      <th>actual</th>\n",
       "      <th>predicted</th>\n",
       "    </tr>\n",
       "  </thead>\n",
       "  <tbody>\n",
       "    <tr>\n",
       "      <th>4227</th>\n",
       "      <td>5.482096</td>\n",
       "      <td>5.410217</td>\n",
       "    </tr>\n",
       "    <tr>\n",
       "      <th>4676</th>\n",
       "      <td>5.631624</td>\n",
       "      <td>5.679720</td>\n",
       "    </tr>\n",
       "    <tr>\n",
       "      <th>800</th>\n",
       "      <td>5.378306</td>\n",
       "      <td>5.189335</td>\n",
       "    </tr>\n",
       "    <tr>\n",
       "      <th>3671</th>\n",
       "      <td>4.559231</td>\n",
       "      <td>4.925783</td>\n",
       "    </tr>\n",
       "    <tr>\n",
       "      <th>4193</th>\n",
       "      <td>4.861013</td>\n",
       "      <td>5.410217</td>\n",
       "    </tr>\n",
       "    <tr>\n",
       "      <th>2968</th>\n",
       "      <td>5.297617</td>\n",
       "      <td>5.877541</td>\n",
       "    </tr>\n",
       "    <tr>\n",
       "      <th>4793</th>\n",
       "      <td>5.730944</td>\n",
       "      <td>5.410217</td>\n",
       "    </tr>\n",
       "    <tr>\n",
       "      <th>4368</th>\n",
       "      <td>5.010535</td>\n",
       "      <td>5.637997</td>\n",
       "    </tr>\n",
       "    <tr>\n",
       "      <th>2776</th>\n",
       "      <td>4.176155</td>\n",
       "      <td>4.925783</td>\n",
       "    </tr>\n",
       "    <tr>\n",
       "      <th>2970</th>\n",
       "      <td>6.509871</td>\n",
       "      <td>5.410217</td>\n",
       "    </tr>\n",
       "  </tbody>\n",
       "</table>\n",
       "</div>"
      ],
      "text/plain": [
       "        actual  predicted\n",
       "4227  5.482096   5.410217\n",
       "4676  5.631624   5.679720\n",
       "800   5.378306   5.189335\n",
       "3671  4.559231   4.925783\n",
       "4193  4.861013   5.410217\n",
       "2968  5.297617   5.877541\n",
       "4793  5.730944   5.410217\n",
       "4368  5.010535   5.637997\n",
       "2776  4.176155   4.925783\n",
       "2970  6.509871   5.410217"
      ]
     },
     "execution_count": 767,
     "metadata": {},
     "output_type": "execute_result"
    }
   ],
   "source": [
    "tree_train_pred.head(10)"
   ]
  },
  {
   "cell_type": "code",
   "execution_count": 768,
   "metadata": {},
   "outputs": [
    {
     "name": "stdout",
     "output_type": "stream",
     "text": [
      "RMSE for training data:  0.405550734316\n",
      "RMSE for test data:  0.437206882116\n",
      "R sq for for training data:  0.570623964415\n",
      "R sq for test data:  0.525500899982\n"
     ]
    }
   ],
   "source": [
    "rmse_train = np.sqrt( metrics.mean_squared_error(tree_train_pred['actual'], tree_train_pred['predicted']))\n",
    "rmse_test = np.sqrt( metrics.mean_squared_error(tree_test_pred['actual'], tree_test_pred['predicted']))\n",
    "r2_score_train = metrics.r2_score(tree_train_pred['actual'], tree_train_pred['predicted'])\n",
    "r2_score_test = metrics.r2_score(tree_test_pred['actual'], tree_test_pred['predicted'])         \n",
    "\n",
    "print(\"RMSE for training data: \" ,rmse_train)\n",
    "print(\"RMSE for test data: \" ,rmse_test)\n",
    "print(\"R sq for for training data: \" ,r2_score_train)\n",
    "print(\"R sq for test data: \" ,r2_score_test)"
   ]
  },
  {
   "cell_type": "markdown",
   "metadata": {},
   "source": [
    "Above model is better than all above as its performance is not very different for trainig and test data. Also, it has moderate R2 values. Here, feature selection was done using VIF followed by variable selction using p-values."
   ]
  },
  {
   "cell_type": "code",
   "execution_count": 682,
   "metadata": {
    "collapsed": true
   },
   "outputs": [],
   "source": [
    "#Selecting features based on feataure importance now"
   ]
  },
  {
   "cell_type": "code",
   "execution_count": 685,
   "metadata": {},
   "outputs": [
    {
     "name": "stdout",
     "output_type": "stream",
     "text": [
      "71\n"
     ]
    }
   ],
   "source": [
    "print(len(list(credit_data_new.columns)))"
   ]
  },
  {
   "cell_type": "code",
   "execution_count": 687,
   "metadata": {},
   "outputs": [
    {
     "data": {
      "text/plain": [
       "Index(['active', 'bfast', 'callid', 'callwait', 'carbought', 'carbuy', 'card',\n",
       "       'card2', 'card2benefit', 'card2fee', 'card2items', 'card2type',\n",
       "       'cardbenefit', 'cardfee', 'carditems', 'cardtype', 'carown', 'cars',\n",
       "       'cartype', 'churn', 'commutebike', 'commutebus', 'commutecar',\n",
       "       'commutecarpool', 'commutemotorcycle', 'commutenonmotor',\n",
       "       'commutepublic', 'commuterail', 'commutetime', 'commutewalk', 'confer',\n",
       "       'creddebt', 'default', 'ebill', 'forward', 'gender', 'homeown',\n",
       "       'hometype', 'hourstv', 'internet', 'jobcat', 'jobsat',\n",
       "       'ln_avg_card_spent', 'lncreddebt', 'multline', 'news', 'owncd',\n",
       "       'owndvd', 'ownfax', 'owngame', 'ownipod', 'ownpc', 'ownpda', 'owntv',\n",
       "       'ownvcr', 'pager', 'polcontrib', 'polparty', 'polview', 'reason',\n",
       "       'region', 'reside', 'response_01', 'response_02', 'response_03',\n",
       "       'retire', 'telecommute', 'townsize', 'union', 'voice', 'vote'],\n",
       "      dtype='object')"
      ]
     },
     "execution_count": 687,
     "metadata": {},
     "output_type": "execute_result"
    }
   ],
   "source": [
    "credit_data_new.columns"
   ]
  },
  {
   "cell_type": "code",
   "execution_count": 711,
   "metadata": {
    "collapsed": true
   },
   "outputs": [],
   "source": [
    "feature_columns = ['active', 'bfast', 'callid', 'callwait', 'carbought', 'carbuy', 'card',\n",
    "       'card2', 'card2benefit', 'card2fee', 'card2items', 'card2type',\n",
    "       'cardbenefit', 'cardfee', 'carditems', 'cardtype', 'carown', 'cars',\n",
    "       'cartype', 'churn', 'commutebike', 'commutebus', 'commutecar',\n",
    "       'commutecarpool', 'commutemotorcycle', 'commutenonmotor',\n",
    "       'commutepublic', 'commuterail', 'commutetime', 'commutewalk', 'confer',\n",
    "       'creddebt', 'default', 'ebill', 'forward', 'gender', 'homeown',\n",
    "       'hometype', 'hourstv', 'internet', 'jobcat', 'jobsat',\n",
    "        'lncreddebt', 'multline', 'news', 'owncd',\n",
    "       'owndvd', 'ownfax', 'owngame', 'ownipod', 'ownpc', 'ownpda', 'owntv',\n",
    "       'ownvcr', 'pager', 'polcontrib', 'polparty', 'polview', 'reason',\n",
    "       'region', 'reside', 'response_01', 'response_02', 'response_03',\n",
    "       'retire', 'telecommute', 'townsize', 'union', 'voice', 'vote']"
   ]
  },
  {
   "cell_type": "code",
   "execution_count": 720,
   "metadata": {},
   "outputs": [],
   "source": [
    "from sklearn.cross_validation import train_test_split\n",
    "\n",
    "\n",
    "train_X, test_X, train_y, test_y = train_test_split(credit_data_new[feature_columns],\n",
    "                                                  credit_data_new['ln_avg_card_spent'],\n",
    "                                                  test_size = 0.2,\n",
    "                                                  random_state = 42 )"
   ]
  },
  {
   "cell_type": "code",
   "execution_count": 721,
   "metadata": {},
   "outputs": [
    {
     "data": {
      "text/plain": [
       "DecisionTreeRegressor(criterion='mse', max_depth=None, max_features=None,\n",
       "           max_leaf_nodes=None, min_impurity_decrease=0.0,\n",
       "           min_impurity_split=None, min_samples_leaf=1,\n",
       "           min_samples_split=2, min_weight_fraction_leaf=0.0,\n",
       "           presort=False, random_state=None, splitter='best')"
      ]
     },
     "execution_count": 721,
     "metadata": {},
     "output_type": "execute_result"
    }
   ],
   "source": [
    "rgs_tree = DecisionTreeRegressor()\n",
    "rgs_tree.fit( train_X, train_y )"
   ]
  },
  {
   "cell_type": "code",
   "execution_count": 722,
   "metadata": {},
   "outputs": [],
   "source": [
    "tree_train_pred = pd.DataFrame( { 'actual':  train_y,\n",
    "                            'predicted': rgs_tree.predict( train_X ) } )\n",
    "tree_test_pred = pd.DataFrame( { 'actual':  test_y,\n",
    "                            'predicted': rgs_tree.predict( test_X ) } )"
   ]
  },
  {
   "cell_type": "code",
   "execution_count": 723,
   "metadata": {},
   "outputs": [
    {
     "data": {
      "text/html": [
       "<div>\n",
       "<style>\n",
       "    .dataframe thead tr:only-child th {\n",
       "        text-align: right;\n",
       "    }\n",
       "\n",
       "    .dataframe thead th {\n",
       "        text-align: left;\n",
       "    }\n",
       "\n",
       "    .dataframe tbody tr th {\n",
       "        vertical-align: top;\n",
       "    }\n",
       "</style>\n",
       "<table border=\"1\" class=\"dataframe\">\n",
       "  <thead>\n",
       "    <tr style=\"text-align: right;\">\n",
       "      <th></th>\n",
       "      <th>actual</th>\n",
       "      <th>predicted</th>\n",
       "    </tr>\n",
       "  </thead>\n",
       "  <tbody>\n",
       "    <tr>\n",
       "      <th>4227</th>\n",
       "      <td>5.482096</td>\n",
       "      <td>5.482096</td>\n",
       "    </tr>\n",
       "    <tr>\n",
       "      <th>4676</th>\n",
       "      <td>5.631624</td>\n",
       "      <td>5.631624</td>\n",
       "    </tr>\n",
       "    <tr>\n",
       "      <th>800</th>\n",
       "      <td>5.378306</td>\n",
       "      <td>5.378306</td>\n",
       "    </tr>\n",
       "    <tr>\n",
       "      <th>3671</th>\n",
       "      <td>4.559231</td>\n",
       "      <td>4.559231</td>\n",
       "    </tr>\n",
       "    <tr>\n",
       "      <th>4193</th>\n",
       "      <td>4.861013</td>\n",
       "      <td>4.861013</td>\n",
       "    </tr>\n",
       "  </tbody>\n",
       "</table>\n",
       "</div>"
      ],
      "text/plain": [
       "        actual  predicted\n",
       "4227  5.482096   5.482096\n",
       "4676  5.631624   5.631624\n",
       "800   5.378306   5.378306\n",
       "3671  4.559231   4.559231\n",
       "4193  4.861013   4.861013"
      ]
     },
     "execution_count": 723,
     "metadata": {},
     "output_type": "execute_result"
    }
   ],
   "source": [
    "tree_train_pred.head(5)"
   ]
  },
  {
   "cell_type": "code",
   "execution_count": 724,
   "metadata": {},
   "outputs": [
    {
     "name": "stdout",
     "output_type": "stream",
     "text": [
      "RMSE for training data:  1.43446348731e-05\n",
      "RMSE for test data:  0.534028019183\n",
      "R sq for for training data:  0.999999999463\n",
      "R sq for test data:  0.292071328439\n"
     ]
    }
   ],
   "source": [
    "rmse_train = np.sqrt( metrics.mean_squared_error(tree_train_pred['actual'], tree_train_pred['predicted']))\n",
    "rmse_test = np.sqrt( metrics.mean_squared_error(tree_test_pred['actual'], tree_test_pred['predicted']))\n",
    "r2_score_train = metrics.r2_score(tree_train_pred['actual'], tree_train_pred['predicted'])\n",
    "r2_score_test = metrics.r2_score(tree_test_pred['actual'], tree_test_pred['predicted'])         \n",
    "\n",
    "print(\"RMSE for training data: \" ,rmse_train)\n",
    "print(\"RMSE for test data: \" ,rmse_test)\n",
    "print(\"R sq for for training data: \" ,r2_score_train)\n",
    "print(\"R sq for test data: \" ,r2_score_test)"
   ]
  },
  {
   "cell_type": "code",
   "execution_count": 725,
   "metadata": {
    "collapsed": true
   },
   "outputs": [],
   "source": [
    "#This is the case of overfitting. the model has overfitted the trainig data"
   ]
  },
  {
   "cell_type": "code",
   "execution_count": null,
   "metadata": {
    "collapsed": true
   },
   "outputs": [],
   "source": []
  },
  {
   "cell_type": "code",
   "execution_count": 694,
   "metadata": {},
   "outputs": [
    {
     "data": {
      "image/png": "[encoded data removed]",
      "text/plain": [
       "<matplotlib.figure.Figure at 0x1c454978>"
      ]
     },
     "metadata": {},
     "output_type": "display_data"
    }
   ],
   "source": [
    "import seaborn as sns\n",
    "import matplotlib.pyplot as plt\n",
    "\n",
    "indices = np.argsort(radm_rgs.feature_importances_)[::-1]\n",
    "feature_rank = pd.DataFrame( columns = ['rank', 'feature', 'importance'] )\n",
    "for f in range(train_X.shape[1]):\n",
    "  feature_rank.loc[f] = [f+1,\n",
    "                         train_X.columns[indices[f]],\n",
    "                         radm_rgs.feature_importances_[indices[f]]]\n",
    "sns.barplot( y = 'feature', x = 'importance', data = feature_rank[0:30])\n",
    "plt.show()"
   ]
  },
  {
   "cell_type": "code",
   "execution_count": 702,
   "metadata": {},
   "outputs": [],
   "source": [
    "features_selected = feature_rank['feature'][0:23]"
   ]
  },
  {
   "cell_type": "code",
   "execution_count": 727,
   "metadata": {},
   "outputs": [
    {
     "data": {
      "text/html": [
       "<div>\n",
       "<style>\n",
       "    .dataframe thead tr:only-child th {\n",
       "        text-align: right;\n",
       "    }\n",
       "\n",
       "    .dataframe thead th {\n",
       "        text-align: left;\n",
       "    }\n",
       "\n",
       "    .dataframe tbody tr th {\n",
       "        vertical-align: top;\n",
       "    }\n",
       "</style>\n",
       "<table border=\"1\" class=\"dataframe\">\n",
       "  <thead>\n",
       "    <tr style=\"text-align: right;\">\n",
       "      <th></th>\n",
       "      <th>rank</th>\n",
       "      <th>feature</th>\n",
       "      <th>importance</th>\n",
       "    </tr>\n",
       "  </thead>\n",
       "  <tbody>\n",
       "  </tbody>\n",
       "</table>\n",
       "</div>"
      ],
      "text/plain": [
       "Empty DataFrame\n",
       "Columns: [rank, feature, importance]\n",
       "Index: []"
      ]
     },
     "execution_count": 727,
     "metadata": {},
     "output_type": "execute_result"
    }
   ],
   "source": [
    "feature_rank[feature_rank['feature'] == 'ln_avg_card_spent']"
   ]
  },
  {
   "cell_type": "code",
   "execution_count": 728,
   "metadata": {
    "collapsed": true
   },
   "outputs": [],
   "source": [
    "#Building model again on selected features"
   ]
  },
  {
   "cell_type": "code",
   "execution_count": 729,
   "metadata": {
    "collapsed": true
   },
   "outputs": [],
   "source": [
    "from sklearn.cross_validation import train_test_split\n",
    "\n",
    "\n",
    "train_X, test_X, train_y, test_y = train_test_split(credit_data_new[features_selected],\n",
    "                                                  credit_data_new['ln_avg_card_spent'],\n",
    "                                                  test_size = 0.2,\n",
    "                                                  random_state = 42 )"
   ]
  },
  {
   "cell_type": "code",
   "execution_count": 745,
   "metadata": {},
   "outputs": [
    {
     "data": {
      "text/plain": [
       "DecisionTreeRegressor(criterion='mse', max_depth=6, max_features=None,\n",
       "           max_leaf_nodes=None, min_impurity_decrease=0.0,\n",
       "           min_impurity_split=None, min_samples_leaf=1,\n",
       "           min_samples_split=2, min_weight_fraction_leaf=0.0,\n",
       "           presort=False, random_state=None, splitter='best')"
      ]
     },
     "execution_count": 745,
     "metadata": {},
     "output_type": "execute_result"
    }
   ],
   "source": [
    "rgs_tree = DecisionTreeRegressor(max_depth = 6)\n",
    "rgs_tree.fit( train_X, train_y )"
   ]
  },
  {
   "cell_type": "code",
   "execution_count": 746,
   "metadata": {
    "collapsed": true
   },
   "outputs": [],
   "source": [
    "tree_train_pred = pd.DataFrame( { 'actual':  train_y,\n",
    "                            'predicted': rgs_tree.predict( train_X ) } )\n",
    "tree_test_pred = pd.DataFrame( { 'actual':  test_y,\n",
    "                            'predicted': rgs_tree.predict( test_X ) } )"
   ]
  },
  {
   "cell_type": "code",
   "execution_count": 747,
   "metadata": {},
   "outputs": [
    {
     "name": "stdout",
     "output_type": "stream",
     "text": [
      "RMSE for training data:  0.381483237848\n",
      "RMSE for test data:  0.423641271299\n",
      "R sq for for training data:  0.620074592655\n",
      "R sq for test data:  0.554489505177\n"
     ]
    }
   ],
   "source": [
    "rmse_train = np.sqrt( metrics.mean_squared_error(tree_train_pred['actual'], tree_train_pred['predicted']))\n",
    "rmse_test = np.sqrt( metrics.mean_squared_error(tree_test_pred['actual'], tree_test_pred['predicted']))\n",
    "r2_score_train = metrics.r2_score(tree_train_pred['actual'], tree_train_pred['predicted'])\n",
    "r2_score_test = metrics.r2_score(tree_test_pred['actual'], tree_test_pred['predicted'])         \n",
    "\n",
    "print(\"RMSE for training data: \" ,rmse_train)\n",
    "print(\"RMSE for test data: \" ,rmse_test)\n",
    "print(\"R sq for for training data: \" ,r2_score_train)\n",
    "print(\"R sq for test data: \" ,r2_score_test)"
   ]
  },
  {
   "cell_type": "markdown",
   "metadata": {},
   "source": [
    "This model is slightly better than one obtained before. Here we applied decision tree after feature selection. The feature selction was done using VIF (for multicollinearity) followed by feature selection using feature importance"
   ]
  },
  {
   "cell_type": "code",
   "execution_count": null,
   "metadata": {
    "collapsed": true
   },
   "outputs": [],
   "source": []
  }
 ],
 "metadata": {
  "kernelspec": {
   "display_name": "Python 3",
   "language": "python",
   "name": "python3"
  },
  "language_info": {
   "codemirror_mode": {
    "name": "ipython",
    "version": 3
   },
   "file_extension": ".py",
   "mimetype": "text/x-python",
   "name": "python",
   "nbconvert_exporter": "python",
   "pygments_lexer": "ipython3",
   "version": "3.6.3"
  }
 },
 "nbformat": 4,
 "nbformat_minor": 2
}
