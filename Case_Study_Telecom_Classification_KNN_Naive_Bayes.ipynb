{
 "cells": [
  {
   "cell_type": "code",
   "execution_count": 1,
   "metadata": {},
   "outputs": [
    {
     "name": "stderr",
     "output_type": "stream",
     "text": [
      "C:\\ProgramData\\Anaconda3\\lib\\site-packages\\sklearn\\cross_validation.py:41: DeprecationWarning: This module was deprecated in version 0.18 in favor of the model_selection module into which all the refactored classes and functions are moved. Also note that the interface of the new CV iterators are different from that of this module. This module will be removed in 0.20.\n",
      "  \"This module will be removed in 0.20.\", DeprecationWarning)\n"
     ]
    }
   ],
   "source": [
    "import pandas as pd\n",
    "from pandas import Series, DataFrame\n",
    "#import pandas_profiling\n",
    "import matplotlib.pyplot as plt\n",
    "import numpy as np\n",
    "%matplotlib inline\n",
    "\n",
    "plt.rc(\"font\", size=14)\n",
    "from sklearn.linear_model import LogisticRegression\n",
    "from sklearn.cross_validation import train_test_split\n",
    "\n",
    "import seaborn as sns\n",
    "sns.set(style=\"white\")\n",
    "sns.set(style=\"whitegrid\", color_codes=True)"
   ]
  },
  {
   "cell_type": "code",
   "execution_count": 2,
   "metadata": {
    "collapsed": true
   },
   "outputs": [],
   "source": [
    "## Load the data\n",
    "data1 = pd.read_csv('Telecom_Data.csv')\n",
    "data2 = pd.read_csv('Telecom_data_2.csv')"
   ]
  },
  {
   "cell_type": "code",
   "execution_count": 3,
   "metadata": {
    "collapsed": true
   },
   "outputs": [],
   "source": [
    "#data1 is the data based on which categorical and numerical variables have been categorized and treated\n",
    "#data2 is the data on which variable treatment is applied"
   ]
  },
  {
   "cell_type": "code",
   "execution_count": 33,
   "metadata": {},
   "outputs": [
    {
     "name": "stdout",
     "output_type": "stream",
     "text": [
      "Index(['AGE', 'INCOME', 'CHURNED', 'DAYS_BETWEEN_FIRST_COMM_AND_UPGRADE_DATE',\n",
      "       'plan_low', 'plan_medium', 'plan_zero', 'model_low', 'model_medium',\n",
      "       'channel_low_churn', 'source_low_churn', 'source_medium_churn',\n",
      "       'source_zero_churn', 'zip_low_churn_zip', 'zip_medium_churn_zip',\n",
      "       'feedback_GOOD', 'feedback_Missing', 'satellite_low_churn_satellite',\n",
      "       'satellite_medium_churn_satellite', 'site_Missing', 'site_Spaceway',\n",
      "       'warranty_low_churn_warranty', 'warranty_medium_churn_warranty',\n",
      "       'recent_channel_low_churn_channel',\n",
      "       'recent_channel_medium_churn_channel', 'status_Unknown', 'comp_owner_N',\n",
      "       'comp_owner_Y'],\n",
      "      dtype='object')\n",
      "Index(['FIRST_COMMUNICATION_DATE', 'UPGRADE_DATE', 'AGE', 'INCOME', 'CHURNED',\n",
      "       'DAYS_BETWEEN_FIRST_COMM_AND_UPGRADE_DATE', 'plan_low', 'plan_medium',\n",
      "       'plan_zero', 'model_low', 'model_medium', 'channel_low_churn',\n",
      "       'source_low_churn', 'source_medium_churn', 'source_zero_churn',\n",
      "       'zip_low_churn_zip', 'zip_medium_churn_zip', 'feedback_GOOD',\n",
      "       'feedback_Missing', 'satellite_medium_churn_satellite', 'site_Missing',\n",
      "       'site_Spaceway', 'warranty_low_churn_warranty',\n",
      "       'warranty_medium_churn_warranty', 'recent_channel_medium_churn_channel',\n",
      "       'status_Unknown', 'comp_owner_N', 'comp_owner_Y'],\n",
      "      dtype='object')\n"
     ]
    }
   ],
   "source": [
    "print(data1.columns)\n",
    "print(data2.columns)"
   ]
  },
  {
   "cell_type": "code",
   "execution_count": 4,
   "metadata": {},
   "outputs": [
    {
     "name": "stdout",
     "output_type": "stream",
     "text": [
      "<class 'pandas.core.frame.DataFrame'>\n",
      "RangeIndex: 9473 entries, 0 to 9472\n",
      "Data columns (total 30 columns):\n",
      "Unnamed: 0                                  9473 non-null int64\n",
      "AGE                                         9473 non-null float64\n",
      "INCOME                                      9473 non-null float64\n",
      "PRESENCE_OF_CHILDREN                        9473 non-null object\n",
      "CHURNED                                     9473 non-null int64\n",
      "DAYS_BETWEEN_FIRST_COMM_AND_UPGRADE_DATE    9473 non-null float64\n",
      "plan_low                                    9473 non-null int64\n",
      "plan_medium                                 9473 non-null int64\n",
      "plan_zero                                   9473 non-null int64\n",
      "model_low                                   9473 non-null int64\n",
      "model_medium                                9473 non-null int64\n",
      "channel_low_churn                           9473 non-null int64\n",
      "source_low_churn                            9473 non-null int64\n",
      "source_medium_churn                         9473 non-null int64\n",
      "source_zero_churn                           9473 non-null int64\n",
      "zip_low_churn_zip                           9473 non-null int64\n",
      "zip_medium_churn_zip                        9473 non-null int64\n",
      "feedback_GOOD                               9473 non-null int64\n",
      "feedback_Missing                            9473 non-null int64\n",
      "satellite_low_churn_satellite               9473 non-null int64\n",
      "satellite_medium_churn_satellite            9473 non-null int64\n",
      "site_Missing                                9473 non-null int64\n",
      "site_Spaceway                               9473 non-null int64\n",
      "warranty_low_churn_warranty                 9473 non-null int64\n",
      "warranty_medium_churn_warranty              9473 non-null int64\n",
      "recent_channel_low_churn_channel            9473 non-null int64\n",
      "recent_channel_medium_churn_channel         9473 non-null int64\n",
      "status_Unknown                              9473 non-null int64\n",
      "comp_owner_N                                9473 non-null int64\n",
      "comp_owner_Y                                9473 non-null int64\n",
      "dtypes: float64(3), int64(26), object(1)\n",
      "memory usage: 2.2+ MB\n"
     ]
    }
   ],
   "source": [
    "data1.info()"
   ]
  },
  {
   "cell_type": "code",
   "execution_count": 5,
   "metadata": {},
   "outputs": [
    {
     "data": {
      "text/html": [
       "<div>\n",
       "<style>\n",
       "    .dataframe thead tr:only-child th {\n",
       "        text-align: right;\n",
       "    }\n",
       "\n",
       "    .dataframe thead th {\n",
       "        text-align: left;\n",
       "    }\n",
       "\n",
       "    .dataframe tbody tr th {\n",
       "        vertical-align: top;\n",
       "    }\n",
       "</style>\n",
       "<table border=\"1\" class=\"dataframe\">\n",
       "  <thead>\n",
       "    <tr style=\"text-align: right;\">\n",
       "      <th></th>\n",
       "      <th>Unnamed: 0</th>\n",
       "      <th>AGE</th>\n",
       "      <th>INCOME</th>\n",
       "      <th>PRESENCE_OF_CHILDREN</th>\n",
       "      <th>CHURNED</th>\n",
       "      <th>DAYS_BETWEEN_FIRST_COMM_AND_UPGRADE_DATE</th>\n",
       "      <th>plan_low</th>\n",
       "      <th>plan_medium</th>\n",
       "      <th>plan_zero</th>\n",
       "      <th>model_low</th>\n",
       "      <th>...</th>\n",
       "      <th>satellite_medium_churn_satellite</th>\n",
       "      <th>site_Missing</th>\n",
       "      <th>site_Spaceway</th>\n",
       "      <th>warranty_low_churn_warranty</th>\n",
       "      <th>warranty_medium_churn_warranty</th>\n",
       "      <th>recent_channel_low_churn_channel</th>\n",
       "      <th>recent_channel_medium_churn_channel</th>\n",
       "      <th>status_Unknown</th>\n",
       "      <th>comp_owner_N</th>\n",
       "      <th>comp_owner_Y</th>\n",
       "    </tr>\n",
       "  </thead>\n",
       "  <tbody>\n",
       "    <tr>\n",
       "      <th>0</th>\n",
       "      <td>0</td>\n",
       "      <td>69.0</td>\n",
       "      <td>5.984522</td>\n",
       "      <td>Missing</td>\n",
       "      <td>0</td>\n",
       "      <td>2.046575</td>\n",
       "      <td>0</td>\n",
       "      <td>1</td>\n",
       "      <td>0</td>\n",
       "      <td>0</td>\n",
       "      <td>...</td>\n",
       "      <td>1</td>\n",
       "      <td>0</td>\n",
       "      <td>0</td>\n",
       "      <td>1</td>\n",
       "      <td>0</td>\n",
       "      <td>1</td>\n",
       "      <td>0</td>\n",
       "      <td>0</td>\n",
       "      <td>1</td>\n",
       "      <td>0</td>\n",
       "    </tr>\n",
       "    <tr>\n",
       "      <th>1</th>\n",
       "      <td>1</td>\n",
       "      <td>43.0</td>\n",
       "      <td>4.000000</td>\n",
       "      <td>Missing</td>\n",
       "      <td>0</td>\n",
       "      <td>3.271233</td>\n",
       "      <td>0</td>\n",
       "      <td>0</td>\n",
       "      <td>0</td>\n",
       "      <td>0</td>\n",
       "      <td>...</td>\n",
       "      <td>0</td>\n",
       "      <td>0</td>\n",
       "      <td>1</td>\n",
       "      <td>1</td>\n",
       "      <td>0</td>\n",
       "      <td>1</td>\n",
       "      <td>0</td>\n",
       "      <td>0</td>\n",
       "      <td>1</td>\n",
       "      <td>0</td>\n",
       "    </tr>\n",
       "    <tr>\n",
       "      <th>2</th>\n",
       "      <td>2</td>\n",
       "      <td>58.0</td>\n",
       "      <td>4.000000</td>\n",
       "      <td>Missing</td>\n",
       "      <td>0</td>\n",
       "      <td>3.134247</td>\n",
       "      <td>0</td>\n",
       "      <td>0</td>\n",
       "      <td>1</td>\n",
       "      <td>0</td>\n",
       "      <td>...</td>\n",
       "      <td>0</td>\n",
       "      <td>0</td>\n",
       "      <td>0</td>\n",
       "      <td>1</td>\n",
       "      <td>0</td>\n",
       "      <td>1</td>\n",
       "      <td>0</td>\n",
       "      <td>0</td>\n",
       "      <td>1</td>\n",
       "      <td>0</td>\n",
       "    </tr>\n",
       "    <tr>\n",
       "      <th>3</th>\n",
       "      <td>3</td>\n",
       "      <td>36.0</td>\n",
       "      <td>7.000000</td>\n",
       "      <td>Missing</td>\n",
       "      <td>0</td>\n",
       "      <td>2.295890</td>\n",
       "      <td>0</td>\n",
       "      <td>1</td>\n",
       "      <td>0</td>\n",
       "      <td>0</td>\n",
       "      <td>...</td>\n",
       "      <td>0</td>\n",
       "      <td>0</td>\n",
       "      <td>0</td>\n",
       "      <td>1</td>\n",
       "      <td>0</td>\n",
       "      <td>1</td>\n",
       "      <td>0</td>\n",
       "      <td>0</td>\n",
       "      <td>0</td>\n",
       "      <td>0</td>\n",
       "    </tr>\n",
       "    <tr>\n",
       "      <th>4</th>\n",
       "      <td>4</td>\n",
       "      <td>56.0</td>\n",
       "      <td>3.000000</td>\n",
       "      <td>Missing</td>\n",
       "      <td>0</td>\n",
       "      <td>1.536986</td>\n",
       "      <td>0</td>\n",
       "      <td>0</td>\n",
       "      <td>1</td>\n",
       "      <td>0</td>\n",
       "      <td>...</td>\n",
       "      <td>0</td>\n",
       "      <td>0</td>\n",
       "      <td>0</td>\n",
       "      <td>1</td>\n",
       "      <td>0</td>\n",
       "      <td>1</td>\n",
       "      <td>0</td>\n",
       "      <td>0</td>\n",
       "      <td>0</td>\n",
       "      <td>0</td>\n",
       "    </tr>\n",
       "  </tbody>\n",
       "</table>\n",
       "<p>5 rows × 30 columns</p>\n",
       "</div>"
      ],
      "text/plain": [
       "   Unnamed: 0   AGE    INCOME PRESENCE_OF_CHILDREN  CHURNED  \\\n",
       "0           0  69.0  5.984522              Missing        0   \n",
       "1           1  43.0  4.000000              Missing        0   \n",
       "2           2  58.0  4.000000              Missing        0   \n",
       "3           3  36.0  7.000000              Missing        0   \n",
       "4           4  56.0  3.000000              Missing        0   \n",
       "\n",
       "   DAYS_BETWEEN_FIRST_COMM_AND_UPGRADE_DATE  plan_low  plan_medium  plan_zero  \\\n",
       "0                                  2.046575         0            1          0   \n",
       "1                                  3.271233         0            0          0   \n",
       "2                                  3.134247         0            0          1   \n",
       "3                                  2.295890         0            1          0   \n",
       "4                                  1.536986         0            0          1   \n",
       "\n",
       "   model_low      ...       satellite_medium_churn_satellite  site_Missing  \\\n",
       "0          0      ...                                      1             0   \n",
       "1          0      ...                                      0             0   \n",
       "2          0      ...                                      0             0   \n",
       "3          0      ...                                      0             0   \n",
       "4          0      ...                                      0             0   \n",
       "\n",
       "   site_Spaceway  warranty_low_churn_warranty  warranty_medium_churn_warranty  \\\n",
       "0              0                            1                               0   \n",
       "1              1                            1                               0   \n",
       "2              0                            1                               0   \n",
       "3              0                            1                               0   \n",
       "4              0                            1                               0   \n",
       "\n",
       "   recent_channel_low_churn_channel  recent_channel_medium_churn_channel  \\\n",
       "0                                 1                                    0   \n",
       "1                                 1                                    0   \n",
       "2                                 1                                    0   \n",
       "3                                 1                                    0   \n",
       "4                                 1                                    0   \n",
       "\n",
       "   status_Unknown  comp_owner_N  comp_owner_Y  \n",
       "0               0             1             0  \n",
       "1               0             1             0  \n",
       "2               0             1             0  \n",
       "3               0             0             0  \n",
       "4               0             0             0  \n",
       "\n",
       "[5 rows x 30 columns]"
      ]
     },
     "execution_count": 5,
     "metadata": {},
     "output_type": "execute_result"
    }
   ],
   "source": [
    "data1.head()"
   ]
  },
  {
   "cell_type": "code",
   "execution_count": 6,
   "metadata": {},
   "outputs": [
    {
     "data": {
      "text/html": [
       "<div>\n",
       "<style>\n",
       "    .dataframe thead tr:only-child th {\n",
       "        text-align: right;\n",
       "    }\n",
       "\n",
       "    .dataframe thead th {\n",
       "        text-align: left;\n",
       "    }\n",
       "\n",
       "    .dataframe tbody tr th {\n",
       "        vertical-align: top;\n",
       "    }\n",
       "</style>\n",
       "<table border=\"1\" class=\"dataframe\">\n",
       "  <thead>\n",
       "    <tr style=\"text-align: right;\">\n",
       "      <th></th>\n",
       "      <th>Unnamed: 0</th>\n",
       "      <th>FIRST_COMMUNICATION_DATE</th>\n",
       "      <th>UPGRADE_DATE</th>\n",
       "      <th>AGE</th>\n",
       "      <th>INCOME</th>\n",
       "      <th>PRESENCE_OF_CHILDREN</th>\n",
       "      <th>CHURNED</th>\n",
       "      <th>DAYS_BETWEEN_FIRST_COMM_AND_UPGRADE_DATE</th>\n",
       "      <th>plan_low</th>\n",
       "      <th>plan_medium</th>\n",
       "      <th>...</th>\n",
       "      <th>feedback_Missing</th>\n",
       "      <th>satellite_medium_churn_satellite</th>\n",
       "      <th>site_Missing</th>\n",
       "      <th>site_Spaceway</th>\n",
       "      <th>warranty_low_churn_warranty</th>\n",
       "      <th>warranty_medium_churn_warranty</th>\n",
       "      <th>recent_channel_medium_churn_channel</th>\n",
       "      <th>status_Unknown</th>\n",
       "      <th>comp_owner_N</th>\n",
       "      <th>comp_owner_Y</th>\n",
       "    </tr>\n",
       "  </thead>\n",
       "  <tbody>\n",
       "    <tr>\n",
       "      <th>0</th>\n",
       "      <td>0</td>\n",
       "      <td>2001-12-13</td>\n",
       "      <td>2005-12-21</td>\n",
       "      <td>30.0</td>\n",
       "      <td>1.838072</td>\n",
       "      <td>Missing</td>\n",
       "      <td>0</td>\n",
       "      <td>4.024658</td>\n",
       "      <td>0</td>\n",
       "      <td>1</td>\n",
       "      <td>...</td>\n",
       "      <td>0</td>\n",
       "      <td>1</td>\n",
       "      <td>0</td>\n",
       "      <td>0</td>\n",
       "      <td>1</td>\n",
       "      <td>0</td>\n",
       "      <td>0</td>\n",
       "      <td>0</td>\n",
       "      <td>0</td>\n",
       "      <td>0</td>\n",
       "    </tr>\n",
       "    <tr>\n",
       "      <th>1</th>\n",
       "      <td>1</td>\n",
       "      <td>2002-02-18</td>\n",
       "      <td>2004-04-05</td>\n",
       "      <td>66.0</td>\n",
       "      <td>1.838072</td>\n",
       "      <td>Missing</td>\n",
       "      <td>0</td>\n",
       "      <td>2.128767</td>\n",
       "      <td>0</td>\n",
       "      <td>1</td>\n",
       "      <td>...</td>\n",
       "      <td>0</td>\n",
       "      <td>0</td>\n",
       "      <td>0</td>\n",
       "      <td>0</td>\n",
       "      <td>1</td>\n",
       "      <td>0</td>\n",
       "      <td>1</td>\n",
       "      <td>0</td>\n",
       "      <td>1</td>\n",
       "      <td>0</td>\n",
       "    </tr>\n",
       "    <tr>\n",
       "      <th>2</th>\n",
       "      <td>2</td>\n",
       "      <td>2002-03-14</td>\n",
       "      <td>2006-01-14</td>\n",
       "      <td>25.0</td>\n",
       "      <td>7.000000</td>\n",
       "      <td>Missing</td>\n",
       "      <td>0</td>\n",
       "      <td>3.841096</td>\n",
       "      <td>0</td>\n",
       "      <td>0</td>\n",
       "      <td>...</td>\n",
       "      <td>1</td>\n",
       "      <td>0</td>\n",
       "      <td>0</td>\n",
       "      <td>0</td>\n",
       "      <td>1</td>\n",
       "      <td>0</td>\n",
       "      <td>0</td>\n",
       "      <td>0</td>\n",
       "      <td>0</td>\n",
       "      <td>0</td>\n",
       "    </tr>\n",
       "    <tr>\n",
       "      <th>3</th>\n",
       "      <td>3</td>\n",
       "      <td>2002-01-18</td>\n",
       "      <td>2004-07-30</td>\n",
       "      <td>25.0</td>\n",
       "      <td>1.838072</td>\n",
       "      <td>Missing</td>\n",
       "      <td>0</td>\n",
       "      <td>2.531507</td>\n",
       "      <td>0</td>\n",
       "      <td>1</td>\n",
       "      <td>...</td>\n",
       "      <td>0</td>\n",
       "      <td>1</td>\n",
       "      <td>0</td>\n",
       "      <td>0</td>\n",
       "      <td>1</td>\n",
       "      <td>0</td>\n",
       "      <td>0</td>\n",
       "      <td>0</td>\n",
       "      <td>1</td>\n",
       "      <td>0</td>\n",
       "    </tr>\n",
       "    <tr>\n",
       "      <th>4</th>\n",
       "      <td>4</td>\n",
       "      <td>2001-11-14</td>\n",
       "      <td>2004-06-14</td>\n",
       "      <td>55.0</td>\n",
       "      <td>4.000000</td>\n",
       "      <td>Missing</td>\n",
       "      <td>0</td>\n",
       "      <td>2.583562</td>\n",
       "      <td>1</td>\n",
       "      <td>0</td>\n",
       "      <td>...</td>\n",
       "      <td>0</td>\n",
       "      <td>1</td>\n",
       "      <td>0</td>\n",
       "      <td>0</td>\n",
       "      <td>1</td>\n",
       "      <td>0</td>\n",
       "      <td>0</td>\n",
       "      <td>0</td>\n",
       "      <td>0</td>\n",
       "      <td>0</td>\n",
       "    </tr>\n",
       "  </tbody>\n",
       "</table>\n",
       "<p>5 rows × 30 columns</p>\n",
       "</div>"
      ],
      "text/plain": [
       "   Unnamed: 0 FIRST_COMMUNICATION_DATE UPGRADE_DATE   AGE    INCOME  \\\n",
       "0           0               2001-12-13   2005-12-21  30.0  1.838072   \n",
       "1           1               2002-02-18   2004-04-05  66.0  1.838072   \n",
       "2           2               2002-03-14   2006-01-14  25.0  7.000000   \n",
       "3           3               2002-01-18   2004-07-30  25.0  1.838072   \n",
       "4           4               2001-11-14   2004-06-14  55.0  4.000000   \n",
       "\n",
       "  PRESENCE_OF_CHILDREN  CHURNED  DAYS_BETWEEN_FIRST_COMM_AND_UPGRADE_DATE  \\\n",
       "0              Missing        0                                  4.024658   \n",
       "1              Missing        0                                  2.128767   \n",
       "2              Missing        0                                  3.841096   \n",
       "3              Missing        0                                  2.531507   \n",
       "4              Missing        0                                  2.583562   \n",
       "\n",
       "   plan_low  plan_medium      ...       feedback_Missing  \\\n",
       "0         0            1      ...                      0   \n",
       "1         0            1      ...                      0   \n",
       "2         0            0      ...                      1   \n",
       "3         0            1      ...                      0   \n",
       "4         1            0      ...                      0   \n",
       "\n",
       "   satellite_medium_churn_satellite  site_Missing  site_Spaceway  \\\n",
       "0                                 1             0              0   \n",
       "1                                 0             0              0   \n",
       "2                                 0             0              0   \n",
       "3                                 1             0              0   \n",
       "4                                 1             0              0   \n",
       "\n",
       "   warranty_low_churn_warranty  warranty_medium_churn_warranty  \\\n",
       "0                            1                               0   \n",
       "1                            1                               0   \n",
       "2                            1                               0   \n",
       "3                            1                               0   \n",
       "4                            1                               0   \n",
       "\n",
       "   recent_channel_medium_churn_channel  status_Unknown  comp_owner_N  \\\n",
       "0                                    0               0             0   \n",
       "1                                    1               0             1   \n",
       "2                                    0               0             0   \n",
       "3                                    0               0             1   \n",
       "4                                    0               0             0   \n",
       "\n",
       "   comp_owner_Y  \n",
       "0             0  \n",
       "1             0  \n",
       "2             0  \n",
       "3             0  \n",
       "4             0  \n",
       "\n",
       "[5 rows x 30 columns]"
      ]
     },
     "execution_count": 6,
     "metadata": {},
     "output_type": "execute_result"
    }
   ],
   "source": [
    "data2.head()"
   ]
  },
  {
   "cell_type": "code",
   "execution_count": 7,
   "metadata": {
    "collapsed": true
   },
   "outputs": [],
   "source": [
    "data1.drop(['Unnamed: 0'], inplace=True, axis=1)\n",
    "data2.drop(['Unnamed: 0'], inplace=True, axis=1)"
   ]
  },
  {
   "cell_type": "code",
   "execution_count": 8,
   "metadata": {},
   "outputs": [
    {
     "data": {
      "text/plain": [
       "AGE                                         0\n",
       "INCOME                                      0\n",
       "PRESENCE_OF_CHILDREN                        0\n",
       "CHURNED                                     0\n",
       "DAYS_BETWEEN_FIRST_COMM_AND_UPGRADE_DATE    0\n",
       "plan_low                                    0\n",
       "plan_medium                                 0\n",
       "plan_zero                                   0\n",
       "model_low                                   0\n",
       "model_medium                                0\n",
       "channel_low_churn                           0\n",
       "source_low_churn                            0\n",
       "source_medium_churn                         0\n",
       "source_zero_churn                           0\n",
       "zip_low_churn_zip                           0\n",
       "zip_medium_churn_zip                        0\n",
       "feedback_GOOD                               0\n",
       "feedback_Missing                            0\n",
       "satellite_low_churn_satellite               0\n",
       "satellite_medium_churn_satellite            0\n",
       "site_Missing                                0\n",
       "site_Spaceway                               0\n",
       "warranty_low_churn_warranty                 0\n",
       "warranty_medium_churn_warranty              0\n",
       "recent_channel_low_churn_channel            0\n",
       "recent_channel_medium_churn_channel         0\n",
       "status_Unknown                              0\n",
       "comp_owner_N                                0\n",
       "comp_owner_Y                                0\n",
       "dtype: int64"
      ]
     },
     "execution_count": 8,
     "metadata": {},
     "output_type": "execute_result"
    }
   ],
   "source": [
    "data1.isnull().sum()"
   ]
  },
  {
   "cell_type": "code",
   "execution_count": 9,
   "metadata": {},
   "outputs": [
    {
     "data": {
      "image/png": "[encoded data removed]",
      "text/plain": [
       "<matplotlib.figure.Figure at 0xc453f98>"
      ]
     },
     "metadata": {},
     "output_type": "display_data"
    }
   ],
   "source": [
    "sns.countplot(x='CHURNED',data=data1, palette='hls')\n",
    "plt.show()"
   ]
  },
  {
   "cell_type": "code",
   "execution_count": 10,
   "metadata": {
    "collapsed": true
   },
   "outputs": [],
   "source": [
    "#Here we already have the clean and processed data so we don't need to visualize it or create dummy variables."
   ]
  },
  {
   "cell_type": "code",
   "execution_count": 11,
   "metadata": {
    "collapsed": true
   },
   "outputs": [],
   "source": [
    "data1.drop(['PRESENCE_OF_CHILDREN'], inplace=True, axis=1)\n",
    "data2.drop(['PRESENCE_OF_CHILDREN'], inplace=True, axis=1)"
   ]
  },
  {
   "cell_type": "markdown",
   "metadata": {},
   "source": [
    "Features Selection\n",
    "Recursive Feature Elimination (RFE) "
   ]
  },
  {
   "cell_type": "code",
   "execution_count": 12,
   "metadata": {
    "collapsed": true
   },
   "outputs": [],
   "source": [
    "from sklearn import datasets\n",
    "from sklearn.feature_selection import RFE\n",
    "from sklearn.linear_model import LogisticRegression"
   ]
  },
  {
   "cell_type": "code",
   "execution_count": 13,
   "metadata": {
    "collapsed": true
   },
   "outputs": [],
   "source": [
    "RFE?"
   ]
  },
  {
   "cell_type": "code",
   "execution_count": 14,
   "metadata": {
    "collapsed": true
   },
   "outputs": [],
   "source": [
    "X = list(data1.columns.difference(['CHURNED']))\n",
    "y = ['CHURNED']"
   ]
  },
  {
   "cell_type": "code",
   "execution_count": 15,
   "metadata": {},
   "outputs": [
    {
     "name": "stderr",
     "output_type": "stream",
     "text": [
      "C:\\ProgramData\\Anaconda3\\lib\\site-packages\\sklearn\\utils\\validation.py:578: DataConversionWarning: A column-vector y was passed when a 1d array was expected. Please change the shape of y to (n_samples, ), for example using ravel().\n",
      "  y = column_or_1d(y, warn=True)\n"
     ]
    },
    {
     "name": "stdout",
     "output_type": "stream",
     "text": [
      "[False  True False False  True  True  True  True  True  True  True False\n",
      "  True  True  True  True  True False  True  True  True  True  True  True\n",
      " False  True False]\n",
      "['AGE', 'INCOME', 'CHURNED', 'DAYS_BETWEEN_FIRST_COMM_AND_UPGRADE_DATE', 'plan_low', 'plan_medium', 'plan_zero', 'model_low', 'model_medium', 'channel_low_churn', 'source_low_churn', 'source_medium_churn', 'source_zero_churn', 'zip_low_churn_zip', 'zip_medium_churn_zip', 'feedback_GOOD', 'feedback_Missing', 'satellite_low_churn_satellite', 'satellite_medium_churn_satellite', 'site_Missing', 'site_Spaceway', 'warranty_low_churn_warranty', 'warranty_medium_churn_warranty', 'recent_channel_low_churn_channel', 'recent_channel_medium_churn_channel', 'status_Unknown', 'comp_owner_N', 'comp_owner_Y']\n",
      "[8 1 7 6 1 1 1 1 1 1 1 2 1 1 1 1 1 4 1 1 1 1 1 1 5 1 3]\n"
     ]
    }
   ],
   "source": [
    "logreg = LogisticRegression()\n",
    "rfe = RFE(logreg, 20)\n",
    "rfe = rfe.fit(data1[X], data1[y] )\n",
    "print(rfe.support_)\n",
    "print(list(data1.columns))\n",
    "print(rfe.ranking_)"
   ]
  },
  {
   "cell_type": "code",
   "execution_count": 16,
   "metadata": {},
   "outputs": [
    {
     "name": "stdout",
     "output_type": "stream",
     "text": [
      "0    False\n",
      "1     True\n",
      "2    False\n",
      "3    False\n",
      "4     True\n",
      "dtype: bool\n"
     ]
    }
   ],
   "source": [
    "#print(type(rfe.support_))\n",
    "rfe_bool = pd.Series(rfe.support_)\n",
    "print(rfe_bool.head(5))"
   ]
  },
  {
   "cell_type": "code",
   "execution_count": 17,
   "metadata": {},
   "outputs": [
    {
     "name": "stdout",
     "output_type": "stream",
     "text": [
      "<class 'pandas.core.indexes.base.Index'>\n"
     ]
    }
   ],
   "source": [
    "print(type(data1.columns))"
   ]
  },
  {
   "cell_type": "code",
   "execution_count": 18,
   "metadata": {},
   "outputs": [
    {
     "name": "stdout",
     "output_type": "stream",
     "text": [
      "0                                         AGE\n",
      "1                                      INCOME\n",
      "2                                     CHURNED\n",
      "3    DAYS_BETWEEN_FIRST_COMM_AND_UPGRADE_DATE\n",
      "4                                    plan_low\n",
      "dtype: object\n"
     ]
    }
   ],
   "source": [
    "col_names = pd.Series(data1.columns)\n",
    "print(col_names.head(5))"
   ]
  },
  {
   "cell_type": "code",
   "execution_count": 19,
   "metadata": {
    "collapsed": true
   },
   "outputs": [],
   "source": [
    "rfe_concat = pd.concat([rfe_bool, col_names], axis=1)"
   ]
  },
  {
   "cell_type": "code",
   "execution_count": 20,
   "metadata": {},
   "outputs": [
    {
     "data": {
      "text/html": [
       "<div>\n",
       "<style>\n",
       "    .dataframe thead tr:only-child th {\n",
       "        text-align: right;\n",
       "    }\n",
       "\n",
       "    .dataframe thead th {\n",
       "        text-align: left;\n",
       "    }\n",
       "\n",
       "    .dataframe tbody tr th {\n",
       "        vertical-align: top;\n",
       "    }\n",
       "</style>\n",
       "<table border=\"1\" class=\"dataframe\">\n",
       "  <thead>\n",
       "    <tr style=\"text-align: right;\">\n",
       "      <th></th>\n",
       "      <th>0</th>\n",
       "      <th>1</th>\n",
       "    </tr>\n",
       "  </thead>\n",
       "  <tbody>\n",
       "    <tr>\n",
       "      <th>0</th>\n",
       "      <td>False</td>\n",
       "      <td>AGE</td>\n",
       "    </tr>\n",
       "    <tr>\n",
       "      <th>1</th>\n",
       "      <td>True</td>\n",
       "      <td>INCOME</td>\n",
       "    </tr>\n",
       "    <tr>\n",
       "      <th>2</th>\n",
       "      <td>False</td>\n",
       "      <td>CHURNED</td>\n",
       "    </tr>\n",
       "    <tr>\n",
       "      <th>3</th>\n",
       "      <td>False</td>\n",
       "      <td>DAYS_BETWEEN_FIRST_COMM_AND_UPGRADE_DATE</td>\n",
       "    </tr>\n",
       "    <tr>\n",
       "      <th>4</th>\n",
       "      <td>True</td>\n",
       "      <td>plan_low</td>\n",
       "    </tr>\n",
       "  </tbody>\n",
       "</table>\n",
       "</div>"
      ],
      "text/plain": [
       "       0                                         1\n",
       "0  False                                       AGE\n",
       "1   True                                    INCOME\n",
       "2  False                                   CHURNED\n",
       "3  False  DAYS_BETWEEN_FIRST_COMM_AND_UPGRADE_DATE\n",
       "4   True                                  plan_low"
      ]
     },
     "execution_count": 20,
     "metadata": {},
     "output_type": "execute_result"
    }
   ],
   "source": [
    "rfe_concat.head(5)"
   ]
  },
  {
   "cell_type": "code",
   "execution_count": 21,
   "metadata": {
    "collapsed": true
   },
   "outputs": [],
   "source": [
    "rfe_results = pd.DataFrame(rfe_concat.values, columns = ['Value', 'Column_Name'])"
   ]
  },
  {
   "cell_type": "code",
   "execution_count": 22,
   "metadata": {},
   "outputs": [
    {
     "data": {
      "text/html": [
       "<div>\n",
       "<style>\n",
       "    .dataframe thead tr:only-child th {\n",
       "        text-align: right;\n",
       "    }\n",
       "\n",
       "    .dataframe thead th {\n",
       "        text-align: left;\n",
       "    }\n",
       "\n",
       "    .dataframe tbody tr th {\n",
       "        vertical-align: top;\n",
       "    }\n",
       "</style>\n",
       "<table border=\"1\" class=\"dataframe\">\n",
       "  <thead>\n",
       "    <tr style=\"text-align: right;\">\n",
       "      <th></th>\n",
       "      <th>Value</th>\n",
       "      <th>Column_Name</th>\n",
       "    </tr>\n",
       "  </thead>\n",
       "  <tbody>\n",
       "    <tr>\n",
       "      <th>0</th>\n",
       "      <td>False</td>\n",
       "      <td>AGE</td>\n",
       "    </tr>\n",
       "    <tr>\n",
       "      <th>1</th>\n",
       "      <td>True</td>\n",
       "      <td>INCOME</td>\n",
       "    </tr>\n",
       "    <tr>\n",
       "      <th>2</th>\n",
       "      <td>False</td>\n",
       "      <td>CHURNED</td>\n",
       "    </tr>\n",
       "    <tr>\n",
       "      <th>3</th>\n",
       "      <td>False</td>\n",
       "      <td>DAYS_BETWEEN_FIRST_COMM_AND_UPGRADE_DATE</td>\n",
       "    </tr>\n",
       "    <tr>\n",
       "      <th>4</th>\n",
       "      <td>True</td>\n",
       "      <td>plan_low</td>\n",
       "    </tr>\n",
       "  </tbody>\n",
       "</table>\n",
       "</div>"
      ],
      "text/plain": [
       "   Value                               Column_Name\n",
       "0  False                                       AGE\n",
       "1   True                                    INCOME\n",
       "2  False                                   CHURNED\n",
       "3  False  DAYS_BETWEEN_FIRST_COMM_AND_UPGRADE_DATE\n",
       "4   True                                  plan_low"
      ]
     },
     "execution_count": 22,
     "metadata": {},
     "output_type": "execute_result"
    }
   ],
   "source": [
    "rfe_results.head(5)"
   ]
  },
  {
   "cell_type": "code",
   "execution_count": 23,
   "metadata": {
    "collapsed": true
   },
   "outputs": [],
   "source": [
    "selected_features = list(rfe_results[rfe_results['Value'] == True]['Column_Name'])"
   ]
  },
  {
   "cell_type": "code",
   "execution_count": 24,
   "metadata": {},
   "outputs": [
    {
     "name": "stdout",
     "output_type": "stream",
     "text": [
      "['INCOME', 'plan_low', 'plan_medium', 'plan_zero', 'model_low', 'model_medium', 'channel_low_churn', 'source_low_churn', 'source_zero_churn', 'zip_low_churn_zip', 'zip_medium_churn_zip', 'feedback_GOOD', 'feedback_Missing', 'satellite_medium_churn_satellite', 'site_Missing', 'site_Spaceway', 'warranty_low_churn_warranty', 'warranty_medium_churn_warranty', 'recent_channel_low_churn_channel', 'status_Unknown']\n"
     ]
    }
   ],
   "source": [
    "print(selected_features)"
   ]
  },
  {
   "cell_type": "code",
   "execution_count": 25,
   "metadata": {
    "collapsed": true
   },
   "outputs": [],
   "source": [
    "#Above is the list of selected features by RFE method"
   ]
  },
  {
   "cell_type": "code",
   "execution_count": 26,
   "metadata": {
    "collapsed": true
   },
   "outputs": [],
   "source": [
    "X = data1[selected_features]\n",
    "y = data1['CHURNED']"
   ]
  },
  {
   "cell_type": "code",
   "execution_count": 27,
   "metadata": {},
   "outputs": [
    {
     "data": {
      "text/plain": [
       "LogisticRegression(C=1.0, class_weight=None, dual=False, fit_intercept=True,\n",
       "          intercept_scaling=1, max_iter=100, multi_class='ovr', n_jobs=1,\n",
       "          penalty='l2', random_state=None, solver='liblinear', tol=0.0001,\n",
       "          verbose=0, warm_start=False)"
      ]
     },
     "execution_count": 27,
     "metadata": {},
     "output_type": "execute_result"
    }
   ],
   "source": [
    "X_train, X_test, y_train, y_test = train_test_split(X, y, test_size=0.3, random_state=0)\n",
    "from sklearn.linear_model import LogisticRegression\n",
    "from sklearn import metrics\n",
    "logreg = LogisticRegression()\n",
    "logreg.fit(X_train, y_train)"
   ]
  },
  {
   "cell_type": "code",
   "execution_count": 28,
   "metadata": {},
   "outputs": [
    {
     "name": "stdout",
     "output_type": "stream",
     "text": [
      "Accuracy of logistic regression classifier on test set: 0.96\n"
     ]
    }
   ],
   "source": [
    "y_pred = logreg.predict(X_test)\n",
    "print('Accuracy of logistic regression classifier on test set: {:.2f}'.format(logreg.score(X_test, y_test)))"
   ]
  },
  {
   "cell_type": "code",
   "execution_count": 34,
   "metadata": {},
   "outputs": [],
   "source": [
    "#Cross Validation"
   ]
  },
  {
   "cell_type": "code",
   "execution_count": 35,
   "metadata": {},
   "outputs": [
    {
     "name": "stdout",
     "output_type": "stream",
     "text": [
      "10-fold cross validation average accuracy: 0.957\n"
     ]
    }
   ],
   "source": [
    "from sklearn import model_selection\n",
    "from sklearn.model_selection import cross_val_score\n",
    "kfold = model_selection.KFold(n_splits=10, random_state=7)\n",
    "modelCV = LogisticRegression()\n",
    "scoring = 'accuracy'\n",
    "results = model_selection.cross_val_score(modelCV, X_train, y_train, cv=kfold, scoring=scoring)\n",
    "print(\"10-fold cross validation average accuracy: %.3f\" % (results.mean()))"
   ]
  },
  {
   "cell_type": "markdown",
   "metadata": {},
   "source": [
    "The average accuracy remains very close to the Logistic Regression model accuracy; hence, we can conclude that our model generalizes well."
   ]
  },
  {
   "cell_type": "code",
   "execution_count": 36,
   "metadata": {},
   "outputs": [
    {
     "name": "stdout",
     "output_type": "stream",
     "text": [
      "[[1363   53]\n",
      " [  58 1368]]\n"
     ]
    }
   ],
   "source": [
    "#Confusion Matrix\n",
    "from sklearn.metrics import confusion_matrix\n",
    "confusion_matrix = confusion_matrix(y_test, y_pred)\n",
    "print(confusion_matrix)"
   ]
  },
  {
   "cell_type": "code",
   "execution_count": 37,
   "metadata": {},
   "outputs": [
    {
     "name": "stdout",
     "output_type": "stream",
     "text": [
      "             precision    recall  f1-score   support\n",
      "\n",
      "          0       0.96      0.96      0.96      1416\n",
      "          1       0.96      0.96      0.96      1426\n",
      "\n",
      "avg / total       0.96      0.96      0.96      2842\n",
      "\n"
     ]
    }
   ],
   "source": [
    "#Compute precision, recall, F-measure and support\n",
    "from sklearn.metrics import classification_report\n",
    "print(classification_report(y_test, y_pred))"
   ]
  },
  {
   "cell_type": "code",
   "execution_count": 38,
   "metadata": {},
   "outputs": [
    {
     "data": {
      "text/plain": [
       "array([ 0.99986939,  0.99990136,  0.99713317, ...,  0.92631944,\n",
       "        0.57107297,  0.08445349])"
      ]
     },
     "execution_count": 38,
     "metadata": {},
     "output_type": "execute_result"
    }
   ],
   "source": [
    "logreg.predict_proba(X_test)[:,1]"
   ]
  },
  {
   "cell_type": "markdown",
   "metadata": {},
   "source": [
    "# Naive Bayes"
   ]
  },
  {
   "cell_type": "code",
   "execution_count": 39,
   "metadata": {},
   "outputs": [
    {
     "name": "stderr",
     "output_type": "stream",
     "text": [
      "C:\\ProgramData\\Anaconda3\\lib\\site-packages\\sklearn\\grid_search.py:42: DeprecationWarning: This module was deprecated in version 0.18 in favor of the model_selection module into which all the refactored classes and functions are moved. This module will be removed in 0.20.\n",
      "  DeprecationWarning)\n"
     ]
    }
   ],
   "source": [
    "from sklearn.naive_bayes import GaussianNB\n",
    "from sklearn import metrics\n",
    "import seaborn as sn\n",
    "from sklearn.grid_search import GridSearchCV"
   ]
  },
  {
   "cell_type": "code",
   "execution_count": 40,
   "metadata": {
    "collapsed": true
   },
   "outputs": [],
   "source": [
    "GaussianNB?"
   ]
  },
  {
   "cell_type": "code",
   "execution_count": 41,
   "metadata": {},
   "outputs": [
    {
     "data": {
      "text/plain": [
       "GaussianNB(priors=None)"
      ]
     },
     "execution_count": 41,
     "metadata": {},
     "output_type": "execute_result"
    }
   ],
   "source": [
    "nb_clf = GaussianNB()\n",
    "nb_clf.fit(X_train,y_train)"
   ]
  },
  {
   "cell_type": "code",
   "execution_count": 42,
   "metadata": {},
   "outputs": [
    {
     "data": {
      "text/plain": [
       "Text(0.5,16,'Predicted label')"
      ]
     },
     "execution_count": 42,
     "metadata": {},
     "output_type": "execute_result"
    },
    {
     "data": {
      "image/png": "[encoded data removed]",
      "text/plain": [
       "<matplotlib.figure.Figure at 0xcd12208>"
      ]
     },
     "metadata": {},
     "output_type": "display_data"
    }
   ],
   "source": [
    "nb_cm = metrics.confusion_matrix( y_test,nb_clf.predict( X_test) )\n",
    "sn.heatmap(nb_cm, annot=True,  fmt='.2f', xticklabels = [\"no\", \"Yes\"] , yticklabels = [\"No\", \"Yes\"] )\n",
    "plt.ylabel('True label')\n",
    "plt.xlabel('Predicted label')"
   ]
  },
  {
   "cell_type": "code",
   "execution_count": 43,
   "metadata": {},
   "outputs": [
    {
     "data": {
      "text/plain": [
       "0.94897959183673475"
      ]
     },
     "execution_count": 43,
     "metadata": {},
     "output_type": "execute_result"
    }
   ],
   "source": [
    "metrics.accuracy_score( y_test, nb_clf.predict( X_test ) )"
   ]
  },
  {
   "cell_type": "markdown",
   "metadata": {},
   "source": [
    "#### KNN"
   ]
  },
  {
   "cell_type": "code",
   "execution_count": 44,
   "metadata": {
    "collapsed": true
   },
   "outputs": [],
   "source": [
    "from sklearn.neighbors import KNeighborsClassifier\n",
    "from sklearn import metrics\n",
    "import seaborn as sn\n",
    "from sklearn.grid_search import GridSearchCV"
   ]
  },
  {
   "cell_type": "code",
   "execution_count": 45,
   "metadata": {
    "collapsed": true
   },
   "outputs": [],
   "source": [
    "KNeighborsClassifier?"
   ]
  },
  {
   "cell_type": "code",
   "execution_count": 46,
   "metadata": {
    "collapsed": true
   },
   "outputs": [],
   "source": [
    "tuned_parameters = [{'n_neighbors': [3,5, 7, 9,11]}]\n",
    "\n",
    "knn_clf = GridSearchCV(KNeighborsClassifier(),\n",
    "                   tuned_parameters,\n",
    "                   cv=5,\n",
    "                   scoring='accuracy')"
   ]
  },
  {
   "cell_type": "code",
   "execution_count": 47,
   "metadata": {},
   "outputs": [
    {
     "data": {
      "text/plain": [
       "0.9458603528879506"
      ]
     },
     "execution_count": 47,
     "metadata": {},
     "output_type": "execute_result"
    }
   ],
   "source": [
    "knn_clf.fit(X_train, y_train )\n",
    "\n",
    "knn_clf.best_score_"
   ]
  },
  {
   "cell_type": "code",
   "execution_count": 48,
   "metadata": {},
   "outputs": [
    {
     "data": {
      "text/plain": [
       "{'n_neighbors': 9}"
      ]
     },
     "execution_count": 48,
     "metadata": {},
     "output_type": "execute_result"
    }
   ],
   "source": [
    "knn_clf.best_params_"
   ]
  },
  {
   "cell_type": "code",
   "execution_count": 49,
   "metadata": {
    "collapsed": true
   },
   "outputs": [],
   "source": [
    "#Building for the n_neighbors=9\n",
    "knn_clf = KNeighborsClassifier( n_neighbors =9 )"
   ]
  },
  {
   "cell_type": "code",
   "execution_count": 50,
   "metadata": {},
   "outputs": [
    {
     "data": {
      "text/plain": [
       "KNeighborsClassifier(algorithm='auto', leaf_size=30, metric='minkowski',\n",
       "           metric_params=None, n_jobs=1, n_neighbors=9, p=2,\n",
       "           weights='uniform')"
      ]
     },
     "execution_count": 50,
     "metadata": {},
     "output_type": "execute_result"
    }
   ],
   "source": [
    "knn_clf.fit( X_train, y_train)"
   ]
  },
  {
   "cell_type": "code",
   "execution_count": 51,
   "metadata": {
    "collapsed": true
   },
   "outputs": [],
   "source": [
    "knn_cm = metrics.confusion_matrix( y_test, knn_clf.predict( X_test ) )"
   ]
  },
  {
   "cell_type": "code",
   "execution_count": 52,
   "metadata": {},
   "outputs": [
    {
     "data": {
      "text/plain": [
       "Text(0.5,16,'Predicted label')"
      ]
     },
     "execution_count": 52,
     "metadata": {},
     "output_type": "execute_result"
    },
    {
     "data": {
      "image/png": "[encoded data removed]",
      "text/plain": [
       "<matplotlib.figure.Figure at 0xcc91518>"
      ]
     },
     "metadata": {},
     "output_type": "display_data"
    }
   ],
   "source": [
    "sn.heatmap(knn_cm, annot=True,  fmt='.2f', xticklabels = [\"No\", \"Yes\"] , yticklabels = [\"No\", \"Yes\"] )\n",
    "plt.ylabel('True label')\n",
    "plt.xlabel('Predicted label')"
   ]
  },
  {
   "cell_type": "code",
   "execution_count": 53,
   "metadata": {},
   "outputs": [
    {
     "data": {
      "text/plain": [
       "0.94651653764954258"
      ]
     },
     "execution_count": 53,
     "metadata": {},
     "output_type": "execute_result"
    }
   ],
   "source": [
    "metrics.accuracy_score( y_test, knn_clf.predict( X_test ) )"
   ]
  },
  {
   "cell_type": "code",
   "execution_count": null,
   "metadata": {
    "collapsed": true
   },
   "outputs": [],
   "source": []
  }
 ],
 "metadata": {
  "kernelspec": {
   "display_name": "Python 3",
   "language": "python",
   "name": "python3"
  },
  "language_info": {
   "codemirror_mode": {
    "name": "ipython",
    "version": 3
   },
   "file_extension": ".py",
   "mimetype": "text/x-python",
   "name": "python",
   "nbconvert_exporter": "python",
   "pygments_lexer": "ipython3",
   "version": "3.6.3"
  }
 },
 "nbformat": 4,
 "nbformat_minor": 2
}
